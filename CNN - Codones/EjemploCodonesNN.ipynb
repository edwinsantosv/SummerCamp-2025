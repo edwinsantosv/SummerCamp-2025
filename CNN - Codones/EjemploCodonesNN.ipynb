{
 "cells": [
  {
   "cell_type": "markdown",
   "metadata": {},
   "source": [
    "Links interesantes:\n",
    "\n",
    "- Optuna:\n",
    "    Permite probar automaticamente varios experimentos\n",
    "    https://optuna.org/\n",
    "- Neptune AI: \n",
    "    Permite trackear tambien experimentos\n",
    "    https://neptune.ai/ "
   ]
  },
  {
   "cell_type": "code",
   "execution_count": 1,
   "metadata": {
    "colab": {
     "base_uri": "https://localhost:8080/"
    },
    "executionInfo": {
     "elapsed": 7768,
     "status": "ok",
     "timestamp": 1736758669934,
     "user": {
      "displayName": "Susan Lucy Palacios Salcedo",
      "userId": "03416602319916896534"
     },
     "user_tz": 240
    },
    "id": "eWFTuyN9s1E5",
    "outputId": "dac95034-bcdd-4669-a285-a48c424fc6ae"
   },
   "outputs": [],
   "source": [
    "# Agregando librerias lectura del archivo de dataset\n",
    "import pip\n",
    "import sys\n",
    "import os\n",
    "import pandas as pd\n",
    "import zipfile\n",
    "from io import BytesIO\n",
    "import requests\n",
    "\n",
    "#importando librerias para utilizar graficos con matplotlib\n",
    "import matplotlib.pyplot as plt\n",
    "import matplotlib as mpl\n",
    "import seaborn as sns\n",
    "import graphviz\n",
    "%matplotlib inline\n",
    "\n",
    "#librerias para lectura de dataset y otras operaciones\n",
    "from pprint import pprint\n",
    "import numpy as np\n",
    "import pandas as pd\n",
    "\n",
    "#liberias para el uso de modelos\n",
    "from sklearn.model_selection import train_test_split\n",
    "from sklearn.preprocessing import StandardScaler\n",
    "\n",
    "\n",
    "from tensorflow import keras\n",
    "from tensorflow.keras.models import Sequential\n",
    "from tensorflow.keras.layers import Dense, Dropout\n",
    "from tensorflow.keras.utils import to_categorical\n",
    "from tensorflow.keras.utils import plot_model\n",
    "from tensorflow.keras.optimizers import RMSprop, SGD, Adam\n",
    "from scipy.stats import reciprocal\n",
    "from sklearn.model_selection import RandomizedSearchCV\n",
    "import tensorflow as tf\n",
    "import pickle\n",
    "\n",
    "#libreria para metricas de evaluación\n",
    "from sklearn.metrics import confusion_matrix, mean_squared_error,accuracy_score,classification_report, roc_auc_score,roc_curve,RocCurveDisplay"
   ]
  },
  {
   "cell_type": "code",
   "execution_count": 2,
   "metadata": {
    "colab": {
     "base_uri": "https://localhost:8080/"
    },
    "executionInfo": {
     "elapsed": 1903,
     "status": "ok",
     "timestamp": 1736758671835,
     "user": {
      "displayName": "Susan Lucy Palacios Salcedo",
      "userId": "03416602319916896534"
     },
     "user_tz": 240
    },
    "id": "87oIvKd2tDQ_",
    "outputId": "f7591ac2-b002-496f-effc-90cf0fcca2c6"
   },
   "outputs": [
    {
     "name": "stderr",
     "output_type": "stream",
     "text": [
      "C:\\Users\\edwin\\AppData\\Local\\Temp\\ipykernel_28296\\2675544073.py:10: DtypeWarning: Columns (5,6) have mixed types. Specify dtype option on import or set low_memory=False.\n",
      "  df = pd.read_csv(zd, encoding='latin1', sep=',')\n"
     ]
    }
   ],
   "source": [
    "#Lectura y extracción del conjunto de datos\n",
    "url = 'https://archive.ics.uci.edu/ml/machine-learning-databases/00577/codon_usage.csv.zip'\n",
    "r = requests.get(url)\n",
    "buf1 = BytesIO(r.content)\n",
    "with zipfile.ZipFile(buf1, \"r\") as f:\n",
    "    for name in f.namelist():\n",
    "        if name.endswith('.csv'):\n",
    "            with f.open(name) as zd:\n",
    "              #Asignando los datos de DNA Codones a la variabel df\n",
    "                df = pd.read_csv(zd, encoding='latin1', sep=',')\n",
    "            break"
   ]
  },
  {
   "cell_type": "code",
   "execution_count": 3,
   "metadata": {
    "colab": {
     "base_uri": "https://localhost:8080/",
     "height": 394
    },
    "executionInfo": {
     "elapsed": 85,
     "status": "ok",
     "timestamp": 1736758671835,
     "user": {
      "displayName": "Susan Lucy Palacios Salcedo",
      "userId": "03416602319916896534"
     },
     "user_tz": 240
    },
    "id": "8unHe2i1xiyc",
    "outputId": "0355bfcc-e60f-45dd-9219-717fa5b64dc0"
   },
   "outputs": [
    {
     "data": {
      "text/html": [
       "<div>\n",
       "<style scoped>\n",
       "    .dataframe tbody tr th:only-of-type {\n",
       "        vertical-align: middle;\n",
       "    }\n",
       "\n",
       "    .dataframe tbody tr th {\n",
       "        vertical-align: top;\n",
       "    }\n",
       "\n",
       "    .dataframe thead th {\n",
       "        text-align: right;\n",
       "    }\n",
       "</style>\n",
       "<table border=\"1\" class=\"dataframe\">\n",
       "  <thead>\n",
       "    <tr style=\"text-align: right;\">\n",
       "      <th></th>\n",
       "      <th>Kingdom</th>\n",
       "      <th>DNAtype</th>\n",
       "      <th>SpeciesID</th>\n",
       "      <th>Ncodons</th>\n",
       "      <th>SpeciesName</th>\n",
       "      <th>UUU</th>\n",
       "      <th>UUC</th>\n",
       "      <th>UUA</th>\n",
       "      <th>UUG</th>\n",
       "      <th>CUU</th>\n",
       "      <th>...</th>\n",
       "      <th>CGG</th>\n",
       "      <th>AGA</th>\n",
       "      <th>AGG</th>\n",
       "      <th>GAU</th>\n",
       "      <th>GAC</th>\n",
       "      <th>GAA</th>\n",
       "      <th>GAG</th>\n",
       "      <th>UAA</th>\n",
       "      <th>UAG</th>\n",
       "      <th>UGA</th>\n",
       "    </tr>\n",
       "  </thead>\n",
       "  <tbody>\n",
       "    <tr>\n",
       "      <th>0</th>\n",
       "      <td>vrl</td>\n",
       "      <td>0</td>\n",
       "      <td>100217</td>\n",
       "      <td>1995</td>\n",
       "      <td>Epizootic haematopoietic necrosis virus</td>\n",
       "      <td>0.01654</td>\n",
       "      <td>0.01203</td>\n",
       "      <td>0.00050</td>\n",
       "      <td>0.00351</td>\n",
       "      <td>0.01203</td>\n",
       "      <td>...</td>\n",
       "      <td>0.00451</td>\n",
       "      <td>0.01303</td>\n",
       "      <td>0.03559</td>\n",
       "      <td>0.01003</td>\n",
       "      <td>0.04612</td>\n",
       "      <td>0.01203</td>\n",
       "      <td>0.04361</td>\n",
       "      <td>0.00251</td>\n",
       "      <td>0.00050</td>\n",
       "      <td>0.00000</td>\n",
       "    </tr>\n",
       "    <tr>\n",
       "      <th>1</th>\n",
       "      <td>vrl</td>\n",
       "      <td>0</td>\n",
       "      <td>100220</td>\n",
       "      <td>1474</td>\n",
       "      <td>Bohle iridovirus</td>\n",
       "      <td>0.02714</td>\n",
       "      <td>0.01357</td>\n",
       "      <td>0.00068</td>\n",
       "      <td>0.00678</td>\n",
       "      <td>0.00407</td>\n",
       "      <td>...</td>\n",
       "      <td>0.00136</td>\n",
       "      <td>0.01696</td>\n",
       "      <td>0.03596</td>\n",
       "      <td>0.01221</td>\n",
       "      <td>0.04545</td>\n",
       "      <td>0.01560</td>\n",
       "      <td>0.04410</td>\n",
       "      <td>0.00271</td>\n",
       "      <td>0.00068</td>\n",
       "      <td>0.00000</td>\n",
       "    </tr>\n",
       "    <tr>\n",
       "      <th>2</th>\n",
       "      <td>vrl</td>\n",
       "      <td>0</td>\n",
       "      <td>100755</td>\n",
       "      <td>4862</td>\n",
       "      <td>Sweet potato leaf curl virus</td>\n",
       "      <td>0.01974</td>\n",
       "      <td>0.0218</td>\n",
       "      <td>0.01357</td>\n",
       "      <td>0.01543</td>\n",
       "      <td>0.00782</td>\n",
       "      <td>...</td>\n",
       "      <td>0.00596</td>\n",
       "      <td>0.01974</td>\n",
       "      <td>0.02489</td>\n",
       "      <td>0.03126</td>\n",
       "      <td>0.02036</td>\n",
       "      <td>0.02242</td>\n",
       "      <td>0.02468</td>\n",
       "      <td>0.00391</td>\n",
       "      <td>0.00000</td>\n",
       "      <td>0.00144</td>\n",
       "    </tr>\n",
       "    <tr>\n",
       "      <th>3</th>\n",
       "      <td>vrl</td>\n",
       "      <td>0</td>\n",
       "      <td>100880</td>\n",
       "      <td>1915</td>\n",
       "      <td>Northern cereal mosaic virus</td>\n",
       "      <td>0.01775</td>\n",
       "      <td>0.02245</td>\n",
       "      <td>0.01619</td>\n",
       "      <td>0.00992</td>\n",
       "      <td>0.01567</td>\n",
       "      <td>...</td>\n",
       "      <td>0.00366</td>\n",
       "      <td>0.01410</td>\n",
       "      <td>0.01671</td>\n",
       "      <td>0.03760</td>\n",
       "      <td>0.01932</td>\n",
       "      <td>0.03029</td>\n",
       "      <td>0.03446</td>\n",
       "      <td>0.00261</td>\n",
       "      <td>0.00157</td>\n",
       "      <td>0.00000</td>\n",
       "    </tr>\n",
       "    <tr>\n",
       "      <th>4</th>\n",
       "      <td>vrl</td>\n",
       "      <td>0</td>\n",
       "      <td>100887</td>\n",
       "      <td>22831</td>\n",
       "      <td>Soil-borne cereal mosaic virus</td>\n",
       "      <td>0.02816</td>\n",
       "      <td>0.01371</td>\n",
       "      <td>0.00767</td>\n",
       "      <td>0.03679</td>\n",
       "      <td>0.01380</td>\n",
       "      <td>...</td>\n",
       "      <td>0.00604</td>\n",
       "      <td>0.01494</td>\n",
       "      <td>0.01734</td>\n",
       "      <td>0.04148</td>\n",
       "      <td>0.02483</td>\n",
       "      <td>0.03359</td>\n",
       "      <td>0.03679</td>\n",
       "      <td>0.00000</td>\n",
       "      <td>0.00044</td>\n",
       "      <td>0.00131</td>\n",
       "    </tr>\n",
       "  </tbody>\n",
       "</table>\n",
       "<p>5 rows × 69 columns</p>\n",
       "</div>"
      ],
      "text/plain": [
       "  Kingdom  DNAtype  SpeciesID  Ncodons  \\\n",
       "0     vrl        0     100217     1995   \n",
       "1     vrl        0     100220     1474   \n",
       "2     vrl        0     100755     4862   \n",
       "3     vrl        0     100880     1915   \n",
       "4     vrl        0     100887    22831   \n",
       "\n",
       "                               SpeciesName      UUU      UUC      UUA  \\\n",
       "0  Epizootic haematopoietic necrosis virus  0.01654  0.01203  0.00050   \n",
       "1                         Bohle iridovirus  0.02714  0.01357  0.00068   \n",
       "2             Sweet potato leaf curl virus  0.01974   0.0218  0.01357   \n",
       "3             Northern cereal mosaic virus  0.01775  0.02245  0.01619   \n",
       "4           Soil-borne cereal mosaic virus  0.02816  0.01371  0.00767   \n",
       "\n",
       "       UUG      CUU  ...      CGG      AGA      AGG      GAU      GAC  \\\n",
       "0  0.00351  0.01203  ...  0.00451  0.01303  0.03559  0.01003  0.04612   \n",
       "1  0.00678  0.00407  ...  0.00136  0.01696  0.03596  0.01221  0.04545   \n",
       "2  0.01543  0.00782  ...  0.00596  0.01974  0.02489  0.03126  0.02036   \n",
       "3  0.00992  0.01567  ...  0.00366  0.01410  0.01671  0.03760  0.01932   \n",
       "4  0.03679  0.01380  ...  0.00604  0.01494  0.01734  0.04148  0.02483   \n",
       "\n",
       "       GAA      GAG      UAA      UAG      UGA  \n",
       "0  0.01203  0.04361  0.00251  0.00050  0.00000  \n",
       "1  0.01560  0.04410  0.00271  0.00068  0.00000  \n",
       "2  0.02242  0.02468  0.00391  0.00000  0.00144  \n",
       "3  0.03029  0.03446  0.00261  0.00157  0.00000  \n",
       "4  0.03359  0.03679  0.00000  0.00044  0.00131  \n",
       "\n",
       "[5 rows x 69 columns]"
      ]
     },
     "execution_count": 3,
     "metadata": {},
     "output_type": "execute_result"
    }
   ],
   "source": [
    "#verificar los datos de condones\n",
    "df.head()"
   ]
  },
  {
   "cell_type": "code",
   "execution_count": 4,
   "metadata": {
    "colab": {
     "base_uri": "https://localhost:8080/"
    },
    "executionInfo": {
     "elapsed": 76,
     "status": "ok",
     "timestamp": 1736758671835,
     "user": {
      "displayName": "Susan Lucy Palacios Salcedo",
      "userId": "03416602319916896534"
     },
     "user_tz": 240
    },
    "id": "3BMXLtP2xk4e",
    "outputId": "f43a6dac-88b0-4d94-ccca-33b6ae1e2e08"
   },
   "outputs": [
    {
     "name": "stdout",
     "output_type": "stream",
     "text": [
      "<class 'pandas.core.frame.DataFrame'>\n",
      "RangeIndex: 13028 entries, 0 to 13027\n",
      "Data columns (total 69 columns):\n",
      " #   Column       Non-Null Count  Dtype  \n",
      "---  ------       --------------  -----  \n",
      " 0   Kingdom      13028 non-null  object \n",
      " 1   DNAtype      13028 non-null  int64  \n",
      " 2   SpeciesID    13028 non-null  int64  \n",
      " 3   Ncodons      13028 non-null  int64  \n",
      " 4   SpeciesName  13028 non-null  object \n",
      " 5   UUU          13028 non-null  object \n",
      " 6   UUC          13028 non-null  object \n",
      " 7   UUA          13028 non-null  float64\n",
      " 8   UUG          13028 non-null  float64\n",
      " 9   CUU          13028 non-null  float64\n",
      " 10  CUC          13028 non-null  float64\n",
      " 11  CUA          13028 non-null  float64\n",
      " 12  CUG          13028 non-null  float64\n",
      " 13  AUU          13028 non-null  float64\n",
      " 14  AUC          13028 non-null  float64\n",
      " 15  AUA          13028 non-null  float64\n",
      " 16  AUG          13028 non-null  float64\n",
      " 17  GUU          13028 non-null  float64\n",
      " 18  GUC          13028 non-null  float64\n",
      " 19  GUA          13028 non-null  float64\n",
      " 20  GUG          13028 non-null  float64\n",
      " 21  GCU          13028 non-null  float64\n",
      " 22  GCC          13028 non-null  float64\n",
      " 23  GCA          13028 non-null  float64\n",
      " 24  GCG          13028 non-null  float64\n",
      " 25  CCU          13028 non-null  float64\n",
      " 26  CCC          13028 non-null  float64\n",
      " 27  CCA          13028 non-null  float64\n",
      " 28  CCG          13028 non-null  float64\n",
      " 29  UGG          13028 non-null  float64\n",
      " 30  GGU          13028 non-null  float64\n",
      " 31  GGC          13028 non-null  float64\n",
      " 32  GGA          13028 non-null  float64\n",
      " 33  GGG          13028 non-null  float64\n",
      " 34  UCU          13028 non-null  float64\n",
      " 35  UCC          13028 non-null  float64\n",
      " 36  UCA          13028 non-null  float64\n",
      " 37  UCG          13028 non-null  float64\n",
      " 38  AGU          13028 non-null  float64\n",
      " 39  AGC          13028 non-null  float64\n",
      " 40  ACU          13028 non-null  float64\n",
      " 41  ACC          13028 non-null  float64\n",
      " 42  ACA          13028 non-null  float64\n",
      " 43  ACG          13028 non-null  float64\n",
      " 44  UAU          13028 non-null  float64\n",
      " 45  UAC          13028 non-null  float64\n",
      " 46  CAA          13028 non-null  float64\n",
      " 47  CAG          13028 non-null  float64\n",
      " 48  AAU          13028 non-null  float64\n",
      " 49  AAC          13028 non-null  float64\n",
      " 50  UGU          13028 non-null  float64\n",
      " 51  UGC          13028 non-null  float64\n",
      " 52  CAU          13028 non-null  float64\n",
      " 53  CAC          13028 non-null  float64\n",
      " 54  AAA          13028 non-null  float64\n",
      " 55  AAG          13028 non-null  float64\n",
      " 56  CGU          13028 non-null  float64\n",
      " 57  CGC          13028 non-null  float64\n",
      " 58  CGA          13028 non-null  float64\n",
      " 59  CGG          13028 non-null  float64\n",
      " 60  AGA          13028 non-null  float64\n",
      " 61  AGG          13028 non-null  float64\n",
      " 62  GAU          13028 non-null  float64\n",
      " 63  GAC          13028 non-null  float64\n",
      " 64  GAA          13028 non-null  float64\n",
      " 65  GAG          13028 non-null  float64\n",
      " 66  UAA          13028 non-null  float64\n",
      " 67  UAG          13028 non-null  float64\n",
      " 68  UGA          13028 non-null  float64\n",
      "dtypes: float64(62), int64(3), object(4)\n",
      "memory usage: 6.9+ MB\n"
     ]
    }
   ],
   "source": [
    "#verificar la información de las dimensiones\n",
    "df.info()"
   ]
  },
  {
   "cell_type": "code",
   "execution_count": 5,
   "metadata": {
    "colab": {
     "base_uri": "https://localhost:8080/",
     "height": 458
    },
    "executionInfo": {
     "elapsed": 75,
     "status": "ok",
     "timestamp": 1736758671836,
     "user": {
      "displayName": "Susan Lucy Palacios Salcedo",
      "userId": "03416602319916896534"
     },
     "user_tz": 240
    },
    "id": "C3j_94-_xseG",
    "outputId": "4bf1eae9-50b5-4793-9f06-95b741f9b44a"
   },
   "outputs": [
    {
     "data": {
      "text/plain": [
       "Kingdom        0.000844\n",
       "DNAtype        0.000844\n",
       "SpeciesID      0.949340\n",
       "Ncodons        0.545210\n",
       "SpeciesName    0.999079\n",
       "                 ...   \n",
       "GAA            0.370510\n",
       "GAG            0.359687\n",
       "UAA            0.053961\n",
       "UAG            0.032392\n",
       "UGA            0.137089\n",
       "Length: 69, dtype: float64"
      ]
     },
     "execution_count": 5,
     "metadata": {},
     "output_type": "execute_result"
    }
   ],
   "source": [
    "#verificar los datos únicos\n",
    "df.nunique() / len(df)"
   ]
  },
  {
   "cell_type": "code",
   "execution_count": 6,
   "metadata": {
    "colab": {
     "base_uri": "https://localhost:8080/",
     "height": 350
    },
    "executionInfo": {
     "elapsed": 73,
     "status": "ok",
     "timestamp": 1736758671836,
     "user": {
      "displayName": "Susan Lucy Palacios Salcedo",
      "userId": "03416602319916896534"
     },
     "user_tz": 240
    },
    "id": "4oFShnV4xwxl",
    "outputId": "fecdc96c-ac7a-484f-b25a-bb13d8e50e0d"
   },
   "outputs": [
    {
     "data": {
      "text/html": [
       "<div>\n",
       "<style scoped>\n",
       "    .dataframe tbody tr th:only-of-type {\n",
       "        vertical-align: middle;\n",
       "    }\n",
       "\n",
       "    .dataframe tbody tr th {\n",
       "        vertical-align: top;\n",
       "    }\n",
       "\n",
       "    .dataframe thead th {\n",
       "        text-align: right;\n",
       "    }\n",
       "</style>\n",
       "<table border=\"1\" class=\"dataframe\">\n",
       "  <thead>\n",
       "    <tr style=\"text-align: right;\">\n",
       "      <th></th>\n",
       "      <th>DNAtype</th>\n",
       "      <th>SpeciesID</th>\n",
       "      <th>Ncodons</th>\n",
       "      <th>UUA</th>\n",
       "      <th>UUG</th>\n",
       "      <th>CUU</th>\n",
       "      <th>CUC</th>\n",
       "      <th>CUA</th>\n",
       "      <th>CUG</th>\n",
       "      <th>AUU</th>\n",
       "      <th>...</th>\n",
       "      <th>CGG</th>\n",
       "      <th>AGA</th>\n",
       "      <th>AGG</th>\n",
       "      <th>GAU</th>\n",
       "      <th>GAC</th>\n",
       "      <th>GAA</th>\n",
       "      <th>GAG</th>\n",
       "      <th>UAA</th>\n",
       "      <th>UAG</th>\n",
       "      <th>UGA</th>\n",
       "    </tr>\n",
       "  </thead>\n",
       "  <tbody>\n",
       "    <tr>\n",
       "      <th>count</th>\n",
       "      <td>13028.000000</td>\n",
       "      <td>13028.000000</td>\n",
       "      <td>1.302800e+04</td>\n",
       "      <td>13028.000000</td>\n",
       "      <td>13028.000000</td>\n",
       "      <td>13028.000000</td>\n",
       "      <td>13028.000000</td>\n",
       "      <td>13028.000000</td>\n",
       "      <td>13028.000000</td>\n",
       "      <td>13028.000000</td>\n",
       "      <td>...</td>\n",
       "      <td>13028.000000</td>\n",
       "      <td>13028.000000</td>\n",
       "      <td>13028.000000</td>\n",
       "      <td>13028.000000</td>\n",
       "      <td>13028.000000</td>\n",
       "      <td>13028.000000</td>\n",
       "      <td>13028.000000</td>\n",
       "      <td>13028.000000</td>\n",
       "      <td>13028.000000</td>\n",
       "      <td>13028.000000</td>\n",
       "    </tr>\n",
       "    <tr>\n",
       "      <th>mean</th>\n",
       "      <td>0.367209</td>\n",
       "      <td>130451.105926</td>\n",
       "      <td>7.960576e+04</td>\n",
       "      <td>0.020637</td>\n",
       "      <td>0.014104</td>\n",
       "      <td>0.017820</td>\n",
       "      <td>0.018288</td>\n",
       "      <td>0.019044</td>\n",
       "      <td>0.018450</td>\n",
       "      <td>0.028352</td>\n",
       "      <td>...</td>\n",
       "      <td>0.005454</td>\n",
       "      <td>0.009929</td>\n",
       "      <td>0.006422</td>\n",
       "      <td>0.024178</td>\n",
       "      <td>0.021164</td>\n",
       "      <td>0.028290</td>\n",
       "      <td>0.021683</td>\n",
       "      <td>0.001645</td>\n",
       "      <td>0.000592</td>\n",
       "      <td>0.006178</td>\n",
       "    </tr>\n",
       "    <tr>\n",
       "      <th>std</th>\n",
       "      <td>0.688726</td>\n",
       "      <td>124787.086107</td>\n",
       "      <td>7.197010e+05</td>\n",
       "      <td>0.020709</td>\n",
       "      <td>0.009280</td>\n",
       "      <td>0.010586</td>\n",
       "      <td>0.014572</td>\n",
       "      <td>0.024250</td>\n",
       "      <td>0.016578</td>\n",
       "      <td>0.017507</td>\n",
       "      <td>...</td>\n",
       "      <td>0.006605</td>\n",
       "      <td>0.008574</td>\n",
       "      <td>0.006387</td>\n",
       "      <td>0.013828</td>\n",
       "      <td>0.013041</td>\n",
       "      <td>0.014342</td>\n",
       "      <td>0.015018</td>\n",
       "      <td>0.001834</td>\n",
       "      <td>0.000907</td>\n",
       "      <td>0.010344</td>\n",
       "    </tr>\n",
       "    <tr>\n",
       "      <th>min</th>\n",
       "      <td>0.000000</td>\n",
       "      <td>7.000000</td>\n",
       "      <td>1.000000e+03</td>\n",
       "      <td>0.000000</td>\n",
       "      <td>0.000000</td>\n",
       "      <td>0.000000</td>\n",
       "      <td>0.000000</td>\n",
       "      <td>0.000000</td>\n",
       "      <td>0.000000</td>\n",
       "      <td>0.000000</td>\n",
       "      <td>...</td>\n",
       "      <td>0.000000</td>\n",
       "      <td>0.000000</td>\n",
       "      <td>0.000000</td>\n",
       "      <td>0.000000</td>\n",
       "      <td>0.000000</td>\n",
       "      <td>0.000000</td>\n",
       "      <td>0.000000</td>\n",
       "      <td>0.000000</td>\n",
       "      <td>0.000000</td>\n",
       "      <td>0.000000</td>\n",
       "    </tr>\n",
       "    <tr>\n",
       "      <th>25%</th>\n",
       "      <td>0.000000</td>\n",
       "      <td>28850.750000</td>\n",
       "      <td>1.602000e+03</td>\n",
       "      <td>0.005610</td>\n",
       "      <td>0.007108</td>\n",
       "      <td>0.010890</td>\n",
       "      <td>0.007830</td>\n",
       "      <td>0.005307</td>\n",
       "      <td>0.007180</td>\n",
       "      <td>0.016360</td>\n",
       "      <td>...</td>\n",
       "      <td>0.001220</td>\n",
       "      <td>0.001690</td>\n",
       "      <td>0.001170</td>\n",
       "      <td>0.012380</td>\n",
       "      <td>0.011860</td>\n",
       "      <td>0.017360</td>\n",
       "      <td>0.009710</td>\n",
       "      <td>0.000560</td>\n",
       "      <td>0.000000</td>\n",
       "      <td>0.000410</td>\n",
       "    </tr>\n",
       "    <tr>\n",
       "      <th>50%</th>\n",
       "      <td>0.000000</td>\n",
       "      <td>81971.500000</td>\n",
       "      <td>2.927500e+03</td>\n",
       "      <td>0.015260</td>\n",
       "      <td>0.013360</td>\n",
       "      <td>0.016130</td>\n",
       "      <td>0.014560</td>\n",
       "      <td>0.009685</td>\n",
       "      <td>0.012800</td>\n",
       "      <td>0.025475</td>\n",
       "      <td>...</td>\n",
       "      <td>0.003530</td>\n",
       "      <td>0.009270</td>\n",
       "      <td>0.004545</td>\n",
       "      <td>0.025420</td>\n",
       "      <td>0.019070</td>\n",
       "      <td>0.026085</td>\n",
       "      <td>0.020540</td>\n",
       "      <td>0.001380</td>\n",
       "      <td>0.000420</td>\n",
       "      <td>0.001130</td>\n",
       "    </tr>\n",
       "    <tr>\n",
       "      <th>75%</th>\n",
       "      <td>1.000000</td>\n",
       "      <td>222891.250000</td>\n",
       "      <td>9.120000e+03</td>\n",
       "      <td>0.029485</td>\n",
       "      <td>0.019810</td>\n",
       "      <td>0.022730</td>\n",
       "      <td>0.025112</td>\n",
       "      <td>0.017245</td>\n",
       "      <td>0.024315</td>\n",
       "      <td>0.038113</td>\n",
       "      <td>...</td>\n",
       "      <td>0.007150</td>\n",
       "      <td>0.015922</td>\n",
       "      <td>0.010250</td>\n",
       "      <td>0.034190</td>\n",
       "      <td>0.027690</td>\n",
       "      <td>0.036800</td>\n",
       "      <td>0.031122</td>\n",
       "      <td>0.002370</td>\n",
       "      <td>0.000830</td>\n",
       "      <td>0.002890</td>\n",
       "    </tr>\n",
       "    <tr>\n",
       "      <th>max</th>\n",
       "      <td>12.000000</td>\n",
       "      <td>465364.000000</td>\n",
       "      <td>4.066258e+07</td>\n",
       "      <td>0.151330</td>\n",
       "      <td>0.101190</td>\n",
       "      <td>0.089780</td>\n",
       "      <td>0.100350</td>\n",
       "      <td>0.163920</td>\n",
       "      <td>0.107370</td>\n",
       "      <td>0.154060</td>\n",
       "      <td>...</td>\n",
       "      <td>0.055540</td>\n",
       "      <td>0.098830</td>\n",
       "      <td>0.058430</td>\n",
       "      <td>0.185660</td>\n",
       "      <td>0.113840</td>\n",
       "      <td>0.144890</td>\n",
       "      <td>0.158550</td>\n",
       "      <td>0.045200</td>\n",
       "      <td>0.025610</td>\n",
       "      <td>0.106700</td>\n",
       "    </tr>\n",
       "  </tbody>\n",
       "</table>\n",
       "<p>8 rows × 65 columns</p>\n",
       "</div>"
      ],
      "text/plain": [
       "            DNAtype      SpeciesID       Ncodons           UUA           UUG  \\\n",
       "count  13028.000000   13028.000000  1.302800e+04  13028.000000  13028.000000   \n",
       "mean       0.367209  130451.105926  7.960576e+04      0.020637      0.014104   \n",
       "std        0.688726  124787.086107  7.197010e+05      0.020709      0.009280   \n",
       "min        0.000000       7.000000  1.000000e+03      0.000000      0.000000   \n",
       "25%        0.000000   28850.750000  1.602000e+03      0.005610      0.007108   \n",
       "50%        0.000000   81971.500000  2.927500e+03      0.015260      0.013360   \n",
       "75%        1.000000  222891.250000  9.120000e+03      0.029485      0.019810   \n",
       "max       12.000000  465364.000000  4.066258e+07      0.151330      0.101190   \n",
       "\n",
       "                CUU           CUC           CUA           CUG           AUU  \\\n",
       "count  13028.000000  13028.000000  13028.000000  13028.000000  13028.000000   \n",
       "mean       0.017820      0.018288      0.019044      0.018450      0.028352   \n",
       "std        0.010586      0.014572      0.024250      0.016578      0.017507   \n",
       "min        0.000000      0.000000      0.000000      0.000000      0.000000   \n",
       "25%        0.010890      0.007830      0.005307      0.007180      0.016360   \n",
       "50%        0.016130      0.014560      0.009685      0.012800      0.025475   \n",
       "75%        0.022730      0.025112      0.017245      0.024315      0.038113   \n",
       "max        0.089780      0.100350      0.163920      0.107370      0.154060   \n",
       "\n",
       "       ...           CGG           AGA           AGG           GAU  \\\n",
       "count  ...  13028.000000  13028.000000  13028.000000  13028.000000   \n",
       "mean   ...      0.005454      0.009929      0.006422      0.024178   \n",
       "std    ...      0.006605      0.008574      0.006387      0.013828   \n",
       "min    ...      0.000000      0.000000      0.000000      0.000000   \n",
       "25%    ...      0.001220      0.001690      0.001170      0.012380   \n",
       "50%    ...      0.003530      0.009270      0.004545      0.025420   \n",
       "75%    ...      0.007150      0.015922      0.010250      0.034190   \n",
       "max    ...      0.055540      0.098830      0.058430      0.185660   \n",
       "\n",
       "                GAC           GAA           GAG           UAA           UAG  \\\n",
       "count  13028.000000  13028.000000  13028.000000  13028.000000  13028.000000   \n",
       "mean       0.021164      0.028290      0.021683      0.001645      0.000592   \n",
       "std        0.013041      0.014342      0.015018      0.001834      0.000907   \n",
       "min        0.000000      0.000000      0.000000      0.000000      0.000000   \n",
       "25%        0.011860      0.017360      0.009710      0.000560      0.000000   \n",
       "50%        0.019070      0.026085      0.020540      0.001380      0.000420   \n",
       "75%        0.027690      0.036800      0.031122      0.002370      0.000830   \n",
       "max        0.113840      0.144890      0.158550      0.045200      0.025610   \n",
       "\n",
       "                UGA  \n",
       "count  13028.000000  \n",
       "mean       0.006178  \n",
       "std        0.010344  \n",
       "min        0.000000  \n",
       "25%        0.000410  \n",
       "50%        0.001130  \n",
       "75%        0.002890  \n",
       "max        0.106700  \n",
       "\n",
       "[8 rows x 65 columns]"
      ]
     },
     "execution_count": 6,
     "metadata": {},
     "output_type": "execute_result"
    }
   ],
   "source": [
    "#Mostrando estadistica de las dimensiones\n",
    "df.describe()"
   ]
  },
  {
   "cell_type": "code",
   "execution_count": 7,
   "metadata": {
    "id": "5xWzeZCulwAy"
   },
   "outputs": [
    {
     "data": {
      "text/plain": [
       "0     9267\n",
       "1     2899\n",
       "2      816\n",
       "4       31\n",
       "12       5\n",
       "3        2\n",
       "9        2\n",
       "5        2\n",
       "11       2\n",
       "6        1\n",
       "7        1\n",
       "Name: DNAtype, dtype: int64"
      ]
     },
     "execution_count": 7,
     "metadata": {},
     "output_type": "execute_result"
    }
   ],
   "source": [
    "#Ver la cantidad de registros por cada clase DNA type\n",
    "df['DNAtype'].value_counts()"
   ]
  },
  {
   "cell_type": "code",
   "execution_count": 8,
   "metadata": {
    "colab": {
     "base_uri": "https://localhost:8080/"
    },
    "executionInfo": {
     "elapsed": 26,
     "status": "ok",
     "timestamp": 1736758672213,
     "user": {
      "displayName": "Susan Lucy Palacios Salcedo",
      "userId": "03416602319916896534"
     },
     "user_tz": 240
    },
    "id": "S6yNog49zz2D",
    "outputId": "e455f623-cfbf-4697-edd5-774382a135b8"
   },
   "outputs": [
    {
     "name": "stdout",
     "output_type": "stream",
     "text": [
      "could not convert string to float: 'non-B hepatitis virus'\n"
     ]
    }
   ],
   "source": [
    "#Convertir a tipo flotar las dimensiones de tipo objetov\n",
    "try:\n",
    "  df[\"UUU\"] = df[\"UUU\"].astype(\"float\") # ValueError: could not convert string to float\n",
    "  df[\"UUC\"] = df[\"UUC\"].astype(\"float\")\n",
    "except Exception as e:\n",
    "  print(e)"
   ]
  },
  {
   "cell_type": "code",
   "execution_count": 9,
   "metadata": {
    "executionInfo": {
     "elapsed": 24,
     "status": "ok",
     "timestamp": 1736758672213,
     "user": {
      "displayName": "Susan Lucy Palacios Salcedo",
      "userId": "03416602319916896534"
     },
     "user_tz": 240
    },
    "id": "UayzYB9hz8am"
   },
   "outputs": [],
   "source": [
    "#Verificando datos atípicos y convirtiendo a númericos las dimensiones UUU y UUC\n",
    "#Con el análisis anterior se pudo verificar que la dimensión UUU y UUC son de tipo objetos\n",
    "#por tanto, deducimos que debe existir algún dato atípico\n",
    "\n",
    "# errors=\"coerce\" asigna NaN los datos no numéricos\n",
    "df[\"UUU\"] = pd.to_numeric(df[\"UUU\"], errors=\"coerce\")\n",
    "df[\"UUC\"] = pd.to_numeric(df[\"UUC\"], errors=\"coerce\")"
   ]
  },
  {
   "cell_type": "code",
   "execution_count": 10,
   "metadata": {
    "colab": {
     "base_uri": "https://localhost:8080/"
    },
    "executionInfo": {
     "elapsed": 24,
     "status": "ok",
     "timestamp": 1736758672214,
     "user": {
      "displayName": "Susan Lucy Palacios Salcedo",
      "userId": "03416602319916896534"
     },
     "user_tz": 240
    },
    "id": "ce4YM4C6yjS_",
    "outputId": "bdbf0a3a-a072-4683-8f53-90f8ceade61d"
   },
   "outputs": [
    {
     "data": {
      "text/plain": [
       "2"
      ]
     },
     "execution_count": 10,
     "metadata": {},
     "output_type": "execute_result"
    }
   ],
   "source": [
    "df['UUU'].isnull().sum()"
   ]
  },
  {
   "cell_type": "code",
   "execution_count": 11,
   "metadata": {
    "colab": {
     "base_uri": "https://localhost:8080/"
    },
    "executionInfo": {
     "elapsed": 20,
     "status": "ok",
     "timestamp": 1736758672214,
     "user": {
      "displayName": "Susan Lucy Palacios Salcedo",
      "userId": "03416602319916896534"
     },
     "user_tz": 240
    },
    "id": "Mt0x_y5o0Avu",
    "outputId": "7a62d7ac-7e43-4bae-dc3f-38f056233d1c"
   },
   "outputs": [
    {
     "data": {
      "text/plain": [
       "1"
      ]
     },
     "execution_count": 11,
     "metadata": {},
     "output_type": "execute_result"
    }
   ],
   "source": [
    "df['UUC'].isnull().sum()"
   ]
  },
  {
   "cell_type": "code",
   "execution_count": 12,
   "metadata": {
    "executionInfo": {
     "elapsed": 17,
     "status": "ok",
     "timestamp": 1736758672214,
     "user": {
      "displayName": "Susan Lucy Palacios Salcedo",
      "userId": "03416602319916896534"
     },
     "user_tz": 240
    },
    "id": "NXN8BW8F0HFC"
   },
   "outputs": [],
   "source": [
    "#eliminar registros que tienen valores NAN (para este caso sólo eliminará dos registros)\n",
    "df.dropna(inplace=True)"
   ]
  },
  {
   "cell_type": "code",
   "execution_count": 13,
   "metadata": {
    "executionInfo": {
     "elapsed": 16,
     "status": "ok",
     "timestamp": 1736758672214,
     "user": {
      "displayName": "Susan Lucy Palacios Salcedo",
      "userId": "03416602319916896534"
     },
     "user_tz": 240
    },
    "id": "hxJ9rg8r0JEq"
   },
   "outputs": [],
   "source": [
    "#Eliminado datos únicos\n",
    "df.drop(['SpeciesID','SpeciesName'], axis=1, inplace=True)"
   ]
  },
  {
   "cell_type": "code",
   "execution_count": 15,
   "metadata": {
    "executionInfo": {
     "elapsed": 15,
     "status": "ok",
     "timestamp": 1736758672214,
     "user": {
      "displayName": "Susan Lucy Palacios Salcedo",
      "userId": "03416602319916896534"
     },
     "user_tz": 240
    },
    "id": "x6M7--BA0OZQ"
   },
   "outputs": [],
   "source": [
    "#contar las cantidades por cada clase\n",
    "count_dnatype = df['DNAtype'].value_counts()\n",
    "\n",
    "# convirtiendo a tipo dataframa las clases DNAType & cantidad\n",
    "df_counts_dna = pd.DataFrame(count_dnatype)\n",
    "df_counts_reset_dna = df_counts_dna.reset_index()\n",
    "df_counts_reset_dna.columns = ['DNAType_unique', 'counts'] # change column names\n",
    "\n",
    "#luego de convertir debemos eliminar las clases que tienen menores o iguales a 31 registros,\n",
    "# porque son muy pocos para que se puedan entrenar en el modelo\n",
    "for i in range(len(df_counts_reset_dna)):\n",
    "  if df_counts_reset_dna['counts'][i] <= 31:\n",
    "    df.drop(df[df['DNAtype']==df_counts_reset_dna['DNAType_unique'][i]].index, axis=0, inplace=True)"
   ]
  },
  {
   "cell_type": "code",
   "execution_count": 16,
   "metadata": {
    "colab": {
     "base_uri": "https://localhost:8080/"
    },
    "executionInfo": {
     "elapsed": 15,
     "status": "ok",
     "timestamp": 1736758672214,
     "user": {
      "displayName": "Susan Lucy Palacios Salcedo",
      "userId": "03416602319916896534"
     },
     "user_tz": 240
    },
    "id": "Ep7Tw1hf0mvj",
    "outputId": "8a2dfb53-86cb-4721-db36-cea695b4a59b"
   },
   "outputs": [
    {
     "data": {
      "text/plain": [
       "(12980, 67)"
      ]
     },
     "execution_count": 16,
     "metadata": {},
     "output_type": "execute_result"
    }
   ],
   "source": [
    "df.shape"
   ]
  },
  {
   "cell_type": "code",
   "execution_count": 17,
   "metadata": {
    "executionInfo": {
     "elapsed": 12,
     "status": "ok",
     "timestamp": 1736758672215,
     "user": {
      "displayName": "Susan Lucy Palacios Salcedo",
      "userId": "03416602319916896534"
     },
     "user_tz": 240
    },
    "id": "moPJxicl01q5"
   },
   "outputs": [],
   "source": [
    "#seperando las dimensiones en \"X\" y \"Y\"\n",
    "# eliminamos 'Kingdom',  porque tienen variables únicas\n",
    "\n",
    "X_dna = df.drop(columns = ['DNAtype', 'Kingdom'], axis = 1)\n",
    "y_dna = df['DNAtype']"
   ]
  },
  {
   "cell_type": "code",
   "execution_count": 18,
   "metadata": {
    "executionInfo": {
     "elapsed": 458,
     "status": "ok",
     "timestamp": 1736758672661,
     "user": {
      "displayName": "Susan Lucy Palacios Salcedo",
      "userId": "03416602319916896534"
     },
     "user_tz": 240
    },
    "id": "nan_b7s71ht8"
   },
   "outputs": [],
   "source": [
    "from sklearn import preprocessing\n",
    "# Normalizando los datos para X de DNA\n",
    "scaler = preprocessing.StandardScaler()\n",
    "scaler.fit(X_dna)\n",
    "X_dna = scaler.transform(X_dna)"
   ]
  },
  {
   "cell_type": "code",
   "execution_count": 19,
   "metadata": {
    "executionInfo": {
     "elapsed": 15,
     "status": "ok",
     "timestamp": 1736758672662,
     "user": {
      "displayName": "Susan Lucy Palacios Salcedo",
      "userId": "03416602319916896534"
     },
     "user_tz": 240
    },
    "id": "W7C-dw-x1peE"
   },
   "outputs": [],
   "source": [
    "X_train_dna, X_test_dna, y_train_dna, y_test_dna = train_test_split(X_dna, y_dna, test_size=0.2, stratify=y_dna, random_state=42)"
   ]
  },
  {
   "cell_type": "code",
   "execution_count": 20,
   "metadata": {
    "colab": {
     "base_uri": "https://localhost:8080/"
    },
    "executionInfo": {
     "elapsed": 14,
     "status": "ok",
     "timestamp": 1736758672662,
     "user": {
      "displayName": "Susan Lucy Palacios Salcedo",
      "userId": "03416602319916896534"
     },
     "user_tz": 240
    },
    "id": "hAWIq8Lb3po6",
    "outputId": "d1ef566d-302d-4745-829e-17332c4adbc7"
   },
   "outputs": [
    {
     "name": "stdout",
     "output_type": "stream",
     "text": [
      "Dimension de datos de entrenamiento (10384, 65)\n",
      "Dimension de datos des target (10384,)\n"
     ]
    }
   ],
   "source": [
    "print(\"Dimension de datos de entrenamiento\",X_train_dna.shape)\n",
    "print(\"Dimension de datos des target\",y_train_dna.shape)"
   ]
  },
  {
   "cell_type": "markdown",
   "metadata": {},
   "source": [
    "Se prueba hasta que se obtiene el numero correcto:"
   ]
  },
  {
   "cell_type": "code",
   "execution_count": 21,
   "metadata": {
    "colab": {
     "base_uri": "https://localhost:8080/"
    },
    "executionInfo": {
     "elapsed": 13,
     "status": "ok",
     "timestamp": 1736758672662,
     "user": {
      "displayName": "Susan Lucy Palacios Salcedo",
      "userId": "03416602319916896534"
     },
     "user_tz": 240
    },
    "id": "_9hJX6Hi12zl",
    "outputId": "d19588df-23cc-4135-de11-35940927efee"
   },
   "outputs": [],
   "source": [
    "modelnn =Sequential()\n",
    "modelnn.add(Dense(97, activation='relu', input_dim=X_train_dna.shape[1]))\n",
    "#modelnn.add(Dropout(0.5))\n",
    "modelnn.add(Dense(97, activation='relu')) \n",
    "#modelnn.add(Dropout(0.5))\n",
    "##modelnn.add(Dense(14, activation='relu'))\n",
    "#modelnn.add(Dense(14, activation='relu'))\n",
    "#modelnn.add(Dropout(0.5))\n",
    "#modelnn.add(Dense(35, activation='relu'))\n",
    "#modelnn.add(Dropout(0.5))\n",
    "modelnn.add(Dense(3,activation='softmax'))#activation='sigmoid"
   ]
  },
  {
   "cell_type": "markdown",
   "metadata": {},
   "source": [
    "Se necesitan 97 neuronas por cada capa."
   ]
  },
  {
   "cell_type": "code",
   "execution_count": 22,
   "metadata": {
    "executionInfo": {
     "elapsed": 11,
     "status": "ok",
     "timestamp": 1736758672662,
     "user": {
      "displayName": "Susan Lucy Palacios Salcedo",
      "userId": "03416602319916896534"
     },
     "user_tz": 240
    },
    "id": "n1ihxGU42TBW"
   },
   "outputs": [],
   "source": [
    "learning_rate = .0006455819874025571\n",
    "optimizer = keras.optimizers.Adam(learning_rate)#keras.optimizers.SGD(learning_rate)\n",
    "modelnn.compile(loss='sparse_categorical_crossentropy', metrics=['accuracy'],optimizer=optimizer)"
   ]
  },
  {
   "cell_type": "code",
   "execution_count": null,
   "metadata": {
    "colab": {
     "base_uri": "https://localhost:8080/"
    },
    "executionInfo": {
     "elapsed": 22158,
     "status": "ok",
     "timestamp": 1736758694810,
     "user": {
      "displayName": "Susan Lucy Palacios Salcedo",
      "userId": "03416602319916896534"
     },
     "user_tz": 240
    },
    "id": "pzb2mUTD2Fxb",
    "outputId": "82f568d5-b335-473b-a2e9-84b98383bc25"
   },
   "outputs": [
    {
     "name": "stdout",
     "output_type": "stream",
     "text": [
      "Epoch 1/50\n",
      "293/293 [==============================] - 1s 3ms/step - loss: 0.1194 - accuracy: 0.9644 - val_loss: 0.0421 - val_accuracy: 0.9904\n",
      "Epoch 2/50\n",
      "293/293 [==============================] - 1s 2ms/step - loss: 0.0303 - accuracy: 0.9907 - val_loss: 0.0289 - val_accuracy: 0.9942\n",
      "Epoch 3/50\n",
      "293/293 [==============================] - 1s 2ms/step - loss: 0.0180 - accuracy: 0.9952 - val_loss: 0.0231 - val_accuracy: 0.9952\n",
      "Epoch 4/50\n",
      "293/293 [==============================] - 1s 2ms/step - loss: 0.0142 - accuracy: 0.9964 - val_loss: 0.0247 - val_accuracy: 0.9933\n",
      "Epoch 5/50\n",
      "293/293 [==============================] - 1s 3ms/step - loss: 0.0104 - accuracy: 0.9972 - val_loss: 0.0220 - val_accuracy: 0.9942\n",
      "Epoch 6/50\n",
      "293/293 [==============================] - 1s 2ms/step - loss: 0.0075 - accuracy: 0.9987 - val_loss: 0.0282 - val_accuracy: 0.9952\n",
      "Epoch 7/50\n",
      "293/293 [==============================] - 1s 2ms/step - loss: 0.0073 - accuracy: 0.9981 - val_loss: 0.0253 - val_accuracy: 0.9933\n",
      "Epoch 8/50\n",
      "293/293 [==============================] - 1s 2ms/step - loss: 0.0063 - accuracy: 0.9984 - val_loss: 0.0241 - val_accuracy: 0.9933\n",
      "Epoch 9/50\n",
      "293/293 [==============================] - 1s 3ms/step - loss: 0.0050 - accuracy: 0.9986 - val_loss: 0.0264 - val_accuracy: 0.9952\n",
      "Epoch 10/50\n",
      "293/293 [==============================] - 1s 2ms/step - loss: 0.0039 - accuracy: 0.9990 - val_loss: 0.0208 - val_accuracy: 0.9952\n",
      "Epoch 11/50\n",
      "293/293 [==============================] - 1s 3ms/step - loss: 0.0045 - accuracy: 0.9986 - val_loss: 0.0232 - val_accuracy: 0.9942\n",
      "Epoch 12/50\n",
      "293/293 [==============================] - 1s 3ms/step - loss: 0.0034 - accuracy: 0.9993 - val_loss: 0.0231 - val_accuracy: 0.9962\n",
      "Epoch 13/50\n",
      "293/293 [==============================] - 1s 2ms/step - loss: 0.0025 - accuracy: 0.9994 - val_loss: 0.0429 - val_accuracy: 0.9942\n",
      "Epoch 14/50\n",
      "293/293 [==============================] - 1s 2ms/step - loss: 0.0029 - accuracy: 0.9996 - val_loss: 0.0312 - val_accuracy: 0.9962\n",
      "Epoch 15/50\n",
      "293/293 [==============================] - 1s 2ms/step - loss: 0.0031 - accuracy: 0.9991 - val_loss: 0.0298 - val_accuracy: 0.9942\n",
      "Epoch 16/50\n",
      "293/293 [==============================] - 1s 3ms/step - loss: 0.0031 - accuracy: 0.9991 - val_loss: 0.0397 - val_accuracy: 0.9942\n",
      "Epoch 17/50\n",
      "293/293 [==============================] - 1s 2ms/step - loss: 0.0018 - accuracy: 0.9997 - val_loss: 0.0316 - val_accuracy: 0.9942\n",
      "Epoch 18/50\n",
      "293/293 [==============================] - 1s 3ms/step - loss: 0.0016 - accuracy: 0.9998 - val_loss: 0.0282 - val_accuracy: 0.9942\n",
      "Epoch 19/50\n",
      "293/293 [==============================] - 1s 2ms/step - loss: 0.0016 - accuracy: 0.9995 - val_loss: 0.0310 - val_accuracy: 0.9952\n",
      "Epoch 20/50\n",
      "293/293 [==============================] - 1s 2ms/step - loss: 0.0019 - accuracy: 0.9997 - val_loss: 0.0330 - val_accuracy: 0.9942\n"
     ]
    }
   ],
   "source": [
    "tf.random.set_seed(42)\n",
    "history=modelnn.fit(X_train_dna,\n",
    "                    y_train_dna,\n",
    "                    epochs=50,\n",
    "          #batch_size=32,\n",
    "                    callbacks=[keras.callbacks.EarlyStopping(patience=10)], #Despues de 10 veces que no mejora, se para.\n",
    "                    validation_split=0.1)#validation_data=(X_test_dna, y_test_dna))"
   ]
  },
  {
   "cell_type": "code",
   "execution_count": 24,
   "metadata": {
    "colab": {
     "base_uri": "https://localhost:8080/"
    },
    "executionInfo": {
     "elapsed": 863,
     "status": "ok",
     "timestamp": 1736758695663,
     "user": {
      "displayName": "Susan Lucy Palacios Salcedo",
      "userId": "03416602319916896534"
     },
     "user_tz": 240
    },
    "id": "S9OXg61T28T9",
    "outputId": "674da5c0-6be7-4422-825f-9f022bbe63e0"
   },
   "outputs": [
    {
     "name": "stdout",
     "output_type": "stream",
     "text": [
      "325/325 [==============================] - 0s 1ms/step - loss: 0.0042 - accuracy: 0.9992\n"
     ]
    }
   ],
   "source": [
    "score_train=modelnn.evaluate(X_train_dna, y_train_dna)"
   ]
  },
  {
   "cell_type": "code",
   "execution_count": 25,
   "metadata": {
    "colab": {
     "base_uri": "https://localhost:8080/"
    },
    "executionInfo": {
     "elapsed": 9,
     "status": "ok",
     "timestamp": 1736758695664,
     "user": {
      "displayName": "Susan Lucy Palacios Salcedo",
      "userId": "03416602319916896534"
     },
     "user_tz": 240
    },
    "id": "EdJuUdFW2-Bp",
    "outputId": "7e67a0db-fa7a-4430-b737-b7a9a23d6bd1"
   },
   "outputs": [
    {
     "name": "stdout",
     "output_type": "stream",
     "text": [
      "82/82 [==============================] - 0s 1ms/step - loss: 0.0067 - accuracy: 0.9977\n"
     ]
    }
   ],
   "source": [
    "score_test=modelnn.evaluate(X_test_dna, y_test_dna)"
   ]
  },
  {
   "cell_type": "code",
   "execution_count": 26,
   "metadata": {
    "colab": {
     "base_uri": "https://localhost:8080/",
     "height": 472
    },
    "executionInfo": {
     "elapsed": 555,
     "status": "ok",
     "timestamp": 1736758696214,
     "user": {
      "displayName": "Susan Lucy Palacios Salcedo",
      "userId": "03416602319916896534"
     },
     "user_tz": 240
    },
    "id": "09D6fQEj3A2E",
    "outputId": "11ff18d6-bb12-46ea-b9c0-ecdaf6fe6bfd"
   },
   "outputs": [
    {
     "data": {
      "image/png": "[encoded data removed]",
      "text/plain": [
       "<Figure size 640x480 with 1 Axes>"
      ]
     },
     "metadata": {},
     "output_type": "display_data"
    }
   ],
   "source": [
    "loss = history.history['loss']\n",
    "val_loss = history.history['val_loss']\n",
    "epochs = range(1, len(loss) + 1)\n",
    "plt.plot(epochs, loss, 'bo', label='Training loss')\n",
    "plt.plot(epochs, val_loss, 'b', label='Test loss')\n",
    "plt.title('Training and test loss')\n",
    "plt.xlabel('Epochs')\n",
    "plt.ylabel('Loss')\n",
    "plt.legend()\n",
    "plt.show()"
   ]
  },
  {
   "cell_type": "code",
   "execution_count": 27,
   "metadata": {
    "colab": {
     "base_uri": "https://localhost:8080/",
     "height": 472
    },
    "executionInfo": {
     "elapsed": 24,
     "status": "ok",
     "timestamp": 1736758696214,
     "user": {
      "displayName": "Susan Lucy Palacios Salcedo",
      "userId": "03416602319916896534"
     },
     "user_tz": 240
    },
    "id": "isibIZb33GbT",
    "outputId": "2a229da5-6ecb-49ea-c1a5-206c713ce144"
   },
   "outputs": [
    {
     "data": {
      "image/png": "[encoded data removed]",
      "text/plain": [
       "<Figure size 640x480 with 1 Axes>"
      ]
     },
     "metadata": {},
     "output_type": "display_data"
    }
   ],
   "source": [
    "acc = history.history['accuracy']\n",
    "acc_loss = history.history['val_accuracy']\n",
    "epochs = range(1, len(loss) + 1)\n",
    "plt.plot(epochs, acc, 'bo', label='Training acc')\n",
    "plt.plot(epochs, acc_loss, 'b', label='Test acc')\n",
    "plt.title('Training and test acc')\n",
    "plt.xlabel('Epochs')\n",
    "plt.ylabel('accuracy')\n",
    "plt.legend()\n",
    "plt.show()"
   ]
  },
  {
   "cell_type": "code",
   "execution_count": 28,
   "metadata": {
    "colab": {
     "base_uri": "https://localhost:8080/"
    },
    "executionInfo": {
     "elapsed": 655,
     "status": "ok",
     "timestamp": 1736758696847,
     "user": {
      "displayName": "Susan Lucy Palacios Salcedo",
      "userId": "03416602319916896534"
     },
     "user_tz": 240
    },
    "id": "bcas8f7S3PQ2",
    "outputId": "42e2982d-51c6-4ef6-a2c9-1ebc59183380"
   },
   "outputs": [
    {
     "name": "stdout",
     "output_type": "stream",
     "text": [
      "82/82 [==============================] - 0s 835us/step\n",
      "Confusion Matrix:\n",
      "               genomic  mitochondrial  chloroplast\n",
      "genomic           1850              3            0\n",
      "mitochondrial        1            579            0\n",
      "chloroplast          2              0          161\n",
      "\n",
      "\n",
      "Reporte de clasificación\n",
      "82/82 [==============================] - 0s 1ms/step\n",
      "               precision    recall  f1-score   support\n",
      "\n",
      "      genomic     0.9984    0.9984    0.9984      1853\n",
      "mitochondrial     0.9948    0.9983    0.9966       580\n",
      "  chloroplast     1.0000    0.9877    0.9938       163\n",
      "\n",
      "     accuracy                         0.9977      2596\n",
      "    macro avg     0.9977    0.9948    0.9963      2596\n",
      " weighted avg     0.9977    0.9977    0.9977      2596\n",
      "\n"
     ]
    }
   ],
   "source": [
    "#Printing Confusion Matrix\n",
    "dnaclas=[\"genomic\",\"mitochondrial\",\"chloroplast\"]\n",
    "cm = pd.DataFrame(confusion_matrix(y_test_dna, np.argmax(modelnn.predict(X_test_dna),axis=1)),\n",
    "                  index = dnaclas,\n",
    "                  columns = dnaclas)\n",
    "print('Confusion Matrix:')\n",
    "print(cm)\n",
    "print('\\n')\n",
    "print(\"Reporte de clasificación\")\n",
    "print(classification_report(y_test_dna, np.argmax(modelnn.predict(X_test_dna),axis=1),target_names=dnaclas,digits=4))"
   ]
  },
  {
   "cell_type": "code",
   "execution_count": 29,
   "metadata": {
    "colab": {
     "base_uri": "https://localhost:8080/",
     "height": 255
    },
    "executionInfo": {
     "elapsed": 636,
     "status": "ok",
     "timestamp": 1736758697466,
     "user": {
      "displayName": "Susan Lucy Palacios Salcedo",
      "userId": "03416602319916896534"
     },
     "user_tz": 240
    },
    "id": "-CWBGvwI3aFF",
    "outputId": "c610bf6a-f70b-4f09-9e16-0ea920c3e0bf"
   },
   "outputs": [
    {
     "name": "stdout",
     "output_type": "stream",
     "text": [
      "Model: \"sequential\"\n",
      "_________________________________________________________________\n",
      " Layer (type)                Output Shape              Param #   \n",
      "=================================================================\n",
      " dense (Dense)               (None, 97)                6402      \n",
      "                                                                 \n",
      " dense_1 (Dense)             (None, 97)                9506      \n",
      "                                                                 \n",
      " dense_2 (Dense)             (None, 3)                 294       \n",
      "                                                                 \n",
      "=================================================================\n",
      "Total params: 16,202\n",
      "Trainable params: 16,202\n",
      "Non-trainable params: 0\n",
      "_________________________________________________________________\n"
     ]
    }
   ],
   "source": [
    "modelnn.summary()"
   ]
  },
  {
   "cell_type": "markdown",
   "metadata": {},
   "source": [
    "Parametros totales se calcula:\n",
    "Relaciones x neuronas + bias (nro de relaciones) = 65 x 97 + 97"
   ]
  }
 ],
 "metadata": {
  "colab": {
   "authorship_tag": "ABX9TyPW94Kh/itWmTTkE7k+PoUF",
   "provenance": []
  },
  "kernelspec": {
   "display_name": "data_analysis",
   "language": "python",
   "name": "python3"
  },
  "language_info": {
   "codemirror_mode": {
    "name": "ipython",
    "version": 3
   },
   "file_extension": ".py",
   "mimetype": "text/x-python",
   "name": "python",
   "nbconvert_exporter": "python",
   "pygments_lexer": "ipython3",
   "version": "3.10.11"
  }
 },
 "nbformat": 4,
 "nbformat_minor": 0
}
