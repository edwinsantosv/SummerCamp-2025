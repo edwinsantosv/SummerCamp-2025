{
 "cells": [
  {
   "cell_type": "markdown",
   "metadata": {
    "id": "JrB84NUp0j4F"
   },
   "source": [
    "**Dataset (Fuente):** https://europepmc.org/article/med/29474911"
   ]
  },
  {
   "cell_type": "markdown",
   "metadata": {},
   "source": [
    "https://www.kaggle.com/datasets/paultimothymooney/chest-xray-pneumonia"
   ]
  },
  {
   "cell_type": "markdown",
   "metadata": {},
   "source": [
    "USAR MEJOR EN COLLAB"
   ]
  },
  {
   "cell_type": "code",
   "execution_count": null,
   "metadata": {
    "colab": {
     "base_uri": "https://localhost:8080/"
    },
    "executionInfo": {
     "elapsed": 2275,
     "status": "ok",
     "timestamp": 1665707007369,
     "user": {
      "displayName": "Susan Lucy Palacios Salcedo",
      "userId": "03416602319916896534"
     },
     "user_tz": 300
    },
    "id": "C6LhoaJwkEtD",
    "outputId": "5d754845-ba96-403f-aeff-e161b6e1a71e"
   },
   "outputs": [
    {
     "name": "stdout",
     "output_type": "stream",
     "text": [
      "Drive already mounted at /content/drive; to attempt to forcibly remount, call drive.mount(\"/content/drive\", force_remount=True).\n"
     ]
    }
   ],
   "source": [
    "#from google.colab import drive \n",
    "#drive.mount('/content/drive')"
   ]
  },
  {
   "cell_type": "markdown",
   "metadata": {
    "id": "PzvVL900k08o"
   },
   "source": [
    "#Entendimiento del Problema\n",
    "\n",
    "Se requiere predecir si las personas presentan neumonía basados en una imagen de Rayos X del tórax. Para ello se tiene un dataset de imágenes de Rayos X  del tórax de pacientes que presentaron neumonía severa y de pacientes que no tuvieron.\n",
    "\n",
    "Archivos\n",
    "\n",
    "*   train.csv - The training set contiene los nombres de las imágenes que son utilizados para entrenar el modelo.\n",
    "*   test.csv - The test set contiene los nombres de las imágenes que son utilizados para evaluar el modelo.\n",
    "\n",
    "\n",
    "\n",
    "*   Objetivo principal\n",
    "Determinar si una imagen de Rayos X  del Tórax presenta signos de neumonía severa.\n",
    "\n",
    "\n",
    "*   Objetivos secundarios\n",
    "\n",
    "o\t Analizar y realizar el preprocesamiento de las imágenes.\n",
    "\n",
    "o\t Seleccionar el modelo y evaluar.\n",
    "\n",
    "o\t Determinar la probabilidad en los datos de Test\n",
    "\n",
    "\n"
   ]
  },
  {
   "cell_type": "code",
   "execution_count": 1,
   "metadata": {
    "colab": {
     "base_uri": "https://localhost:8080/"
    },
    "executionInfo": {
     "elapsed": 68122,
     "status": "ok",
     "timestamp": 1736760075131,
     "user": {
      "displayName": "Susan Lucy Palacios Salcedo",
      "userId": "03416602319916896534"
     },
     "user_tz": 240
    },
    "id": "1_xCl3HvDLm0",
    "outputId": "a8f9d677-9e50-48a3-84e4-57cef6bf6367"
   },
   "outputs": [
    {
     "name": "stderr",
     "output_type": "stream",
     "text": [
      "Cloning into 'X-Ray-Pneumonia-Images'...\n",
      "Updating files:   3% (206/5856)\n",
      "Updating files:   4% (235/5856)\n",
      "Updating files:   5% (293/5856)\n",
      "Updating files:   6% (352/5856)\n",
      "Updating files:   7% (410/5856)\n",
      "Updating files:   8% (469/5856)\n",
      "Updating files:   9% (528/5856)\n",
      "Updating files:  10% (586/5856)\n",
      "Updating files:  10% (603/5856)\n",
      "Updating files:  11% (645/5856)\n",
      "Updating files:  12% (703/5856)\n",
      "Updating files:  13% (762/5856)\n",
      "Updating files:  13% (804/5856)\n",
      "Updating files:  14% (820/5856)\n",
      "Updating files:  15% (879/5856)\n",
      "Updating files:  16% (937/5856)\n",
      "Updating files:  16% (989/5856)\n",
      "Updating files:  17% (996/5856)\n",
      "Updating files:  18% (1055/5856)\n",
      "Updating files:  19% (1113/5856)\n",
      "Updating files:  20% (1172/5856)\n",
      "Updating files:  20% (1180/5856)\n",
      "Updating files:  21% (1230/5856)\n",
      "Updating files:  22% (1289/5856)\n",
      "Updating files:  23% (1347/5856)\n",
      "Updating files:  23% (1366/5856)\n",
      "Updating files:  24% (1406/5856)\n",
      "Updating files:  25% (1464/5856)\n",
      "Updating files:  26% (1523/5856)\n",
      "Updating files:  26% (1546/5856)\n",
      "Updating files:  27% (1582/5856)\n",
      "Updating files:  28% (1640/5856)\n",
      "Updating files:  29% (1699/5856)\n",
      "Updating files:  29% (1756/5856)\n",
      "Updating files:  30% (1757/5856)\n",
      "Updating files:  31% (1816/5856)\n",
      "Updating files:  32% (1874/5856)\n",
      "Updating files:  33% (1933/5856)\n",
      "Updating files:  33% (1945/5856)\n",
      "Updating files:  34% (1992/5856)\n",
      "Updating files:  35% (2050/5856)\n",
      "Updating files:  36% (2109/5856)\n",
      "Updating files:  36% (2144/5856)\n",
      "Updating files:  37% (2167/5856)\n",
      "Updating files:  38% (2226/5856)\n",
      "Updating files:  39% (2284/5856)\n",
      "Updating files:  39% (2337/5856)\n",
      "Updating files:  40% (2343/5856)\n",
      "Updating files:  41% (2401/5856)\n",
      "Updating files:  42% (2460/5856)\n",
      "Updating files:  43% (2519/5856)\n",
      "Updating files:  43% (2523/5856)\n",
      "Updating files:  44% (2577/5856)\n",
      "Updating files:  45% (2636/5856)\n",
      "Updating files:  46% (2694/5856)\n",
      "Updating files:  46% (2712/5856)\n",
      "Updating files:  47% (2753/5856)\n",
      "Updating files:  48% (2811/5856)\n",
      "Updating files:  49% (2870/5856)\n",
      "Updating files:  49% (2902/5856)\n",
      "Updating files:  50% (2928/5856)\n",
      "Updating files:  51% (2987/5856)\n",
      "Updating files:  52% (3046/5856)\n",
      "Updating files:  53% (3104/5856)\n",
      "Updating files:  53% (3121/5856)\n",
      "Updating files:  54% (3163/5856)\n",
      "Updating files:  55% (3221/5856)\n",
      "Updating files:  56% (3280/5856)\n",
      "Updating files:  56% (3294/5856)\n",
      "Updating files:  57% (3338/5856)\n",
      "Updating files:  58% (3397/5856)\n",
      "Updating files:  59% (3456/5856)\n",
      "Updating files:  59% (3510/5856)\n",
      "Updating files:  60% (3514/5856)\n",
      "Updating files:  61% (3573/5856)\n",
      "Updating files:  62% (3631/5856)\n",
      "Updating files:  63% (3690/5856)\n",
      "Updating files:  63% (3704/5856)\n",
      "Updating files:  64% (3748/5856)\n",
      "Updating files:  65% (3807/5856)\n",
      "Updating files:  66% (3865/5856)\n",
      "Updating files:  66% (3900/5856)\n",
      "Updating files:  67% (3924/5856)\n",
      "Updating files:  68% (3983/5856)\n",
      "Updating files:  69% (4041/5856)\n",
      "Updating files:  69% (4070/5856)\n",
      "Updating files:  70% (4100/5856)\n",
      "Updating files:  71% (4158/5856)\n",
      "Updating files:  72% (4217/5856)\n",
      "Updating files:  72% (4245/5856)\n",
      "Updating files:  73% (4275/5856)\n",
      "Updating files:  74% (4334/5856)\n",
      "Updating files:  75% (4392/5856)\n",
      "Updating files:  75% (4425/5856)\n",
      "Updating files:  76% (4451/5856)\n",
      "Updating files:  77% (4510/5856)\n",
      "Updating files:  78% (4568/5856)\n",
      "Updating files:  78% (4614/5856)\n",
      "Updating files:  79% (4627/5856)\n",
      "Updating files:  80% (4685/5856)\n",
      "Updating files:  81% (4744/5856)\n",
      "Updating files:  82% (4802/5856)\n",
      "Updating files:  82% (4823/5856)\n",
      "Updating files:  83% (4861/5856)\n",
      "Updating files:  84% (4920/5856)\n",
      "Updating files:  85% (4978/5856)\n",
      "Updating files:  85% (4994/5856)\n",
      "Updating files:  86% (5037/5856)\n",
      "Updating files:  87% (5095/5856)\n",
      "Updating files:  88% (5154/5856)\n",
      "Updating files:  88% (5192/5856)\n",
      "Updating files:  89% (5212/5856)\n",
      "Updating files:  90% (5271/5856)\n",
      "Updating files:  91% (5329/5856)\n",
      "Updating files:  91% (5376/5856)\n",
      "Updating files:  92% (5388/5856)\n",
      "Updating files:  93% (5447/5856)\n",
      "Updating files:  94% (5505/5856)\n",
      "Updating files:  94% (5558/5856)\n",
      "Updating files:  95% (5564/5856)\n",
      "Updating files:  96% (5622/5856)\n",
      "Updating files:  97% (5681/5856)\n",
      "Updating files:  97% (5734/5856)\n",
      "Updating files:  98% (5739/5856)\n",
      "Updating files:  99% (5798/5856)\n",
      "Updating files: 100% (5856/5856)\n",
      "Updating files: 100% (5856/5856), done.\n"
     ]
    }
   ],
   "source": [
    "!git clone https://github.com/iapucp/X-Ray-Pneumonia-Images.git"
   ]
  },
  {
   "cell_type": "code",
   "execution_count": 2,
   "metadata": {
    "colab": {
     "base_uri": "https://localhost:8080/"
    },
    "executionInfo": {
     "elapsed": 639,
     "status": "ok",
     "timestamp": 1665707008003,
     "user": {
      "displayName": "Susan Lucy Palacios Salcedo",
      "userId": "03416602319916896534"
     },
     "user_tz": 300
    },
    "id": "-zjGu6gvCYKW",
    "outputId": "609d49d0-f420-4d4b-cbf0-cc453eca61e5"
   },
   "outputs": [
    {
     "name": "stdout",
     "output_type": "stream",
     "text": [
      " Volume in drive C is OS\n",
      " Volume Serial Number is FC32-5C02\n",
      "\n",
      " Directory of c:\\Users\\edwin\\Repositories\\Data Science\\SummerCamp 2025\\CNN - Rayos X Neumonia\n",
      "\n",
      "2025-01-13  11:29 AM    <DIR>          .\n",
      "2025-01-13  11:27 AM    <DIR>          ..\n",
      "2025-01-13  11:28 AM           404,431 Rayos_X_Neumon�a_Class.ipynb\n",
      "2025-01-13  11:34 AM    <DIR>          X-Ray-Pneumonia-Images\n",
      "               1 File(s)        404,431 bytes\n",
      "               3 Dir(s)  315,555,868,672 bytes free\n"
     ]
    }
   ],
   "source": [
    "%ls"
   ]
  },
  {
   "cell_type": "code",
   "execution_count": 7,
   "metadata": {
    "executionInfo": {
     "elapsed": 7923,
     "status": "ok",
     "timestamp": 1736759976072,
     "user": {
      "displayName": "Susan Lucy Palacios Salcedo",
      "userId": "03416602319916896534"
     },
     "user_tz": 240
    },
    "id": "rI0wjtwx1Ntv"
   },
   "outputs": [],
   "source": [
    "import os\n",
    "import pandas as pd\n",
    "import numpy as np\n",
    "import cv2\n",
    "import matplotlib.pyplot as plt\n",
    "from sklearn.model_selection import train_test_split\n",
    "import tensorflow as tf\n",
    "from tensorflow.keras.models import Sequential\n",
    "from tensorflow.keras.layers import Conv2D, MaxPooling2D, Flatten, Dense\n",
    "from tensorflow.keras import optimizers\n",
    "from tensorflow.keras.callbacks import ModelCheckpoint"
   ]
  },
  {
   "cell_type": "markdown",
   "metadata": {
    "id": "Oq-oE_exCDPu"
   },
   "source": [
    "#Entendimiento de los Datos"
   ]
  },
  {
   "cell_type": "code",
   "execution_count": 8,
   "metadata": {
    "executionInfo": {
     "elapsed": 449,
     "status": "ok",
     "timestamp": 1736759978437,
     "user": {
      "displayName": "Susan Lucy Palacios Salcedo",
      "userId": "03416602319916896534"
     },
     "user_tz": 240
    },
    "id": "EBRs0red1QpO"
   },
   "outputs": [],
   "source": [
    "#Lectura del dataset\n",
    "df= pd.read_csv( \"train.csv\")\n",
    "df_test= pd.read_csv(\"test_x.csv\")"
   ]
  },
  {
   "cell_type": "code",
   "execution_count": 9,
   "metadata": {
    "colab": {
     "base_uri": "https://localhost:8080/",
     "height": 424
    },
    "executionInfo": {
     "elapsed": 631,
     "status": "ok",
     "timestamp": 1736759981179,
     "user": {
      "displayName": "Susan Lucy Palacios Salcedo",
      "userId": "03416602319916896534"
     },
     "user_tz": 240
    },
    "id": "AJDxIwNz8Xtg",
    "outputId": "eb653775-e1dd-4cdb-ee94-0b596c43c146"
   },
   "outputs": [
    {
     "data": {
      "text/html": [
       "<div>\n",
       "<style scoped>\n",
       "    .dataframe tbody tr th:only-of-type {\n",
       "        vertical-align: middle;\n",
       "    }\n",
       "\n",
       "    .dataframe tbody tr th {\n",
       "        vertical-align: top;\n",
       "    }\n",
       "\n",
       "    .dataframe thead th {\n",
       "        text-align: right;\n",
       "    }\n",
       "</style>\n",
       "<table border=\"1\" class=\"dataframe\">\n",
       "  <thead>\n",
       "    <tr style=\"text-align: right;\">\n",
       "      <th></th>\n",
       "      <th>Id</th>\n",
       "      <th>File_names</th>\n",
       "      <th>Target</th>\n",
       "    </tr>\n",
       "  </thead>\n",
       "  <tbody>\n",
       "    <tr>\n",
       "      <th>0</th>\n",
       "      <td>0</td>\n",
       "      <td>e184d851-45d7-50ff-85a9-9b75993484e7.jpeg</td>\n",
       "      <td>0</td>\n",
       "    </tr>\n",
       "    <tr>\n",
       "      <th>1</th>\n",
       "      <td>1</td>\n",
       "      <td>6e2c95c7-c0c2-565a-b3e2-d9de6eeb72ce.jpeg</td>\n",
       "      <td>1</td>\n",
       "    </tr>\n",
       "    <tr>\n",
       "      <th>2</th>\n",
       "      <td>2</td>\n",
       "      <td>2b7ca495-6101-5fe1-9c35-3a37e98a0cf2.jpeg</td>\n",
       "      <td>1</td>\n",
       "    </tr>\n",
       "    <tr>\n",
       "      <th>3</th>\n",
       "      <td>3</td>\n",
       "      <td>9d5fdc1a-22ac-5a4b-9942-694fa403765c.jpeg</td>\n",
       "      <td>1</td>\n",
       "    </tr>\n",
       "    <tr>\n",
       "      <th>4</th>\n",
       "      <td>4</td>\n",
       "      <td>786806b0-55cd-5aa3-a5d8-66701ffd77f7.jpeg</td>\n",
       "      <td>1</td>\n",
       "    </tr>\n",
       "    <tr>\n",
       "      <th>...</th>\n",
       "      <td>...</td>\n",
       "      <td>...</td>\n",
       "      <td>...</td>\n",
       "    </tr>\n",
       "    <tr>\n",
       "      <th>4972</th>\n",
       "      <td>4972</td>\n",
       "      <td>51b329d9-633c-5a9b-a432-c11e5e3cd593.jpeg</td>\n",
       "      <td>1</td>\n",
       "    </tr>\n",
       "    <tr>\n",
       "      <th>4973</th>\n",
       "      <td>4973</td>\n",
       "      <td>666bd74a-49c9-503a-9e31-d26e15c02d8b.jpeg</td>\n",
       "      <td>1</td>\n",
       "    </tr>\n",
       "    <tr>\n",
       "      <th>4974</th>\n",
       "      <td>4974</td>\n",
       "      <td>e88647e1-5724-5ae9-a471-317ee2bb23f4.jpeg</td>\n",
       "      <td>1</td>\n",
       "    </tr>\n",
       "    <tr>\n",
       "      <th>4975</th>\n",
       "      <td>4975</td>\n",
       "      <td>afc768ab-78f8-5274-843f-889474e04a62.jpeg</td>\n",
       "      <td>0</td>\n",
       "    </tr>\n",
       "    <tr>\n",
       "      <th>4976</th>\n",
       "      <td>4976</td>\n",
       "      <td>c0a01055-ec6c-5692-9b85-142db8652d05.jpeg</td>\n",
       "      <td>1</td>\n",
       "    </tr>\n",
       "  </tbody>\n",
       "</table>\n",
       "<p>4977 rows × 3 columns</p>\n",
       "</div>"
      ],
      "text/plain": [
       "        Id                                 File_names  Target\n",
       "0        0  e184d851-45d7-50ff-85a9-9b75993484e7.jpeg       0\n",
       "1        1  6e2c95c7-c0c2-565a-b3e2-d9de6eeb72ce.jpeg       1\n",
       "2        2  2b7ca495-6101-5fe1-9c35-3a37e98a0cf2.jpeg       1\n",
       "3        3  9d5fdc1a-22ac-5a4b-9942-694fa403765c.jpeg       1\n",
       "4        4  786806b0-55cd-5aa3-a5d8-66701ffd77f7.jpeg       1\n",
       "...    ...                                        ...     ...\n",
       "4972  4972  51b329d9-633c-5a9b-a432-c11e5e3cd593.jpeg       1\n",
       "4973  4973  666bd74a-49c9-503a-9e31-d26e15c02d8b.jpeg       1\n",
       "4974  4974  e88647e1-5724-5ae9-a471-317ee2bb23f4.jpeg       1\n",
       "4975  4975  afc768ab-78f8-5274-843f-889474e04a62.jpeg       0\n",
       "4976  4976  c0a01055-ec6c-5692-9b85-142db8652d05.jpeg       1\n",
       "\n",
       "[4977 rows x 3 columns]"
      ]
     },
     "execution_count": 9,
     "metadata": {},
     "output_type": "execute_result"
    }
   ],
   "source": [
    "df"
   ]
  },
  {
   "cell_type": "code",
   "execution_count": 10,
   "metadata": {
    "colab": {
     "base_uri": "https://localhost:8080/",
     "height": 517
    },
    "executionInfo": {
     "elapsed": 486,
     "status": "ok",
     "timestamp": 1736759986165,
     "user": {
      "displayName": "Susan Lucy Palacios Salcedo",
      "userId": "03416602319916896534"
     },
     "user_tz": 240
    },
    "id": "Va7wDTiEXS5w",
    "outputId": "657af55f-4bed-4fc6-fd0b-13893faa802f"
   },
   "outputs": [
    {
     "name": "stdout",
     "output_type": "stream",
     "text": [
      "1    0.729757\n",
      "0    0.270243\n",
      "Name: Target, dtype: float64\n"
     ]
    },
    {
     "data": {
      "text/plain": [
       "<Axes: >"
      ]
     },
     "execution_count": 10,
     "metadata": {},
     "output_type": "execute_result"
    },
    {
     "data": {
      "image/png": "[encoded data removed]",
      "text/plain": [
       "<Figure size 640x480 with 1 Axes>"
      ]
     },
     "metadata": {},
     "output_type": "display_data"
    }
   ],
   "source": [
    "print(df[\"Target\"].value_counts()/len(df))\n",
    "df[\"Target\"].hist()"
   ]
  },
  {
   "cell_type": "markdown",
   "metadata": {
    "id": "sJLS_TjfCHOR"
   },
   "source": [
    "Visualizando las imágenes"
   ]
  },
  {
   "cell_type": "code",
   "execution_count": 12,
   "metadata": {
    "colab": {
     "base_uri": "https://localhost:8080/",
     "height": 470
    },
    "executionInfo": {
     "elapsed": 4579,
     "status": "ok",
     "timestamp": 1736760088802,
     "user": {
      "displayName": "Susan Lucy Palacios Salcedo",
      "userId": "03416602319916896534"
     },
     "user_tz": 240
    },
    "id": "bE2nW57e1jO8",
    "outputId": "4524c8d4-4b59-4db0-c0a5-fc6e43679dc8"
   },
   "outputs": [
    {
     "ename": "AttributeError",
     "evalue": "'NoneType' object has no attribute 'shape'",
     "output_type": "error",
     "traceback": [
      "\u001b[1;31m---------------------------------------------------------------------------\u001b[0m",
      "\u001b[1;31mAttributeError\u001b[0m                            Traceback (most recent call last)",
      "Cell \u001b[1;32mIn[12], line 3\u001b[0m\n\u001b[0;32m      1\u001b[0m pathi\u001b[38;5;241m=\u001b[39m\u001b[38;5;124m\"\u001b[39m\u001b[38;5;124mX-Ray-Pneumonia-Images/Images\u001b[39m\u001b[38;5;124m\"\u001b[39m \u001b[38;5;241m+\u001b[39m \u001b[38;5;124m\"\u001b[39m\u001b[38;5;124m/\u001b[39m\u001b[38;5;124m\"\u001b[39m\n\u001b[0;32m      2\u001b[0m img \u001b[38;5;241m=\u001b[39m cv2\u001b[38;5;241m.\u001b[39mimread(pathi \u001b[38;5;241m+\u001b[39m df[\u001b[38;5;124m'\u001b[39m\u001b[38;5;124mFile_names\u001b[39m\u001b[38;5;124m'\u001b[39m]\u001b[38;5;241m.\u001b[39miloc[\u001b[38;5;241m100\u001b[39m])\n\u001b[1;32m----> 3\u001b[0m \u001b[38;5;28mprint\u001b[39m(\u001b[43mimg\u001b[49m\u001b[38;5;241;43m.\u001b[39;49m\u001b[43mshape\u001b[49m)\n\u001b[0;32m      4\u001b[0m plt\u001b[38;5;241m.\u001b[39mimshow(img)\n",
      "\u001b[1;31mAttributeError\u001b[0m: 'NoneType' object has no attribute 'shape'"
     ]
    }
   ],
   "source": [
    "pathi=\"X-Ray-Pneumonia-Images/Images\" + \"/\"\n",
    "img = cv2.imread(pathi + df['File_names'].iloc[100])\n",
    "print(img.shape)\n",
    "plt.imshow(img)"
   ]
  },
  {
   "cell_type": "code",
   "execution_count": null,
   "metadata": {
    "colab": {
     "base_uri": "https://localhost:8080/",
     "height": 304
    },
    "executionInfo": {
     "elapsed": 577,
     "status": "ok",
     "timestamp": 1665707022029,
     "user": {
      "displayName": "Susan Lucy Palacios Salcedo",
      "userId": "03416602319916896534"
     },
     "user_tz": 300
    },
    "id": "duPBraziDzwN",
    "outputId": "1d5a20f2-1bc1-4a4d-d93f-add90cf4a1c3"
   },
   "outputs": [
    {
     "name": "stdout",
     "output_type": "stream",
     "text": [
      "(712, 992, 3)\n"
     ]
    },
    {
     "data": {
      "text/plain": [
       "<matplotlib.image.AxesImage at 0x7f53658268d0>"
      ]
     },
     "execution_count": 9,
     "metadata": {},
     "output_type": "execute_result"
    },
    {
     "data": {
      "image/png": "[encoded data removed]",
      "text/plain": [
       "<Figure size 432x288 with 1 Axes>"
      ]
     },
     "metadata": {
      "needs_background": "light"
     },
     "output_type": "display_data"
    }
   ],
   "source": [
    "img = cv2.imread(pathi + df['File_names'].iloc[1000])\n",
    "print( img.shape)\n",
    "plt.imshow(img)"
   ]
  },
  {
   "cell_type": "markdown",
   "metadata": {
    "id": "5IxfBpvam8Sp"
   },
   "source": [
    "#Preparación de los Datos"
   ]
  },
  {
   "cell_type": "markdown",
   "metadata": {
    "id": "vw2MZFyBCLIa"
   },
   "source": [
    "Función que permite leer las imágenes se observó que las imágenes tenian diferentes tamaños asi que se cambio el tamaño de todas las imágenes a 64x64 ó 128x128. También, las imágenes se normalizaron."
   ]
  },
  {
   "cell_type": "code",
   "execution_count": 9,
   "metadata": {
    "executionInfo": {
     "elapsed": 2265,
     "status": "ok",
     "timestamp": 1736760116239,
     "user": {
      "displayName": "Susan Lucy Palacios Salcedo",
      "userId": "03416602319916896534"
     },
     "user_tz": 240
    },
    "id": "-ftJWpwG1tJO"
   },
   "outputs": [],
   "source": [
    "#Función que permite cargar leer las imágenes\n",
    "def loadImagestrain(df):\n",
    "    X = []\n",
    "    Y = []\n",
    "    mean = 0.5\n",
    "    std = 0.5\n",
    "    pathi=\"X-Ray-Pneumonia-Images/Images\" + \"/\"\n",
    "    for i in range(df.shape[0]):\n",
    "        img_path = pathi + df['File_names'].iloc[i]\n",
    "        img_label = df['Target'].iloc[i]\n",
    "        img = cv2.imread(img_path)\n",
    "        #print(i)\n",
    "        img = img / 255.0\n",
    "        img = (img - mean) / std\n",
    "        img = cv2.resize(img, (128, 128))\n",
    "        X.append(img)\n",
    "        Y.append(img_label)\n",
    "    X = np.asarray(X)\n",
    "    Y = np.asarray(Y)\n",
    "    return X,Y\n"
   ]
  },
  {
   "cell_type": "code",
   "execution_count": 10,
   "metadata": {
    "executionInfo": {
     "elapsed": 465,
     "status": "ok",
     "timestamp": 1736760121610,
     "user": {
      "displayName": "Susan Lucy Palacios Salcedo",
      "userId": "03416602319916896534"
     },
     "user_tz": 240
    },
    "id": "ihVYfLjZZfqd"
   },
   "outputs": [],
   "source": [
    "#Función que permite cargar leer las imágenes\n",
    "def loadImagestest(df):\n",
    "    X = []\n",
    "    mean = 0.5\n",
    "    std = 0.5\n",
    "    pathi=\"X-Ray-Pneumonia-Images/Images\" + \"/\"\n",
    "    for i in range(df.shape[0]):\n",
    "        img_path = pathi + df['File_names'].iloc[i]\n",
    "        img = cv2.imread(img_path)\n",
    "        #print(i)\n",
    "        img = img / 255.0\n",
    "        img = (img - mean) / std\n",
    "        img = cv2.resize(img, (128, 128))\n",
    "        X.append(img)\n",
    "    X = np.asarray(X)\n",
    "    return X"
   ]
  },
  {
   "cell_type": "code",
   "execution_count": 11,
   "metadata": {
    "executionInfo": {
     "elapsed": 199119,
     "status": "ok",
     "timestamp": 1736760324682,
     "user": {
      "displayName": "Susan Lucy Palacios Salcedo",
      "userId": "03416602319916896534"
     },
     "user_tz": 240
    },
    "id": "AI2WB91S1vgq"
   },
   "outputs": [],
   "source": [
    "#Cargando las imágenes y etiquetas para el train\n",
    "X,Y = loadImagestrain(df)\n",
    "#Cargando las imágenes de Test para presentar en Kagle\n",
    "Test_X = loadImagestest(df_test)"
   ]
  },
  {
   "cell_type": "code",
   "execution_count": 13,
   "metadata": {
    "executionInfo": {
     "elapsed": 4138,
     "status": "ok",
     "timestamp": 1736760344491,
     "user": {
      "displayName": "Susan Lucy Palacios Salcedo",
      "userId": "03416602319916896534"
     },
     "user_tz": 240
    },
    "id": "h5yD5eCv2WM-"
   },
   "outputs": [],
   "source": [
    "#Separando los datos de train y validación.\n",
    "X_train, X_test, y_train, y_test = train_test_split(X,Y,test_size=0.2,random_state=21)"
   ]
  },
  {
   "cell_type": "markdown",
   "metadata": {
    "id": "tE6tEPYJEHPd"
   },
   "source": [
    "#Generando el modelo"
   ]
  },
  {
   "cell_type": "code",
   "execution_count": 14,
   "metadata": {
    "colab": {
     "base_uri": "https://localhost:8080/"
    },
    "executionInfo": {
     "elapsed": 1153,
     "status": "ok",
     "timestamp": 1736760347792,
     "user": {
      "displayName": "Susan Lucy Palacios Salcedo",
      "userId": "03416602319916896534"
     },
     "user_tz": 240
    },
    "id": "lfHFgJjT2aNa",
    "outputId": "cfb78e4b-b7f1-4ce9-b8db-359d39a3b968"
   },
   "outputs": [
    {
     "name": "stderr",
     "output_type": "stream",
     "text": [
      "/usr/local/lib/python3.10/dist-packages/keras/src/layers/convolutional/base_conv.py:107: UserWarning: Do not pass an `input_shape`/`input_dim` argument to a layer. When using Sequential models, prefer using an `Input(shape)` object as the first layer in the model instead.\n",
      "  super().__init__(activity_regularizer=activity_regularizer, **kwargs)\n"
     ]
    }
   ],
   "source": [
    "model = Sequential([\n",
    "    Conv2D(32, (3,3), input_shape=(128,128,3), activation='relu'),\n",
    "    MaxPooling2D((2,2)),\n",
    "    Conv2D(64, (3,3), activation='relu'),\n",
    "    MaxPooling2D((2,2)),\n",
    "    Conv2D(32, (3,3), activation='relu'),\n",
    "    MaxPooling2D((2,2)),\n",
    "    Flatten(),\n",
    "    Dense(512, activation='relu', kernel_initializer='he_normal'),\n",
    "    Dense(256, activation='relu', kernel_initializer='he_normal'),\n",
    "    Dense(1, activation='sigmoid')\n",
    "])"
   ]
  },
  {
   "cell_type": "code",
   "execution_count": 15,
   "metadata": {
    "colab": {
     "base_uri": "https://localhost:8080/",
     "height": 476
    },
    "executionInfo": {
     "elapsed": 804,
     "status": "ok",
     "timestamp": 1736760350986,
     "user": {
      "displayName": "Susan Lucy Palacios Salcedo",
      "userId": "03416602319916896534"
     },
     "user_tz": 240
    },
    "id": "lYkEDnCCKjM1",
    "outputId": "439aef8d-d5e6-4b21-ea15-833706ce4974"
   },
   "outputs": [
    {
     "data": {
      "text/html": [
       "<pre style=\"white-space:pre;overflow-x:auto;line-height:normal;font-family:Menlo,'DejaVu Sans Mono',consolas,'Courier New',monospace\"><span style=\"font-weight: bold\">Model: \"sequential\"</span>\n",
       "</pre>\n"
      ],
      "text/plain": [
       "\u001b[1mModel: \"sequential\"\u001b[0m\n"
      ]
     },
     "metadata": {},
     "output_type": "display_data"
    },
    {
     "data": {
      "text/html": [
       "<pre style=\"white-space:pre;overflow-x:auto;line-height:normal;font-family:Menlo,'DejaVu Sans Mono',consolas,'Courier New',monospace\">┏━━━━━━━━━━━━━━━━━━━━━━━━━━━━━━━━━━━━━━┳━━━━━━━━━━━━━━━━━━━━━━━━━━━━━┳━━━━━━━━━━━━━━━━━┓\n",
       "┃<span style=\"font-weight: bold\"> Layer (type)                         </span>┃<span style=\"font-weight: bold\"> Output Shape                </span>┃<span style=\"font-weight: bold\">         Param # </span>┃\n",
       "┡━━━━━━━━━━━━━━━━━━━━━━━━━━━━━━━━━━━━━━╇━━━━━━━━━━━━━━━━━━━━━━━━━━━━━╇━━━━━━━━━━━━━━━━━┩\n",
       "│ conv2d (<span style=\"color: #0087ff; text-decoration-color: #0087ff\">Conv2D</span>)                      │ (<span style=\"color: #00d7ff; text-decoration-color: #00d7ff\">None</span>, <span style=\"color: #00af00; text-decoration-color: #00af00\">126</span>, <span style=\"color: #00af00; text-decoration-color: #00af00\">126</span>, <span style=\"color: #00af00; text-decoration-color: #00af00\">32</span>)        │             <span style=\"color: #00af00; text-decoration-color: #00af00\">896</span> │\n",
       "├──────────────────────────────────────┼─────────────────────────────┼─────────────────┤\n",
       "│ max_pooling2d (<span style=\"color: #0087ff; text-decoration-color: #0087ff\">MaxPooling2D</span>)         │ (<span style=\"color: #00d7ff; text-decoration-color: #00d7ff\">None</span>, <span style=\"color: #00af00; text-decoration-color: #00af00\">63</span>, <span style=\"color: #00af00; text-decoration-color: #00af00\">63</span>, <span style=\"color: #00af00; text-decoration-color: #00af00\">32</span>)          │               <span style=\"color: #00af00; text-decoration-color: #00af00\">0</span> │\n",
       "├──────────────────────────────────────┼─────────────────────────────┼─────────────────┤\n",
       "│ conv2d_1 (<span style=\"color: #0087ff; text-decoration-color: #0087ff\">Conv2D</span>)                    │ (<span style=\"color: #00d7ff; text-decoration-color: #00d7ff\">None</span>, <span style=\"color: #00af00; text-decoration-color: #00af00\">61</span>, <span style=\"color: #00af00; text-decoration-color: #00af00\">61</span>, <span style=\"color: #00af00; text-decoration-color: #00af00\">64</span>)          │          <span style=\"color: #00af00; text-decoration-color: #00af00\">18,496</span> │\n",
       "├──────────────────────────────────────┼─────────────────────────────┼─────────────────┤\n",
       "│ max_pooling2d_1 (<span style=\"color: #0087ff; text-decoration-color: #0087ff\">MaxPooling2D</span>)       │ (<span style=\"color: #00d7ff; text-decoration-color: #00d7ff\">None</span>, <span style=\"color: #00af00; text-decoration-color: #00af00\">30</span>, <span style=\"color: #00af00; text-decoration-color: #00af00\">30</span>, <span style=\"color: #00af00; text-decoration-color: #00af00\">64</span>)          │               <span style=\"color: #00af00; text-decoration-color: #00af00\">0</span> │\n",
       "├──────────────────────────────────────┼─────────────────────────────┼─────────────────┤\n",
       "│ conv2d_2 (<span style=\"color: #0087ff; text-decoration-color: #0087ff\">Conv2D</span>)                    │ (<span style=\"color: #00d7ff; text-decoration-color: #00d7ff\">None</span>, <span style=\"color: #00af00; text-decoration-color: #00af00\">28</span>, <span style=\"color: #00af00; text-decoration-color: #00af00\">28</span>, <span style=\"color: #00af00; text-decoration-color: #00af00\">32</span>)          │          <span style=\"color: #00af00; text-decoration-color: #00af00\">18,464</span> │\n",
       "├──────────────────────────────────────┼─────────────────────────────┼─────────────────┤\n",
       "│ max_pooling2d_2 (<span style=\"color: #0087ff; text-decoration-color: #0087ff\">MaxPooling2D</span>)       │ (<span style=\"color: #00d7ff; text-decoration-color: #00d7ff\">None</span>, <span style=\"color: #00af00; text-decoration-color: #00af00\">14</span>, <span style=\"color: #00af00; text-decoration-color: #00af00\">14</span>, <span style=\"color: #00af00; text-decoration-color: #00af00\">32</span>)          │               <span style=\"color: #00af00; text-decoration-color: #00af00\">0</span> │\n",
       "├──────────────────────────────────────┼─────────────────────────────┼─────────────────┤\n",
       "│ flatten (<span style=\"color: #0087ff; text-decoration-color: #0087ff\">Flatten</span>)                    │ (<span style=\"color: #00d7ff; text-decoration-color: #00d7ff\">None</span>, <span style=\"color: #00af00; text-decoration-color: #00af00\">6272</span>)                │               <span style=\"color: #00af00; text-decoration-color: #00af00\">0</span> │\n",
       "├──────────────────────────────────────┼─────────────────────────────┼─────────────────┤\n",
       "│ dense (<span style=\"color: #0087ff; text-decoration-color: #0087ff\">Dense</span>)                        │ (<span style=\"color: #00d7ff; text-decoration-color: #00d7ff\">None</span>, <span style=\"color: #00af00; text-decoration-color: #00af00\">512</span>)                 │       <span style=\"color: #00af00; text-decoration-color: #00af00\">3,211,776</span> │\n",
       "├──────────────────────────────────────┼─────────────────────────────┼─────────────────┤\n",
       "│ dense_1 (<span style=\"color: #0087ff; text-decoration-color: #0087ff\">Dense</span>)                      │ (<span style=\"color: #00d7ff; text-decoration-color: #00d7ff\">None</span>, <span style=\"color: #00af00; text-decoration-color: #00af00\">256</span>)                 │         <span style=\"color: #00af00; text-decoration-color: #00af00\">131,328</span> │\n",
       "├──────────────────────────────────────┼─────────────────────────────┼─────────────────┤\n",
       "│ dense_2 (<span style=\"color: #0087ff; text-decoration-color: #0087ff\">Dense</span>)                      │ (<span style=\"color: #00d7ff; text-decoration-color: #00d7ff\">None</span>, <span style=\"color: #00af00; text-decoration-color: #00af00\">1</span>)                   │             <span style=\"color: #00af00; text-decoration-color: #00af00\">257</span> │\n",
       "└──────────────────────────────────────┴─────────────────────────────┴─────────────────┘\n",
       "</pre>\n"
      ],
      "text/plain": [
       "┏━━━━━━━━━━━━━━━━━━━━━━━━━━━━━━━━━━━━━━┳━━━━━━━━━━━━━━━━━━━━━━━━━━━━━┳━━━━━━━━━━━━━━━━━┓\n",
       "┃\u001b[1m \u001b[0m\u001b[1mLayer (type)                        \u001b[0m\u001b[1m \u001b[0m┃\u001b[1m \u001b[0m\u001b[1mOutput Shape               \u001b[0m\u001b[1m \u001b[0m┃\u001b[1m \u001b[0m\u001b[1m        Param #\u001b[0m\u001b[1m \u001b[0m┃\n",
       "┡━━━━━━━━━━━━━━━━━━━━━━━━━━━━━━━━━━━━━━╇━━━━━━━━━━━━━━━━━━━━━━━━━━━━━╇━━━━━━━━━━━━━━━━━┩\n",
       "│ conv2d (\u001b[38;5;33mConv2D\u001b[0m)                      │ (\u001b[38;5;45mNone\u001b[0m, \u001b[38;5;34m126\u001b[0m, \u001b[38;5;34m126\u001b[0m, \u001b[38;5;34m32\u001b[0m)        │             \u001b[38;5;34m896\u001b[0m │\n",
       "├──────────────────────────────────────┼─────────────────────────────┼─────────────────┤\n",
       "│ max_pooling2d (\u001b[38;5;33mMaxPooling2D\u001b[0m)         │ (\u001b[38;5;45mNone\u001b[0m, \u001b[38;5;34m63\u001b[0m, \u001b[38;5;34m63\u001b[0m, \u001b[38;5;34m32\u001b[0m)          │               \u001b[38;5;34m0\u001b[0m │\n",
       "├──────────────────────────────────────┼─────────────────────────────┼─────────────────┤\n",
       "│ conv2d_1 (\u001b[38;5;33mConv2D\u001b[0m)                    │ (\u001b[38;5;45mNone\u001b[0m, \u001b[38;5;34m61\u001b[0m, \u001b[38;5;34m61\u001b[0m, \u001b[38;5;34m64\u001b[0m)          │          \u001b[38;5;34m18,496\u001b[0m │\n",
       "├──────────────────────────────────────┼─────────────────────────────┼─────────────────┤\n",
       "│ max_pooling2d_1 (\u001b[38;5;33mMaxPooling2D\u001b[0m)       │ (\u001b[38;5;45mNone\u001b[0m, \u001b[38;5;34m30\u001b[0m, \u001b[38;5;34m30\u001b[0m, \u001b[38;5;34m64\u001b[0m)          │               \u001b[38;5;34m0\u001b[0m │\n",
       "├──────────────────────────────────────┼─────────────────────────────┼─────────────────┤\n",
       "│ conv2d_2 (\u001b[38;5;33mConv2D\u001b[0m)                    │ (\u001b[38;5;45mNone\u001b[0m, \u001b[38;5;34m28\u001b[0m, \u001b[38;5;34m28\u001b[0m, \u001b[38;5;34m32\u001b[0m)          │          \u001b[38;5;34m18,464\u001b[0m │\n",
       "├──────────────────────────────────────┼─────────────────────────────┼─────────────────┤\n",
       "│ max_pooling2d_2 (\u001b[38;5;33mMaxPooling2D\u001b[0m)       │ (\u001b[38;5;45mNone\u001b[0m, \u001b[38;5;34m14\u001b[0m, \u001b[38;5;34m14\u001b[0m, \u001b[38;5;34m32\u001b[0m)          │               \u001b[38;5;34m0\u001b[0m │\n",
       "├──────────────────────────────────────┼─────────────────────────────┼─────────────────┤\n",
       "│ flatten (\u001b[38;5;33mFlatten\u001b[0m)                    │ (\u001b[38;5;45mNone\u001b[0m, \u001b[38;5;34m6272\u001b[0m)                │               \u001b[38;5;34m0\u001b[0m │\n",
       "├──────────────────────────────────────┼─────────────────────────────┼─────────────────┤\n",
       "│ dense (\u001b[38;5;33mDense\u001b[0m)                        │ (\u001b[38;5;45mNone\u001b[0m, \u001b[38;5;34m512\u001b[0m)                 │       \u001b[38;5;34m3,211,776\u001b[0m │\n",
       "├──────────────────────────────────────┼─────────────────────────────┼─────────────────┤\n",
       "│ dense_1 (\u001b[38;5;33mDense\u001b[0m)                      │ (\u001b[38;5;45mNone\u001b[0m, \u001b[38;5;34m256\u001b[0m)                 │         \u001b[38;5;34m131,328\u001b[0m │\n",
       "├──────────────────────────────────────┼─────────────────────────────┼─────────────────┤\n",
       "│ dense_2 (\u001b[38;5;33mDense\u001b[0m)                      │ (\u001b[38;5;45mNone\u001b[0m, \u001b[38;5;34m1\u001b[0m)                   │             \u001b[38;5;34m257\u001b[0m │\n",
       "└──────────────────────────────────────┴─────────────────────────────┴─────────────────┘\n"
      ]
     },
     "metadata": {},
     "output_type": "display_data"
    },
    {
     "data": {
      "text/html": [
       "<pre style=\"white-space:pre;overflow-x:auto;line-height:normal;font-family:Menlo,'DejaVu Sans Mono',consolas,'Courier New',monospace\"><span style=\"font-weight: bold\"> Total params: </span><span style=\"color: #00af00; text-decoration-color: #00af00\">3,381,217</span> (12.90 MB)\n",
       "</pre>\n"
      ],
      "text/plain": [
       "\u001b[1m Total params: \u001b[0m\u001b[38;5;34m3,381,217\u001b[0m (12.90 MB)\n"
      ]
     },
     "metadata": {},
     "output_type": "display_data"
    },
    {
     "data": {
      "text/html": [
       "<pre style=\"white-space:pre;overflow-x:auto;line-height:normal;font-family:Menlo,'DejaVu Sans Mono',consolas,'Courier New',monospace\"><span style=\"font-weight: bold\"> Trainable params: </span><span style=\"color: #00af00; text-decoration-color: #00af00\">3,381,217</span> (12.90 MB)\n",
       "</pre>\n"
      ],
      "text/plain": [
       "\u001b[1m Trainable params: \u001b[0m\u001b[38;5;34m3,381,217\u001b[0m (12.90 MB)\n"
      ]
     },
     "metadata": {},
     "output_type": "display_data"
    },
    {
     "data": {
      "text/html": [
       "<pre style=\"white-space:pre;overflow-x:auto;line-height:normal;font-family:Menlo,'DejaVu Sans Mono',consolas,'Courier New',monospace\"><span style=\"font-weight: bold\"> Non-trainable params: </span><span style=\"color: #00af00; text-decoration-color: #00af00\">0</span> (0.00 B)\n",
       "</pre>\n"
      ],
      "text/plain": [
       "\u001b[1m Non-trainable params: \u001b[0m\u001b[38;5;34m0\u001b[0m (0.00 B)\n"
      ]
     },
     "metadata": {},
     "output_type": "display_data"
    }
   ],
   "source": [
    "model.summary()"
   ]
  },
  {
   "cell_type": "markdown",
   "metadata": {
    "id": "9Vo0r9X9_PFv"
   },
   "source": [
    "\\\n",
    "\n",
    "---\n",
    "\n"
   ]
  },
  {
   "cell_type": "code",
   "execution_count": 17,
   "metadata": {
    "executionInfo": {
     "elapsed": 501,
     "status": "ok",
     "timestamp": 1736760470418,
     "user": {
      "displayName": "Susan Lucy Palacios Salcedo",
      "userId": "03416602319916896534"
     },
     "user_tz": 240
    },
    "id": "F66-8k0b2gku"
   },
   "outputs": [],
   "source": [
    "model.compile(optimizer=optimizers.RMSprop(learning_rate=1e-3), loss=tf.keras.losses.BinaryCrossentropy(),metrics=[ 'accuracy','AUC'])"
   ]
  },
  {
   "cell_type": "code",
   "execution_count": null,
   "metadata": {
    "id": "NAukK6QCB8YS"
   },
   "outputs": [],
   "source": [
    "%mkdir -p my_model"
   ]
  },
  {
   "cell_type": "code",
   "execution_count": 20,
   "metadata": {
    "executionInfo": {
     "elapsed": 436,
     "status": "ok",
     "timestamp": 1736760526350,
     "user": {
      "displayName": "Susan Lucy Palacios Salcedo",
      "userId": "03416602319916896534"
     },
     "user_tz": 240
    },
    "id": "sznCSjlk3CqS"
   },
   "outputs": [],
   "source": [
    "#Utlizando el checkpoint para encontrar los pesos considerando el mejor accuracy en validación.\n",
    "checkpoint_path = \"weights-improvement-{epoch:02d}-{val_accuracy:.3f}.weights.h5\"\n",
    "\n",
    "monitor = \"val_accuracy\"\n",
    "\n",
    "mode = \"max\"\n",
    "\n",
    "model_checkpoint = ModelCheckpoint(checkpoint_path, monitor=monitor, verbose=1, save_best_only=True, save_weights_only=True, mode=mode)"
   ]
  },
  {
   "cell_type": "code",
   "execution_count": 21,
   "metadata": {
    "colab": {
     "base_uri": "https://localhost:8080/"
    },
    "executionInfo": {
     "elapsed": 1380604,
     "status": "ok",
     "timestamp": 1736761912907,
     "user": {
      "displayName": "Susan Lucy Palacios Salcedo",
      "userId": "03416602319916896534"
     },
     "user_tz": 240
    },
    "id": "jgwZqLQX2im6",
    "outputId": "05bef572-edeb-405a-cb2a-e6bbfb143d75"
   },
   "outputs": [
    {
     "name": "stdout",
     "output_type": "stream",
     "text": [
      "Epoch 1/10\n",
      "\u001b[1m125/125\u001b[0m \u001b[32m━━━━━━━━━━━━━━━━━━━━\u001b[0m\u001b[37m\u001b[0m \u001b[1m0s\u001b[0m 901ms/step - AUC: 0.7908 - accuracy: 0.8049 - loss: 0.4673\n",
      "Epoch 1: val_accuracy improved from -inf to 0.93876, saving model to weights-improvement-01-0.939.weights.h5\n",
      "\u001b[1m125/125\u001b[0m \u001b[32m━━━━━━━━━━━━━━━━━━━━\u001b[0m\u001b[37m\u001b[0m \u001b[1m122s\u001b[0m 963ms/step - AUC: 0.7918 - accuracy: 0.8054 - loss: 0.4662 - val_AUC: 0.9838 - val_accuracy: 0.9388 - val_loss: 0.1633\n",
      "Epoch 2/10\n",
      "\u001b[1m125/125\u001b[0m \u001b[32m━━━━━━━━━━━━━━━━━━━━\u001b[0m\u001b[37m\u001b[0m \u001b[1m0s\u001b[0m 878ms/step - AUC: 0.9770 - accuracy: 0.9404 - loss: 0.1608\n",
      "Epoch 2: val_accuracy did not improve from 0.93876\n",
      "\u001b[1m125/125\u001b[0m \u001b[32m━━━━━━━━━━━━━━━━━━━━\u001b[0m\u001b[37m\u001b[0m \u001b[1m141s\u001b[0m 961ms/step - AUC: 0.9770 - accuracy: 0.9404 - loss: 0.1608 - val_AUC: 0.9873 - val_accuracy: 0.8986 - val_loss: 0.2432\n",
      "Epoch 3/10\n",
      "\u001b[1m125/125\u001b[0m \u001b[32m━━━━━━━━━━━━━━━━━━━━\u001b[0m\u001b[37m\u001b[0m \u001b[1m0s\u001b[0m 892ms/step - AUC: 0.9863 - accuracy: 0.9545 - loss: 0.1236\n",
      "Epoch 3: val_accuracy improved from 0.93876 to 0.94478, saving model to weights-improvement-03-0.945.weights.h5\n",
      "\u001b[1m125/125\u001b[0m \u001b[32m━━━━━━━━━━━━━━━━━━━━\u001b[0m\u001b[37m\u001b[0m \u001b[1m144s\u001b[0m 975ms/step - AUC: 0.9863 - accuracy: 0.9545 - loss: 0.1236 - val_AUC: 0.9902 - val_accuracy: 0.9448 - val_loss: 0.1389\n",
      "Epoch 4/10\n",
      "\u001b[1m125/125\u001b[0m \u001b[32m━━━━━━━━━━━━━━━━━━━━\u001b[0m\u001b[37m\u001b[0m \u001b[1m0s\u001b[0m 884ms/step - AUC: 0.9913 - accuracy: 0.9594 - loss: 0.1011\n",
      "Epoch 4: val_accuracy improved from 0.94478 to 0.95984, saving model to weights-improvement-04-0.960.weights.h5\n",
      "\u001b[1m125/125\u001b[0m \u001b[32m━━━━━━━━━━━━━━━━━━━━\u001b[0m\u001b[37m\u001b[0m \u001b[1m121s\u001b[0m 967ms/step - AUC: 0.9913 - accuracy: 0.9594 - loss: 0.1011 - val_AUC: 0.9904 - val_accuracy: 0.9598 - val_loss: 0.1146\n",
      "Epoch 5/10\n",
      "\u001b[1m125/125\u001b[0m \u001b[32m━━━━━━━━━━━━━━━━━━━━\u001b[0m\u001b[37m\u001b[0m \u001b[1m0s\u001b[0m 883ms/step - AUC: 0.9947 - accuracy: 0.9701 - loss: 0.0824\n",
      "Epoch 5: val_accuracy did not improve from 0.95984\n",
      "\u001b[1m125/125\u001b[0m \u001b[32m━━━━━━━━━━━━━━━━━━━━\u001b[0m\u001b[37m\u001b[0m \u001b[1m142s\u001b[0m 966ms/step - AUC: 0.9946 - accuracy: 0.9701 - loss: 0.0824 - val_AUC: 0.9915 - val_accuracy: 0.9548 - val_loss: 0.1259\n",
      "Epoch 6/10\n",
      "\u001b[1m125/125\u001b[0m \u001b[32m━━━━━━━━━━━━━━━━━━━━\u001b[0m\u001b[37m\u001b[0m \u001b[1m0s\u001b[0m 880ms/step - AUC: 0.9967 - accuracy: 0.9771 - loss: 0.0623\n",
      "Epoch 6: val_accuracy did not improve from 0.95984\n",
      "\u001b[1m125/125\u001b[0m \u001b[32m━━━━━━━━━━━━━━━━━━━━\u001b[0m\u001b[37m\u001b[0m \u001b[1m138s\u001b[0m 935ms/step - AUC: 0.9967 - accuracy: 0.9771 - loss: 0.0623 - val_AUC: 0.9869 - val_accuracy: 0.9598 - val_loss: 0.1224\n",
      "Epoch 7/10\n",
      "\u001b[1m125/125\u001b[0m \u001b[32m━━━━━━━━━━━━━━━━━━━━\u001b[0m\u001b[37m\u001b[0m \u001b[1m0s\u001b[0m 876ms/step - AUC: 0.9975 - accuracy: 0.9839 - loss: 0.0453\n",
      "Epoch 7: val_accuracy improved from 0.95984 to 0.96084, saving model to weights-improvement-07-0.961.weights.h5\n",
      "\u001b[1m125/125\u001b[0m \u001b[32m━━━━━━━━━━━━━━━━━━━━\u001b[0m\u001b[37m\u001b[0m \u001b[1m145s\u001b[0m 960ms/step - AUC: 0.9975 - accuracy: 0.9839 - loss: 0.0454 - val_AUC: 0.9852 - val_accuracy: 0.9608 - val_loss: 0.1198\n",
      "Epoch 8/10\n",
      "\u001b[1m125/125\u001b[0m \u001b[32m━━━━━━━━━━━━━━━━━━━━\u001b[0m\u001b[37m\u001b[0m \u001b[1m0s\u001b[0m 879ms/step - AUC: 0.9982 - accuracy: 0.9879 - loss: 0.0364\n",
      "Epoch 8: val_accuracy did not improve from 0.96084\n",
      "\u001b[1m125/125\u001b[0m \u001b[32m━━━━━━━━━━━━━━━━━━━━\u001b[0m\u001b[37m\u001b[0m \u001b[1m142s\u001b[0m 962ms/step - AUC: 0.9982 - accuracy: 0.9879 - loss: 0.0364 - val_AUC: 0.9802 - val_accuracy: 0.9568 - val_loss: 0.1650\n",
      "Epoch 9/10\n",
      "\u001b[1m125/125\u001b[0m \u001b[32m━━━━━━━━━━━━━━━━━━━━\u001b[0m\u001b[37m\u001b[0m \u001b[1m0s\u001b[0m 878ms/step - AUC: 0.9992 - accuracy: 0.9866 - loss: 0.0324\n",
      "Epoch 9: val_accuracy improved from 0.96084 to 0.96185, saving model to weights-improvement-09-0.962.weights.h5\n",
      "\u001b[1m125/125\u001b[0m \u001b[32m━━━━━━━━━━━━━━━━━━━━\u001b[0m\u001b[37m\u001b[0m \u001b[1m142s\u001b[0m 961ms/step - AUC: 0.9992 - accuracy: 0.9866 - loss: 0.0324 - val_AUC: 0.9812 - val_accuracy: 0.9618 - val_loss: 0.1725\n",
      "Epoch 10/10\n",
      "\u001b[1m125/125\u001b[0m \u001b[32m━━━━━━━━━━━━━━━━━━━━\u001b[0m\u001b[37m\u001b[0m \u001b[1m0s\u001b[0m 875ms/step - AUC: 0.9991 - accuracy: 0.9912 - loss: 0.0240\n",
      "Epoch 10: val_accuracy did not improve from 0.96185\n",
      "\u001b[1m125/125\u001b[0m \u001b[32m━━━━━━━━━━━━━━━━━━━━\u001b[0m\u001b[37m\u001b[0m \u001b[1m142s\u001b[0m 958ms/step - AUC: 0.9991 - accuracy: 0.9912 - loss: 0.0240 - val_AUC: 0.9795 - val_accuracy: 0.9568 - val_loss: 0.2471\n"
     ]
    }
   ],
   "source": [
    "history = model.fit(X_train, y_train,batch_size=32,epochs=10,validation_data=(X_test, y_test), callbacks=[model_checkpoint])"
   ]
  },
  {
   "cell_type": "code",
   "execution_count": 23,
   "metadata": {
    "executionInfo": {
     "elapsed": 423,
     "status": "ok",
     "timestamp": 1736764345667,
     "user": {
      "displayName": "Susan Lucy Palacios Salcedo",
      "userId": "03416602319916896534"
     },
     "user_tz": 240
    },
    "id": "Op93JDmG-6Zp"
   },
   "outputs": [],
   "source": [
    "model.load_weights(\"weights-improvement-09-0.962.weights.h5\")"
   ]
  },
  {
   "cell_type": "code",
   "execution_count": 26,
   "metadata": {
    "colab": {
     "base_uri": "https://localhost:8080/"
    },
    "executionInfo": {
     "elapsed": 38,
     "status": "ok",
     "timestamp": 1736764404528,
     "user": {
      "displayName": "Susan Lucy Palacios Salcedo",
      "userId": "03416602319916896534"
     },
     "user_tz": 240
    },
    "id": "QCL-5cTE7cSe",
    "outputId": "06446bbf-d28e-40a4-c40c-26ec544e14b7"
   },
   "outputs": [
    {
     "name": "stderr",
     "output_type": "stream",
     "text": [
      "WARNING:absl:You are saving your model as an HDF5 file via `model.save()` or `keras.saving.save_model(model)`. This file format is considered legacy. We recommend using instead the native Keras format, e.g. `model.save('my_model.keras')` or `keras.saving.save_model(model, 'my_model.keras')`. \n"
     ]
    }
   ],
   "source": [
    "model.save('chest_xrayV8.hdf5')"
   ]
  },
  {
   "cell_type": "markdown",
   "metadata": {
    "id": "Hu72tPneEXuR"
   },
   "source": [
    "#Evaluando el modelo"
   ]
  },
  {
   "cell_type": "code",
   "execution_count": 24,
   "metadata": {
    "colab": {
     "base_uri": "https://localhost:8080/"
    },
    "executionInfo": {
     "elapsed": 40249,
     "status": "ok",
     "timestamp": 1736764392903,
     "user": {
      "displayName": "Susan Lucy Palacios Salcedo",
      "userId": "03416602319916896534"
     },
     "user_tz": 240
    },
    "id": "pwPVsGff2SzB",
    "outputId": "2c43e8a2-dc44-46ca-a60d-f60063b1d0e2"
   },
   "outputs": [
    {
     "name": "stdout",
     "output_type": "stream",
     "text": [
      "\u001b[1m125/125\u001b[0m \u001b[32m━━━━━━━━━━━━━━━━━━━━\u001b[0m\u001b[37m\u001b[0m \u001b[1m34s\u001b[0m 270ms/step - AUC: 0.9999 - accuracy: 0.9956 - loss: 0.0099\n"
     ]
    }
   ],
   "source": [
    "score_train= model.evaluate(X_train, y_train)"
   ]
  },
  {
   "cell_type": "code",
   "execution_count": 25,
   "metadata": {
    "colab": {
     "base_uri": "https://localhost:8080/"
    },
    "executionInfo": {
     "elapsed": 11658,
     "status": "ok",
     "timestamp": 1736764404527,
     "user": {
      "displayName": "Susan Lucy Palacios Salcedo",
      "userId": "03416602319916896534"
     },
     "user_tz": 240
    },
    "id": "sWPaxjx_Mgvn",
    "outputId": "214159e5-0b71-4300-ea3e-e650adb45ae0"
   },
   "outputs": [
    {
     "name": "stdout",
     "output_type": "stream",
     "text": [
      "\u001b[1m32/32\u001b[0m \u001b[32m━━━━━━━━━━━━━━━━━━━━\u001b[0m\u001b[37m\u001b[0m \u001b[1m8s\u001b[0m 230ms/step - AUC: 0.9855 - accuracy: 0.9629 - loss: 0.1519\n"
     ]
    }
   ],
   "source": [
    "score_test= model.evaluate(X_test, y_test)"
   ]
  },
  {
   "cell_type": "code",
   "execution_count": 27,
   "metadata": {
    "executionInfo": {
     "elapsed": 612,
     "status": "ok",
     "timestamp": 1736764409603,
     "user": {
      "displayName": "Susan Lucy Palacios Salcedo",
      "userId": "03416602319916896534"
     },
     "user_tz": 240
    },
    "id": "_uqXvjDvZ5CA"
   },
   "outputs": [],
   "source": [
    "def show_results(log):\n",
    "  val_loss = log.history['val_loss']\n",
    "  val_acc = log.history['val_accuracy']\n",
    "\n",
    "  fig, axes = plt.subplots(1, 2, figsize=(14,4))\n",
    "  ax1, ax2 = axes\n",
    "  ax1.plot(log.history['loss'], label='train')\n",
    "  ax1.plot(val_loss, label='test')\n",
    "  ax1.set_xlabel('epoch'); ax1.set_ylabel('loss')\n",
    "  ax2.plot(log.history['accuracy'], label='train')\n",
    "  ax2.plot(val_acc, label='test')\n",
    "  ax2.set_xlabel('epoch'); ax2.set_ylabel('accuracy')\n",
    "  for ax in axes: ax.legend()"
   ]
  },
  {
   "cell_type": "code",
   "execution_count": 28,
   "metadata": {
    "colab": {
     "base_uri": "https://localhost:8080/",
     "height": 276
    },
    "executionInfo": {
     "elapsed": 779,
     "status": "ok",
     "timestamp": 1736764412791,
     "user": {
      "displayName": "Susan Lucy Palacios Salcedo",
      "userId": "03416602319916896534"
     },
     "user_tz": 240
    },
    "id": "m-lnpJvLZ7CU",
    "outputId": "ebfdce85-201e-40a6-cbd9-b6d5ab33c0fe"
   },
   "outputs": [
    {
     "data": {
      "image/png": "[encoded data removed]",
      "text/plain": [
       "<Figure size 1400x400 with 2 Axes>"
      ]
     },
     "metadata": {},
     "output_type": "display_data"
    }
   ],
   "source": [
    "show_results(history)# Graficando el Loss y Accuracy vs Epoch"
   ]
  },
  {
   "cell_type": "code",
   "execution_count": 29,
   "metadata": {
    "colab": {
     "base_uri": "https://localhost:8080/",
     "height": 211
    },
    "executionInfo": {
     "elapsed": 450,
     "status": "error",
     "timestamp": 1736764416319,
     "user": {
      "displayName": "Susan Lucy Palacios Salcedo",
      "userId": "03416602319916896534"
     },
     "user_tz": 240
    },
    "id": "L0OS_R9TESpe",
    "outputId": "efd34333-43f1-4747-dca8-9435da000630"
   },
   "outputs": [
    {
     "ename": "KeyError",
     "evalue": "'auc'",
     "output_type": "error",
     "traceback": [
      "\u001b[0;31m---------------------------------------------------------------------------\u001b[0m",
      "\u001b[0;31mKeyError\u001b[0m                                  Traceback (most recent call last)",
      "\u001b[0;32m<ipython-input-29-a21bdb4727e6>\u001b[0m in \u001b[0;36m<cell line: 2>\u001b[0;34m()\u001b[0m\n\u001b[1;32m      1\u001b[0m \u001b[0;31m#Graficando el AUC\u001b[0m\u001b[0;34m\u001b[0m\u001b[0;34m\u001b[0m\u001b[0m\n\u001b[0;32m----> 2\u001b[0;31m \u001b[0mplt\u001b[0m\u001b[0;34m.\u001b[0m\u001b[0mplot\u001b[0m\u001b[0;34m(\u001b[0m\u001b[0mhistory\u001b[0m\u001b[0;34m.\u001b[0m\u001b[0mhistory\u001b[0m\u001b[0;34m[\u001b[0m\u001b[0;34m'auc'\u001b[0m\u001b[0;34m]\u001b[0m\u001b[0;34m,\u001b[0m \u001b[0mlabel\u001b[0m \u001b[0;34m=\u001b[0m \u001b[0;34m'AUC'\u001b[0m\u001b[0;34m)\u001b[0m\u001b[0;34m\u001b[0m\u001b[0;34m\u001b[0m\u001b[0m\n\u001b[0m\u001b[1;32m      3\u001b[0m \u001b[0mplt\u001b[0m\u001b[0;34m.\u001b[0m\u001b[0mplot\u001b[0m\u001b[0;34m(\u001b[0m\u001b[0mhistory\u001b[0m\u001b[0;34m.\u001b[0m\u001b[0mhistory\u001b[0m\u001b[0;34m[\u001b[0m\u001b[0;34m'val_auc'\u001b[0m\u001b[0;34m]\u001b[0m\u001b[0;34m,\u001b[0m\u001b[0mlabel\u001b[0m \u001b[0;34m=\u001b[0m \u001b[0;34m'val_AUC'\u001b[0m\u001b[0;34m)\u001b[0m\u001b[0;34m\u001b[0m\u001b[0;34m\u001b[0m\u001b[0m\n\u001b[1;32m      4\u001b[0m \u001b[0mplt\u001b[0m\u001b[0;34m.\u001b[0m\u001b[0mlegend\u001b[0m\u001b[0;34m(\u001b[0m\u001b[0;34m)\u001b[0m\u001b[0;34m\u001b[0m\u001b[0;34m\u001b[0m\u001b[0m\n\u001b[1;32m      5\u001b[0m \u001b[0mplt\u001b[0m\u001b[0;34m.\u001b[0m\u001b[0mshow\u001b[0m\u001b[0;34m(\u001b[0m\u001b[0;34m)\u001b[0m\u001b[0;34m\u001b[0m\u001b[0;34m\u001b[0m\u001b[0m\n",
      "\u001b[0;31mKeyError\u001b[0m: 'auc'"
     ]
    }
   ],
   "source": [
    "#Graficando el AUC\n",
    "plt.plot(history.history['auc'], label = 'AUC')\n",
    "plt.plot(history.history['val_auc'],label = 'val_AUC')\n",
    "plt.legend()\n",
    "plt.show()"
   ]
  },
  {
   "cell_type": "code",
   "execution_count": null,
   "metadata": {
    "id": "9b7oAmbkurht"
   },
   "outputs": [],
   "source": [
    "#del model"
   ]
  },
  {
   "cell_type": "code",
   "execution_count": null,
   "metadata": {
    "id": "mC_1LixWuW7b"
   },
   "outputs": [],
   "source": [
    "#model = tf.keras.models.load_model('drive/MyDrive/DeepLearning2022-2/EXAMENPARCIAL/models/chest_xrayV1.hdf5')"
   ]
  },
  {
   "cell_type": "code",
   "execution_count": 30,
   "metadata": {
    "colab": {
     "base_uri": "https://localhost:8080/"
    },
    "executionInfo": {
     "elapsed": 10967,
     "status": "ok",
     "timestamp": 1736764440709,
     "user": {
      "displayName": "Susan Lucy Palacios Salcedo",
      "userId": "03416602319916896534"
     },
     "user_tz": 240
    },
    "id": "rZXM14KFSkOv",
    "outputId": "30ec834d-914c-4556-fded-a2a441a7c332"
   },
   "outputs": [
    {
     "name": "stdout",
     "output_type": "stream",
     "text": [
      "\u001b[1m32/32\u001b[0m \u001b[32m━━━━━━━━━━━━━━━━━━━━\u001b[0m\u001b[37m\u001b[0m \u001b[1m11s\u001b[0m 323ms/step\n"
     ]
    }
   ],
   "source": [
    "label_pre=(model.predict(X_test) > 0.5).astype(\"int32\")"
   ]
  },
  {
   "cell_type": "code",
   "execution_count": 31,
   "metadata": {
    "colab": {
     "base_uri": "https://localhost:8080/"
    },
    "executionInfo": {
     "elapsed": 14,
     "status": "ok",
     "timestamp": 1736764440709,
     "user": {
      "displayName": "Susan Lucy Palacios Salcedo",
      "userId": "03416602319916896534"
     },
     "user_tz": 240
    },
    "id": "AvxfYJ3A4o1_",
    "outputId": "46b50258-bfa2-40d0-e68f-bef423cb6abc"
   },
   "outputs": [
    {
     "name": "stdout",
     "output_type": "stream",
     "text": [
      "Confusion Matrix\n",
      "     NO   SI\n",
      "NO  252   17\n",
      "SI   21  706\n",
      "\n",
      "\n",
      "Reporte de clasificación\n",
      "              precision    recall  f1-score   support\n",
      "\n",
      "           0     0.9231    0.9368    0.9299       269\n",
      "           1     0.9765    0.9711    0.9738       727\n",
      "\n",
      "    accuracy                         0.9618       996\n",
      "   macro avg     0.9498    0.9540    0.9518       996\n",
      "weighted avg     0.9621    0.9618    0.9619       996\n",
      "\n"
     ]
    }
   ],
   "source": [
    "#Generando la matrix de confusión y el Reporte de Calsificación\n",
    "from sklearn.metrics import classification_report,confusion_matrix\n",
    "cm = pd.DataFrame(confusion_matrix(y_test,label_pre),\n",
    "                  index = ['NO','SI'],\n",
    "                  columns = ['NO','SI'])\n",
    "print(\"Confusion Matrix\")\n",
    "print(cm)\n",
    "print('\\n')\n",
    "print(\"Reporte de clasificación\")\n",
    "print(classification_report(y_test, label_pre, digits=4))"
   ]
  },
  {
   "cell_type": "code",
   "execution_count": 32,
   "metadata": {
    "executionInfo": {
     "elapsed": 414,
     "status": "ok",
     "timestamp": 1736764441113,
     "user": {
      "displayName": "Susan Lucy Palacios Salcedo",
      "userId": "03416602319916896534"
     },
     "user_tz": 240
    },
    "id": "iwYD5f2WoUz9"
   },
   "outputs": [],
   "source": [
    "#Guardando la Matriz de confusión, Reporte de clasificación y métricas evaluadas\n",
    "output_log_file = os.path.join('report_chest_xrayV8.txt')\n",
    "target_names=['NO','SI']\n",
    "#Saving classification report\n",
    "textf = open(output_log_file, \"w\")\n",
    "print('Classification Report', file=textf)\n",
    "print('\\n', file=textf)\n",
    "print('Confusion Matrix:', file=textf)\n",
    "print(cm, file=textf)\n",
    "print('\\n', file=textf)\n",
    "print('Classification Report', file=textf)\n",
    "print(classification_report(y_test,label_pre,target_names=target_names,digits=4),file=textf)\n",
    "print('\\n', file=textf)\n",
    "print('Train Loss','Test Loss' ,file=textf)\n",
    "print('{0:.4g}'.format(score_train[0]),'{0:.4g}'.format(score_test[0]),file=textf)\n",
    "print('\\n', file=textf)\n",
    "print('Train ACC','Test ACC' ,file=textf)\n",
    "print('{0:.4g}'.format(score_train[1]),'{0:.4g}'.format(score_test[1]),file=textf)\n",
    "print('\\n', file=textf)\n",
    "print('Train AUC','Test AUC' ,file=textf)\n",
    "print('{0:.4g}'.format(score_train[2]),'{0:.4g}'.format(score_test[2]),file=textf)\n",
    "print('\\n', file=textf)\n",
    "\n",
    "\n",
    "textf.close()"
   ]
  },
  {
   "cell_type": "markdown",
   "metadata": {
    "id": "HVEQ-doZEcVW"
   },
   "source": [
    "#Realizando las predicciones en el Test Set para Kaggle"
   ]
  },
  {
   "cell_type": "code",
   "execution_count": null,
   "metadata": {
    "id": "XK07Huv5Mrvm"
   },
   "outputs": [],
   "source": [
    "pred_kagle = model.predict(Test_X).flatten()\n",
    "pred_kagle"
   ]
  },
  {
   "cell_type": "code",
   "execution_count": null,
   "metadata": {
    "id": "v3wka6y7M3mw"
   },
   "outputs": [],
   "source": [
    "df_r1 = pd.DataFrame(pred_kagle, columns = ['Predicted'])\n",
    "result = pd.concat([df_test['Id'], df_r1], axis=1)"
   ]
  },
  {
   "cell_type": "code",
   "execution_count": null,
   "metadata": {
    "colab": {
     "base_uri": "https://localhost:8080/",
     "height": 424
    },
    "executionInfo": {
     "elapsed": 281,
     "status": "ok",
     "timestamp": 1665698203721,
     "user": {
      "displayName": "Susan Lucy Palacios Salcedo",
      "userId": "03416602319916896534"
     },
     "user_tz": 300
    },
    "id": "PUZUAryrNDRq",
    "outputId": "e4fa376e-7da9-407e-c79d-f3c270954510"
   },
   "outputs": [
    {
     "data": {
      "text/html": [
       "\n",
       "  <div id=\"df-2e223892-a533-425d-870a-48be3938853b\">\n",
       "    <div class=\"colab-df-container\">\n",
       "      <div>\n",
       "<style scoped>\n",
       "    .dataframe tbody tr th:only-of-type {\n",
       "        vertical-align: middle;\n",
       "    }\n",
       "\n",
       "    .dataframe tbody tr th {\n",
       "        vertical-align: top;\n",
       "    }\n",
       "\n",
       "    .dataframe thead th {\n",
       "        text-align: right;\n",
       "    }\n",
       "</style>\n",
       "<table border=\"1\" class=\"dataframe\">\n",
       "  <thead>\n",
       "    <tr style=\"text-align: right;\">\n",
       "      <th></th>\n",
       "      <th>Id</th>\n",
       "      <th>Predicted</th>\n",
       "    </tr>\n",
       "  </thead>\n",
       "  <tbody>\n",
       "    <tr>\n",
       "      <th>0</th>\n",
       "      <td>0</td>\n",
       "      <td>9.996327e-01</td>\n",
       "    </tr>\n",
       "    <tr>\n",
       "      <th>1</th>\n",
       "      <td>1</td>\n",
       "      <td>9.998262e-01</td>\n",
       "    </tr>\n",
       "    <tr>\n",
       "      <th>2</th>\n",
       "      <td>2</td>\n",
       "      <td>1.197449e-06</td>\n",
       "    </tr>\n",
       "    <tr>\n",
       "      <th>3</th>\n",
       "      <td>3</td>\n",
       "      <td>1.000000e+00</td>\n",
       "    </tr>\n",
       "    <tr>\n",
       "      <th>4</th>\n",
       "      <td>4</td>\n",
       "      <td>9.999920e-01</td>\n",
       "    </tr>\n",
       "    <tr>\n",
       "      <th>...</th>\n",
       "      <td>...</td>\n",
       "      <td>...</td>\n",
       "    </tr>\n",
       "    <tr>\n",
       "      <th>874</th>\n",
       "      <td>874</td>\n",
       "      <td>1.659298e-06</td>\n",
       "    </tr>\n",
       "    <tr>\n",
       "      <th>875</th>\n",
       "      <td>875</td>\n",
       "      <td>2.749551e-07</td>\n",
       "    </tr>\n",
       "    <tr>\n",
       "      <th>876</th>\n",
       "      <td>876</td>\n",
       "      <td>9.996533e-01</td>\n",
       "    </tr>\n",
       "    <tr>\n",
       "      <th>877</th>\n",
       "      <td>877</td>\n",
       "      <td>9.999577e-01</td>\n",
       "    </tr>\n",
       "    <tr>\n",
       "      <th>878</th>\n",
       "      <td>878</td>\n",
       "      <td>6.974093e-10</td>\n",
       "    </tr>\n",
       "  </tbody>\n",
       "</table>\n",
       "<p>879 rows × 2 columns</p>\n",
       "</div>\n",
       "      <button class=\"colab-df-convert\" onclick=\"convertToInteractive('df-2e223892-a533-425d-870a-48be3938853b')\"\n",
       "              title=\"Convert this dataframe to an interactive table.\"\n",
       "              style=\"display:none;\">\n",
       "        \n",
       "  <svg xmlns=\"http://www.w3.org/2000/svg\" height=\"24px\"viewBox=\"0 0 24 24\"\n",
       "       width=\"24px\">\n",
       "    <path d=\"M0 0h24v24H0V0z\" fill=\"none\"/>\n",
       "    <path d=\"M18.56 5.44l.94 2.06.94-2.06 2.06-.94-2.06-.94-.94-2.06-.94 2.06-2.06.94zm-11 1L8.5 8.5l.94-2.06 2.06-.94-2.06-.94L8.5 2.5l-.94 2.06-2.06.94zm10 10l.94 2.06.94-2.06 2.06-.94-2.06-.94-.94-2.06-.94 2.06-2.06.94z\"/><path d=\"M17.41 7.96l-1.37-1.37c-.4-.4-.92-.59-1.43-.59-.52 0-1.04.2-1.43.59L10.3 9.45l-7.72 7.72c-.78.78-.78 2.05 0 2.83L4 21.41c.39.39.9.59 1.41.59.51 0 1.02-.2 1.41-.59l7.78-7.78 2.81-2.81c.8-.78.8-2.07 0-2.86zM5.41 20L4 18.59l7.72-7.72 1.47 1.35L5.41 20z\"/>\n",
       "  </svg>\n",
       "      </button>\n",
       "      \n",
       "  <style>\n",
       "    .colab-df-container {\n",
       "      display:flex;\n",
       "      flex-wrap:wrap;\n",
       "      gap: 12px;\n",
       "    }\n",
       "\n",
       "    .colab-df-convert {\n",
       "      background-color: #E8F0FE;\n",
       "      border: none;\n",
       "      border-radius: 50%;\n",
       "      cursor: pointer;\n",
       "      display: none;\n",
       "      fill: #1967D2;\n",
       "      height: 32px;\n",
       "      padding: 0 0 0 0;\n",
       "      width: 32px;\n",
       "    }\n",
       "\n",
       "    .colab-df-convert:hover {\n",
       "      background-color: #E2EBFA;\n",
       "      box-shadow: 0px 1px 2px rgba(60, 64, 67, 0.3), 0px 1px 3px 1px rgba(60, 64, 67, 0.15);\n",
       "      fill: #174EA6;\n",
       "    }\n",
       "\n",
       "    [theme=dark] .colab-df-convert {\n",
       "      background-color: #3B4455;\n",
       "      fill: #D2E3FC;\n",
       "    }\n",
       "\n",
       "    [theme=dark] .colab-df-convert:hover {\n",
       "      background-color: #434B5C;\n",
       "      box-shadow: 0px 1px 3px 1px rgba(0, 0, 0, 0.15);\n",
       "      filter: drop-shadow(0px 1px 2px rgba(0, 0, 0, 0.3));\n",
       "      fill: #FFFFFF;\n",
       "    }\n",
       "  </style>\n",
       "\n",
       "      <script>\n",
       "        const buttonEl =\n",
       "          document.querySelector('#df-2e223892-a533-425d-870a-48be3938853b button.colab-df-convert');\n",
       "        buttonEl.style.display =\n",
       "          google.colab.kernel.accessAllowed ? 'block' : 'none';\n",
       "\n",
       "        async function convertToInteractive(key) {\n",
       "          const element = document.querySelector('#df-2e223892-a533-425d-870a-48be3938853b');\n",
       "          const dataTable =\n",
       "            await google.colab.kernel.invokeFunction('convertToInteractive',\n",
       "                                                     [key], {});\n",
       "          if (!dataTable) return;\n",
       "\n",
       "          const docLinkHtml = 'Like what you see? Visit the ' +\n",
       "            '<a target=\"_blank\" href=https://colab.research.google.com/notebooks/data_table.ipynb>data table notebook</a>'\n",
       "            + ' to learn more about interactive tables.';\n",
       "          element.innerHTML = '';\n",
       "          dataTable['output_type'] = 'display_data';\n",
       "          await google.colab.output.renderOutput(dataTable, element);\n",
       "          const docLink = document.createElement('div');\n",
       "          docLink.innerHTML = docLinkHtml;\n",
       "          element.appendChild(docLink);\n",
       "        }\n",
       "      </script>\n",
       "    </div>\n",
       "  </div>\n",
       "  "
      ],
      "text/plain": [
       "      Id     Predicted\n",
       "0      0  9.996327e-01\n",
       "1      1  9.998262e-01\n",
       "2      2  1.197449e-06\n",
       "3      3  1.000000e+00\n",
       "4      4  9.999920e-01\n",
       "..   ...           ...\n",
       "874  874  1.659298e-06\n",
       "875  875  2.749551e-07\n",
       "876  876  9.996533e-01\n",
       "877  877  9.999577e-01\n",
       "878  878  6.974093e-10\n",
       "\n",
       "[879 rows x 2 columns]"
      ]
     },
     "execution_count": 45,
     "metadata": {},
     "output_type": "execute_result"
    }
   ],
   "source": [
    "result"
   ]
  },
  {
   "cell_type": "code",
   "execution_count": null,
   "metadata": {
    "id": "3QcsCz75NK4w"
   },
   "outputs": [],
   "source": [
    "#result.to_csv(\"drive/MyDrive/DeepLearning2022-2/EXAMENPARCIAL/result/resultV7.csv\", sep=\",\", index=False, header=True)"
   ]
  },
  {
   "cell_type": "code",
   "execution_count": 33,
   "metadata": {
    "colab": {
     "base_uri": "https://localhost:8080/",
     "height": 1000
    },
    "executionInfo": {
     "elapsed": 485,
     "status": "ok",
     "timestamp": 1736764462363,
     "user": {
      "displayName": "Susan Lucy Palacios Salcedo",
      "userId": "03416602319916896534"
     },
     "user_tz": 240
    },
    "id": "LgNDd87RWUN-",
    "outputId": "cd7dd8a4-5c71-4fa1-8eb5-2299c06dc86e"
   },
   "outputs": [
    {
     "data": {
      "image/svg+xml": [
       "<svg xmlns=\"http://www.w3.org/2000/svg\" xmlns:xlink=\"http://www.w3.org/1999/xlink\" width=\"419pt\" height=\"1042pt\" viewBox=\"0.00 0.00 471.00 1172.00\">\n",
       "<g id=\"graph0\" class=\"graph\" transform=\"scale(0.89 0.89) rotate(0) translate(4 1168)\">\n",
       "<title>G</title>\n",
       "<polygon fill=\"white\" stroke=\"transparent\" points=\"-4,4 -4,-1168 467,-1168 467,4 -4,4\"/>\n",
       "<!-- 138200997377456 -->\n",
       "<g id=\"node1\" class=\"node\">\n",
       "<title>138200997377456</title>\n",
       "<polygon fill=\"none\" stroke=\"black\" points=\"0,-1080.5 0,-1163.5 463,-1163.5 463,-1080.5 0,-1080.5\"/>\n",
       "<polygon fill=\"black\" stroke=\"transparent\" points=\"0,-1080.5 0,-1163.5 463,-1163.5 463,-1080.5 0,-1080.5\"/>\n",
       "<polygon fill=\"black\" stroke=\"transparent\" points=\"2.5,-1121 2.5,-1161 461.5,-1161 461.5,-1121 2.5,-1121\"/>\n",
       "<polygon fill=\"none\" stroke=\"black\" points=\"2.5,-1121 2.5,-1161 461.5,-1161 461.5,-1121 2.5,-1121\"/>\n",
       "<text text-anchor=\"start\" x=\"167\" y=\"-1138.2\" font-family=\"Helvetica,sans-Serif\" font-weight=\"bold\" font-size=\"16.00\" fill=\"white\">conv2d</text>\n",
       "<text text-anchor=\"start\" x=\"224\" y=\"-1138.2\" font-family=\"Helvetica,sans-Serif\" font-size=\"16.00\" fill=\"white\"> (Conv2D)</text>\n",
       "<polygon fill=\"white\" stroke=\"transparent\" points=\"2.5,-1082 2.5,-1119 221.5,-1119 221.5,-1082 2.5,-1082\"/>\n",
       "<polygon fill=\"none\" stroke=\"black\" points=\"2.5,-1082 2.5,-1119 221.5,-1119 221.5,-1082 2.5,-1082\"/>\n",
       "<text text-anchor=\"start\" x=\"13.5\" y=\"-1097.8\" font-family=\"Helvetica,sans-Serif\" font-size=\"14.00\">Input shape: </text>\n",
       "<text text-anchor=\"start\" x=\"92.5\" y=\"-1097.8\" font-family=\"Helvetica,sans-Serif\" font-weight=\"bold\" font-size=\"14.00\">(None, 128, 128, 3)</text>\n",
       "<polygon fill=\"white\" stroke=\"transparent\" points=\"223.5,-1082 223.5,-1119 461.5,-1119 461.5,-1082 223.5,-1082\"/>\n",
       "<polygon fill=\"none\" stroke=\"black\" points=\"223.5,-1082 223.5,-1119 461.5,-1119 461.5,-1082 223.5,-1082\"/>\n",
       "<text text-anchor=\"start\" x=\"234.5\" y=\"-1097.8\" font-family=\"Helvetica,sans-Serif\" font-size=\"14.00\">Output shape: </text>\n",
       "<text text-anchor=\"start\" x=\"324.5\" y=\"-1097.8\" font-family=\"Helvetica,sans-Serif\" font-weight=\"bold\" font-size=\"14.00\">(None, 126, 126, 32)</text>\n",
       "</g>\n",
       "<!-- 138200960641408 -->\n",
       "<g id=\"node2\" class=\"node\">\n",
       "<title>138200960641408</title>\n",
       "<polygon fill=\"none\" stroke=\"black\" points=\"3.5,-960.5 3.5,-1043.5 459.5,-1043.5 459.5,-960.5 3.5,-960.5\"/>\n",
       "<polygon fill=\"black\" stroke=\"transparent\" points=\"3.5,-960.5 3.5,-1043.5 459.5,-1043.5 459.5,-960.5 3.5,-960.5\"/>\n",
       "<polygon fill=\"black\" stroke=\"transparent\" points=\"5.5,-1001 5.5,-1041 457.5,-1041 457.5,-1001 5.5,-1001\"/>\n",
       "<polygon fill=\"none\" stroke=\"black\" points=\"5.5,-1001 5.5,-1041 457.5,-1041 457.5,-1001 5.5,-1001\"/>\n",
       "<text text-anchor=\"start\" x=\"112\" y=\"-1018.2\" font-family=\"Helvetica,sans-Serif\" font-weight=\"bold\" font-size=\"16.00\" fill=\"white\">max_pooling2d</text>\n",
       "<text text-anchor=\"start\" x=\"230\" y=\"-1018.2\" font-family=\"Helvetica,sans-Serif\" font-size=\"16.00\" fill=\"white\"> (MaxPooling2D)</text>\n",
       "<polygon fill=\"white\" stroke=\"transparent\" points=\"5.5,-962 5.5,-999 232.5,-999 232.5,-962 5.5,-962\"/>\n",
       "<polygon fill=\"none\" stroke=\"black\" points=\"5.5,-962 5.5,-999 232.5,-999 232.5,-962 5.5,-962\"/>\n",
       "<text text-anchor=\"start\" x=\"16.5\" y=\"-977.8\" font-family=\"Helvetica,sans-Serif\" font-size=\"14.00\">Input shape: </text>\n",
       "<text text-anchor=\"start\" x=\"95.5\" y=\"-977.8\" font-family=\"Helvetica,sans-Serif\" font-weight=\"bold\" font-size=\"14.00\">(None, 126, 126, 32)</text>\n",
       "<polygon fill=\"white\" stroke=\"transparent\" points=\"234.5,-962 234.5,-999 457.5,-999 457.5,-962 234.5,-962\"/>\n",
       "<polygon fill=\"none\" stroke=\"black\" points=\"234.5,-962 234.5,-999 457.5,-999 457.5,-962 234.5,-962\"/>\n",
       "<text text-anchor=\"start\" x=\"245.5\" y=\"-977.8\" font-family=\"Helvetica,sans-Serif\" font-size=\"14.00\">Output shape: </text>\n",
       "<text text-anchor=\"start\" x=\"335.5\" y=\"-977.8\" font-family=\"Helvetica,sans-Serif\" font-weight=\"bold\" font-size=\"14.00\">(None, 63, 63, 32)</text>\n",
       "</g>\n",
       "<!-- 138200997377456&#45;&gt;138200960641408 -->\n",
       "<g id=\"edge1\" class=\"edge\">\n",
       "<title>138200997377456-&gt;138200960641408</title>\n",
       "<path fill=\"none\" stroke=\"black\" stroke-width=\"2\" d=\"M231.5,-1080.37C231.5,-1080.37 231.5,-1053.56 231.5,-1053.56\"/>\n",
       "<polygon fill=\"black\" stroke=\"black\" stroke-width=\"2\" points=\"235,-1053.56 231.5,-1043.56 228,-1053.56 235,-1053.56\"/>\n",
       "</g>\n",
       "<!-- 138200960633728 -->\n",
       "<g id=\"node3\" class=\"node\">\n",
       "<title>138200960633728</title>\n",
       "<polygon fill=\"none\" stroke=\"black\" points=\"11,-840.5 11,-923.5 452,-923.5 452,-840.5 11,-840.5\"/>\n",
       "<polygon fill=\"black\" stroke=\"transparent\" points=\"11,-840.5 11,-923.5 452,-923.5 452,-840.5 11,-840.5\"/>\n",
       "<polygon fill=\"black\" stroke=\"transparent\" points=\"13.5,-881 13.5,-921 450.5,-921 450.5,-881 13.5,-881\"/>\n",
       "<polygon fill=\"none\" stroke=\"black\" points=\"13.5,-881 13.5,-921 450.5,-921 450.5,-881 13.5,-881\"/>\n",
       "<text text-anchor=\"start\" x=\"158\" y=\"-898.2\" font-family=\"Helvetica,sans-Serif\" font-weight=\"bold\" font-size=\"16.00\" fill=\"white\">conv2d_1</text>\n",
       "<text text-anchor=\"start\" x=\"233\" y=\"-898.2\" font-family=\"Helvetica,sans-Serif\" font-size=\"16.00\" fill=\"white\"> (Conv2D)</text>\n",
       "<polygon fill=\"white\" stroke=\"transparent\" points=\"13.5,-842 13.5,-879 225.5,-879 225.5,-842 13.5,-842\"/>\n",
       "<polygon fill=\"none\" stroke=\"black\" points=\"13.5,-842 13.5,-879 225.5,-879 225.5,-842 13.5,-842\"/>\n",
       "<text text-anchor=\"start\" x=\"24.5\" y=\"-857.8\" font-family=\"Helvetica,sans-Serif\" font-size=\"14.00\">Input shape: </text>\n",
       "<text text-anchor=\"start\" x=\"103.5\" y=\"-857.8\" font-family=\"Helvetica,sans-Serif\" font-weight=\"bold\" font-size=\"14.00\">(None, 63, 63, 32)</text>\n",
       "<polygon fill=\"white\" stroke=\"transparent\" points=\"227.5,-842 227.5,-879 450.5,-879 450.5,-842 227.5,-842\"/>\n",
       "<polygon fill=\"none\" stroke=\"black\" points=\"227.5,-842 227.5,-879 450.5,-879 450.5,-842 227.5,-842\"/>\n",
       "<text text-anchor=\"start\" x=\"238.5\" y=\"-857.8\" font-family=\"Helvetica,sans-Serif\" font-size=\"14.00\">Output shape: </text>\n",
       "<text text-anchor=\"start\" x=\"328.5\" y=\"-857.8\" font-family=\"Helvetica,sans-Serif\" font-weight=\"bold\" font-size=\"14.00\">(None, 61, 61, 64)</text>\n",
       "</g>\n",
       "<!-- 138200960641408&#45;&gt;138200960633728 -->\n",
       "<g id=\"edge2\" class=\"edge\">\n",
       "<title>138200960641408-&gt;138200960633728</title>\n",
       "<path fill=\"none\" stroke=\"black\" stroke-width=\"2\" d=\"M231.5,-960.37C231.5,-960.37 231.5,-933.56 231.5,-933.56\"/>\n",
       "<polygon fill=\"black\" stroke=\"black\" stroke-width=\"2\" points=\"235,-933.56 231.5,-923.56 228,-933.56 235,-933.56\"/>\n",
       "</g>\n",
       "<!-- 138200960640448 -->\n",
       "<g id=\"node4\" class=\"node\">\n",
       "<title>138200960640448</title>\n",
       "<polygon fill=\"none\" stroke=\"black\" points=\"11,-720.5 11,-803.5 452,-803.5 452,-720.5 11,-720.5\"/>\n",
       "<polygon fill=\"black\" stroke=\"transparent\" points=\"11,-720.5 11,-803.5 452,-803.5 452,-720.5 11,-720.5\"/>\n",
       "<polygon fill=\"black\" stroke=\"transparent\" points=\"13.5,-761 13.5,-801 450.5,-801 450.5,-761 13.5,-761\"/>\n",
       "<polygon fill=\"none\" stroke=\"black\" points=\"13.5,-761 13.5,-801 450.5,-801 450.5,-761 13.5,-761\"/>\n",
       "<text text-anchor=\"start\" x=\"103.5\" y=\"-778.2\" font-family=\"Helvetica,sans-Serif\" font-weight=\"bold\" font-size=\"16.00\" fill=\"white\">max_pooling2d_1</text>\n",
       "<text text-anchor=\"start\" x=\"239.5\" y=\"-778.2\" font-family=\"Helvetica,sans-Serif\" font-size=\"16.00\" fill=\"white\"> (MaxPooling2D)</text>\n",
       "<polygon fill=\"white\" stroke=\"transparent\" points=\"13.5,-722 13.5,-759 225.5,-759 225.5,-722 13.5,-722\"/>\n",
       "<polygon fill=\"none\" stroke=\"black\" points=\"13.5,-722 13.5,-759 225.5,-759 225.5,-722 13.5,-722\"/>\n",
       "<text text-anchor=\"start\" x=\"24.5\" y=\"-737.8\" font-family=\"Helvetica,sans-Serif\" font-size=\"14.00\">Input shape: </text>\n",
       "<text text-anchor=\"start\" x=\"103.5\" y=\"-737.8\" font-family=\"Helvetica,sans-Serif\" font-weight=\"bold\" font-size=\"14.00\">(None, 61, 61, 64)</text>\n",
       "<polygon fill=\"white\" stroke=\"transparent\" points=\"227.5,-722 227.5,-759 450.5,-759 450.5,-722 227.5,-722\"/>\n",
       "<polygon fill=\"none\" stroke=\"black\" points=\"227.5,-722 227.5,-759 450.5,-759 450.5,-722 227.5,-722\"/>\n",
       "<text text-anchor=\"start\" x=\"238.5\" y=\"-737.8\" font-family=\"Helvetica,sans-Serif\" font-size=\"14.00\">Output shape: </text>\n",
       "<text text-anchor=\"start\" x=\"328.5\" y=\"-737.8\" font-family=\"Helvetica,sans-Serif\" font-weight=\"bold\" font-size=\"14.00\">(None, 30, 30, 64)</text>\n",
       "</g>\n",
       "<!-- 138200960633728&#45;&gt;138200960640448 -->\n",
       "<g id=\"edge3\" class=\"edge\">\n",
       "<title>138200960633728-&gt;138200960640448</title>\n",
       "<path fill=\"none\" stroke=\"black\" stroke-width=\"2\" d=\"M231.5,-840.37C231.5,-840.37 231.5,-813.56 231.5,-813.56\"/>\n",
       "<polygon fill=\"black\" stroke=\"black\" stroke-width=\"2\" points=\"235,-813.56 231.5,-803.56 228,-813.56 235,-813.56\"/>\n",
       "</g>\n",
       "<!-- 138200960644144 -->\n",
       "<g id=\"node5\" class=\"node\">\n",
       "<title>138200960644144</title>\n",
       "<polygon fill=\"none\" stroke=\"black\" points=\"11,-600.5 11,-683.5 452,-683.5 452,-600.5 11,-600.5\"/>\n",
       "<polygon fill=\"black\" stroke=\"transparent\" points=\"11,-600.5 11,-683.5 452,-683.5 452,-600.5 11,-600.5\"/>\n",
       "<polygon fill=\"black\" stroke=\"transparent\" points=\"13.5,-641 13.5,-681 450.5,-681 450.5,-641 13.5,-641\"/>\n",
       "<polygon fill=\"none\" stroke=\"black\" points=\"13.5,-641 13.5,-681 450.5,-681 450.5,-641 13.5,-641\"/>\n",
       "<text text-anchor=\"start\" x=\"158\" y=\"-658.2\" font-family=\"Helvetica,sans-Serif\" font-weight=\"bold\" font-size=\"16.00\" fill=\"white\">conv2d_2</text>\n",
       "<text text-anchor=\"start\" x=\"233\" y=\"-658.2\" font-family=\"Helvetica,sans-Serif\" font-size=\"16.00\" fill=\"white\"> (Conv2D)</text>\n",
       "<polygon fill=\"white\" stroke=\"transparent\" points=\"13.5,-602 13.5,-639 225.5,-639 225.5,-602 13.5,-602\"/>\n",
       "<polygon fill=\"none\" stroke=\"black\" points=\"13.5,-602 13.5,-639 225.5,-639 225.5,-602 13.5,-602\"/>\n",
       "<text text-anchor=\"start\" x=\"24.5\" y=\"-617.8\" font-family=\"Helvetica,sans-Serif\" font-size=\"14.00\">Input shape: </text>\n",
       "<text text-anchor=\"start\" x=\"103.5\" y=\"-617.8\" font-family=\"Helvetica,sans-Serif\" font-weight=\"bold\" font-size=\"14.00\">(None, 30, 30, 64)</text>\n",
       "<polygon fill=\"white\" stroke=\"transparent\" points=\"227.5,-602 227.5,-639 450.5,-639 450.5,-602 227.5,-602\"/>\n",
       "<polygon fill=\"none\" stroke=\"black\" points=\"227.5,-602 227.5,-639 450.5,-639 450.5,-602 227.5,-602\"/>\n",
       "<text text-anchor=\"start\" x=\"238.5\" y=\"-617.8\" font-family=\"Helvetica,sans-Serif\" font-size=\"14.00\">Output shape: </text>\n",
       "<text text-anchor=\"start\" x=\"328.5\" y=\"-617.8\" font-family=\"Helvetica,sans-Serif\" font-weight=\"bold\" font-size=\"14.00\">(None, 28, 28, 32)</text>\n",
       "</g>\n",
       "<!-- 138200960640448&#45;&gt;138200960644144 -->\n",
       "<g id=\"edge4\" class=\"edge\">\n",
       "<title>138200960640448-&gt;138200960644144</title>\n",
       "<path fill=\"none\" stroke=\"black\" stroke-width=\"2\" d=\"M231.5,-720.37C231.5,-720.37 231.5,-693.56 231.5,-693.56\"/>\n",
       "<polygon fill=\"black\" stroke=\"black\" stroke-width=\"2\" points=\"235,-693.56 231.5,-683.56 228,-693.56 235,-693.56\"/>\n",
       "</g>\n",
       "<!-- 138200960638768 -->\n",
       "<g id=\"node6\" class=\"node\">\n",
       "<title>138200960638768</title>\n",
       "<polygon fill=\"none\" stroke=\"black\" points=\"11,-480.5 11,-563.5 452,-563.5 452,-480.5 11,-480.5\"/>\n",
       "<polygon fill=\"black\" stroke=\"transparent\" points=\"11,-480.5 11,-563.5 452,-563.5 452,-480.5 11,-480.5\"/>\n",
       "<polygon fill=\"black\" stroke=\"transparent\" points=\"13.5,-521 13.5,-561 450.5,-561 450.5,-521 13.5,-521\"/>\n",
       "<polygon fill=\"none\" stroke=\"black\" points=\"13.5,-521 13.5,-561 450.5,-561 450.5,-521 13.5,-521\"/>\n",
       "<text text-anchor=\"start\" x=\"103.5\" y=\"-538.2\" font-family=\"Helvetica,sans-Serif\" font-weight=\"bold\" font-size=\"16.00\" fill=\"white\">max_pooling2d_2</text>\n",
       "<text text-anchor=\"start\" x=\"239.5\" y=\"-538.2\" font-family=\"Helvetica,sans-Serif\" font-size=\"16.00\" fill=\"white\"> (MaxPooling2D)</text>\n",
       "<polygon fill=\"white\" stroke=\"transparent\" points=\"13.5,-482 13.5,-519 225.5,-519 225.5,-482 13.5,-482\"/>\n",
       "<polygon fill=\"none\" stroke=\"black\" points=\"13.5,-482 13.5,-519 225.5,-519 225.5,-482 13.5,-482\"/>\n",
       "<text text-anchor=\"start\" x=\"24.5\" y=\"-497.8\" font-family=\"Helvetica,sans-Serif\" font-size=\"14.00\">Input shape: </text>\n",
       "<text text-anchor=\"start\" x=\"103.5\" y=\"-497.8\" font-family=\"Helvetica,sans-Serif\" font-weight=\"bold\" font-size=\"14.00\">(None, 28, 28, 32)</text>\n",
       "<polygon fill=\"white\" stroke=\"transparent\" points=\"227.5,-482 227.5,-519 450.5,-519 450.5,-482 227.5,-482\"/>\n",
       "<polygon fill=\"none\" stroke=\"black\" points=\"227.5,-482 227.5,-519 450.5,-519 450.5,-482 227.5,-482\"/>\n",
       "<text text-anchor=\"start\" x=\"238.5\" y=\"-497.8\" font-family=\"Helvetica,sans-Serif\" font-size=\"14.00\">Output shape: </text>\n",
       "<text text-anchor=\"start\" x=\"328.5\" y=\"-497.8\" font-family=\"Helvetica,sans-Serif\" font-weight=\"bold\" font-size=\"14.00\">(None, 14, 14, 32)</text>\n",
       "</g>\n",
       "<!-- 138200960644144&#45;&gt;138200960638768 -->\n",
       "<g id=\"edge5\" class=\"edge\">\n",
       "<title>138200960644144-&gt;138200960638768</title>\n",
       "<path fill=\"none\" stroke=\"black\" stroke-width=\"2\" d=\"M231.5,-600.37C231.5,-600.37 231.5,-573.56 231.5,-573.56\"/>\n",
       "<polygon fill=\"black\" stroke=\"black\" stroke-width=\"2\" points=\"235,-573.56 231.5,-563.56 228,-573.56 235,-573.56\"/>\n",
       "</g>\n",
       "<!-- 138200960642992 -->\n",
       "<g id=\"node7\" class=\"node\">\n",
       "<title>138200960642992</title>\n",
       "<polygon fill=\"none\" stroke=\"black\" points=\"26,-360.5 26,-443.5 437,-443.5 437,-360.5 26,-360.5\"/>\n",
       "<polygon fill=\"black\" stroke=\"transparent\" points=\"26,-360.5 26,-443.5 437,-443.5 437,-360.5 26,-360.5\"/>\n",
       "<polygon fill=\"black\" stroke=\"transparent\" points=\"28.5,-401 28.5,-441 435.5,-441 435.5,-401 28.5,-401\"/>\n",
       "<polygon fill=\"none\" stroke=\"black\" points=\"28.5,-401 28.5,-441 435.5,-441 435.5,-401 28.5,-401\"/>\n",
       "<text text-anchor=\"start\" x=\"175\" y=\"-418.2\" font-family=\"Helvetica,sans-Serif\" font-weight=\"bold\" font-size=\"16.00\" fill=\"white\">flatten</text>\n",
       "<text text-anchor=\"start\" x=\"224\" y=\"-418.2\" font-family=\"Helvetica,sans-Serif\" font-size=\"16.00\" fill=\"white\"> (Flatten)</text>\n",
       "<polygon fill=\"white\" stroke=\"transparent\" points=\"28.5,-362 28.5,-399 240.5,-399 240.5,-362 28.5,-362\"/>\n",
       "<polygon fill=\"none\" stroke=\"black\" points=\"28.5,-362 28.5,-399 240.5,-399 240.5,-362 28.5,-362\"/>\n",
       "<text text-anchor=\"start\" x=\"39.5\" y=\"-377.8\" font-family=\"Helvetica,sans-Serif\" font-size=\"14.00\">Input shape: </text>\n",
       "<text text-anchor=\"start\" x=\"118.5\" y=\"-377.8\" font-family=\"Helvetica,sans-Serif\" font-weight=\"bold\" font-size=\"14.00\">(None, 14, 14, 32)</text>\n",
       "<polygon fill=\"white\" stroke=\"transparent\" points=\"242.5,-362 242.5,-399 435.5,-399 435.5,-362 242.5,-362\"/>\n",
       "<polygon fill=\"none\" stroke=\"black\" points=\"242.5,-362 242.5,-399 435.5,-399 435.5,-362 242.5,-362\"/>\n",
       "<text text-anchor=\"start\" x=\"253.5\" y=\"-377.8\" font-family=\"Helvetica,sans-Serif\" font-size=\"14.00\">Output shape: </text>\n",
       "<text text-anchor=\"start\" x=\"343.5\" y=\"-377.8\" font-family=\"Helvetica,sans-Serif\" font-weight=\"bold\" font-size=\"14.00\">(None, 6272)</text>\n",
       "</g>\n",
       "<!-- 138200960638768&#45;&gt;138200960642992 -->\n",
       "<g id=\"edge6\" class=\"edge\">\n",
       "<title>138200960638768-&gt;138200960642992</title>\n",
       "<path fill=\"none\" stroke=\"black\" stroke-width=\"2\" d=\"M231.5,-480.37C231.5,-480.37 231.5,-453.56 231.5,-453.56\"/>\n",
       "<polygon fill=\"black\" stroke=\"black\" stroke-width=\"2\" points=\"235,-453.56 231.5,-443.56 228,-453.56 235,-453.56\"/>\n",
       "</g>\n",
       "<!-- 138200960643904 -->\n",
       "<g id=\"node8\" class=\"node\">\n",
       "<title>138200960643904</title>\n",
       "<polygon fill=\"none\" stroke=\"black\" points=\"45,-240.5 45,-323.5 418,-323.5 418,-240.5 45,-240.5\"/>\n",
       "<polygon fill=\"black\" stroke=\"transparent\" points=\"45,-240.5 45,-323.5 418,-323.5 418,-240.5 45,-240.5\"/>\n",
       "<polygon fill=\"black\" stroke=\"transparent\" points=\"47.5,-281 47.5,-321 416.5,-321 416.5,-281 47.5,-281\"/>\n",
       "<polygon fill=\"none\" stroke=\"black\" points=\"47.5,-281 47.5,-321 416.5,-321 416.5,-281 47.5,-281\"/>\n",
       "<text text-anchor=\"start\" x=\"177.5\" y=\"-298.2\" font-family=\"Helvetica,sans-Serif\" font-weight=\"bold\" font-size=\"16.00\" fill=\"white\">dense</text>\n",
       "<text text-anchor=\"start\" x=\"224.5\" y=\"-298.2\" font-family=\"Helvetica,sans-Serif\" font-size=\"16.00\" fill=\"white\"> (Dense)</text>\n",
       "<polygon fill=\"white\" stroke=\"transparent\" points=\"47.5,-242 47.5,-279 229.5,-279 229.5,-242 47.5,-242\"/>\n",
       "<polygon fill=\"none\" stroke=\"black\" points=\"47.5,-242 47.5,-279 229.5,-279 229.5,-242 47.5,-242\"/>\n",
       "<text text-anchor=\"start\" x=\"58.5\" y=\"-257.8\" font-family=\"Helvetica,sans-Serif\" font-size=\"14.00\">Input shape: </text>\n",
       "<text text-anchor=\"start\" x=\"137.5\" y=\"-257.8\" font-family=\"Helvetica,sans-Serif\" font-weight=\"bold\" font-size=\"14.00\">(None, 6272)</text>\n",
       "<polygon fill=\"white\" stroke=\"transparent\" points=\"231.5,-242 231.5,-279 416.5,-279 416.5,-242 231.5,-242\"/>\n",
       "<polygon fill=\"none\" stroke=\"black\" points=\"231.5,-242 231.5,-279 416.5,-279 416.5,-242 231.5,-242\"/>\n",
       "<text text-anchor=\"start\" x=\"242.5\" y=\"-257.8\" font-family=\"Helvetica,sans-Serif\" font-size=\"14.00\">Output shape: </text>\n",
       "<text text-anchor=\"start\" x=\"332.5\" y=\"-257.8\" font-family=\"Helvetica,sans-Serif\" font-weight=\"bold\" font-size=\"14.00\">(None, 512)</text>\n",
       "</g>\n",
       "<!-- 138200960642992&#45;&gt;138200960643904 -->\n",
       "<g id=\"edge7\" class=\"edge\">\n",
       "<title>138200960642992-&gt;138200960643904</title>\n",
       "<path fill=\"none\" stroke=\"black\" stroke-width=\"2\" d=\"M231.5,-360.37C231.5,-360.37 231.5,-333.56 231.5,-333.56\"/>\n",
       "<polygon fill=\"black\" stroke=\"black\" stroke-width=\"2\" points=\"235,-333.56 231.5,-323.56 228,-333.56 235,-333.56\"/>\n",
       "</g>\n",
       "<!-- 138200960631568 -->\n",
       "<g id=\"node9\" class=\"node\">\n",
       "<title>138200960631568</title>\n",
       "<polygon fill=\"none\" stroke=\"black\" points=\"49,-120.5 49,-203.5 414,-203.5 414,-120.5 49,-120.5\"/>\n",
       "<polygon fill=\"black\" stroke=\"transparent\" points=\"49,-120.5 49,-203.5 414,-203.5 414,-120.5 49,-120.5\"/>\n",
       "<polygon fill=\"black\" stroke=\"transparent\" points=\"51.5,-161 51.5,-201 412.5,-201 412.5,-161 51.5,-161\"/>\n",
       "<polygon fill=\"none\" stroke=\"black\" points=\"51.5,-161 51.5,-201 412.5,-201 412.5,-161 51.5,-161\"/>\n",
       "<text text-anchor=\"start\" x=\"168.5\" y=\"-178.2\" font-family=\"Helvetica,sans-Serif\" font-weight=\"bold\" font-size=\"16.00\" fill=\"white\">dense_1</text>\n",
       "<text text-anchor=\"start\" x=\"233.5\" y=\"-178.2\" font-family=\"Helvetica,sans-Serif\" font-size=\"16.00\" fill=\"white\"> (Dense)</text>\n",
       "<polygon fill=\"white\" stroke=\"transparent\" points=\"51.5,-122 51.5,-159 225.5,-159 225.5,-122 51.5,-122\"/>\n",
       "<polygon fill=\"none\" stroke=\"black\" points=\"51.5,-122 51.5,-159 225.5,-159 225.5,-122 51.5,-122\"/>\n",
       "<text text-anchor=\"start\" x=\"62.5\" y=\"-137.8\" font-family=\"Helvetica,sans-Serif\" font-size=\"14.00\">Input shape: </text>\n",
       "<text text-anchor=\"start\" x=\"141.5\" y=\"-137.8\" font-family=\"Helvetica,sans-Serif\" font-weight=\"bold\" font-size=\"14.00\">(None, 512)</text>\n",
       "<polygon fill=\"white\" stroke=\"transparent\" points=\"227.5,-122 227.5,-159 412.5,-159 412.5,-122 227.5,-122\"/>\n",
       "<polygon fill=\"none\" stroke=\"black\" points=\"227.5,-122 227.5,-159 412.5,-159 412.5,-122 227.5,-122\"/>\n",
       "<text text-anchor=\"start\" x=\"238.5\" y=\"-137.8\" font-family=\"Helvetica,sans-Serif\" font-size=\"14.00\">Output shape: </text>\n",
       "<text text-anchor=\"start\" x=\"328.5\" y=\"-137.8\" font-family=\"Helvetica,sans-Serif\" font-weight=\"bold\" font-size=\"14.00\">(None, 256)</text>\n",
       "</g>\n",
       "<!-- 138200960643904&#45;&gt;138200960631568 -->\n",
       "<g id=\"edge8\" class=\"edge\">\n",
       "<title>138200960643904-&gt;138200960631568</title>\n",
       "<path fill=\"none\" stroke=\"black\" stroke-width=\"2\" d=\"M231.5,-240.37C231.5,-240.37 231.5,-213.56 231.5,-213.56\"/>\n",
       "<polygon fill=\"black\" stroke=\"black\" stroke-width=\"2\" points=\"235,-213.56 231.5,-203.56 228,-213.56 235,-213.56\"/>\n",
       "</g>\n",
       "<!-- 138200960641216 -->\n",
       "<g id=\"node10\" class=\"node\">\n",
       "<title>138200960641216</title>\n",
       "<polygon fill=\"none\" stroke=\"black\" points=\"56.5,-0.5 56.5,-83.5 406.5,-83.5 406.5,-0.5 56.5,-0.5\"/>\n",
       "<polygon fill=\"black\" stroke=\"transparent\" points=\"56.5,-0.5 56.5,-83.5 406.5,-83.5 406.5,-0.5 56.5,-0.5\"/>\n",
       "<polygon fill=\"black\" stroke=\"transparent\" points=\"58.5,-41 58.5,-81 404.5,-81 404.5,-41 58.5,-41\"/>\n",
       "<polygon fill=\"none\" stroke=\"black\" points=\"58.5,-41 58.5,-81 404.5,-81 404.5,-41 58.5,-41\"/>\n",
       "<text text-anchor=\"start\" x=\"168\" y=\"-58.2\" font-family=\"Helvetica,sans-Serif\" font-weight=\"bold\" font-size=\"16.00\" fill=\"white\">dense_2</text>\n",
       "<text text-anchor=\"start\" x=\"233\" y=\"-58.2\" font-family=\"Helvetica,sans-Serif\" font-size=\"16.00\" fill=\"white\"> (Dense)</text>\n",
       "<polygon fill=\"white\" stroke=\"transparent\" points=\"58.5,-2 58.5,-39 232.5,-39 232.5,-2 58.5,-2\"/>\n",
       "<polygon fill=\"none\" stroke=\"black\" points=\"58.5,-2 58.5,-39 232.5,-39 232.5,-2 58.5,-2\"/>\n",
       "<text text-anchor=\"start\" x=\"69.5\" y=\"-17.8\" font-family=\"Helvetica,sans-Serif\" font-size=\"14.00\">Input shape: </text>\n",
       "<text text-anchor=\"start\" x=\"148.5\" y=\"-17.8\" font-family=\"Helvetica,sans-Serif\" font-weight=\"bold\" font-size=\"14.00\">(None, 256)</text>\n",
       "<polygon fill=\"white\" stroke=\"transparent\" points=\"234.5,-2 234.5,-39 404.5,-39 404.5,-2 234.5,-2\"/>\n",
       "<polygon fill=\"none\" stroke=\"black\" points=\"234.5,-2 234.5,-39 404.5,-39 404.5,-2 234.5,-2\"/>\n",
       "<text text-anchor=\"start\" x=\"245.5\" y=\"-17.8\" font-family=\"Helvetica,sans-Serif\" font-size=\"14.00\">Output shape: </text>\n",
       "<text text-anchor=\"start\" x=\"335.5\" y=\"-17.8\" font-family=\"Helvetica,sans-Serif\" font-weight=\"bold\" font-size=\"14.00\">(None, 1)</text>\n",
       "</g>\n",
       "<!-- 138200960631568&#45;&gt;138200960641216 -->\n",
       "<g id=\"edge9\" class=\"edge\">\n",
       "<title>138200960631568-&gt;138200960641216</title>\n",
       "<path fill=\"none\" stroke=\"black\" stroke-width=\"2\" d=\"M231.5,-120.37C231.5,-120.37 231.5,-93.56 231.5,-93.56\"/>\n",
       "<polygon fill=\"black\" stroke=\"black\" stroke-width=\"2\" points=\"235,-93.56 231.5,-83.56 228,-93.56 235,-93.56\"/>\n",
       "</g>\n",
       "</g>\n",
       "</svg>"
      ],
      "text/plain": [
       "<IPython.core.display.SVG object>"
      ]
     },
     "execution_count": 33,
     "metadata": {},
     "output_type": "execute_result"
    }
   ],
   "source": [
    "from IPython.display import SVG\n",
    "from tensorflow.keras.utils import model_to_dot\n",
    "from pprint import pprint\n",
    "\n",
    "SVG(model_to_dot(model, show_shapes=True, dpi=64).create(prog='dot', format='svg'))"
   ]
  }
 ],
 "metadata": {
  "colab": {
   "provenance": []
  },
  "kernelspec": {
   "display_name": "data_analysis",
   "language": "python",
   "name": "python3"
  },
  "language_info": {
   "codemirror_mode": {
    "name": "ipython",
    "version": 3
   },
   "file_extension": ".py",
   "mimetype": "text/x-python",
   "name": "python",
   "nbconvert_exporter": "python",
   "pygments_lexer": "ipython3",
   "version": "3.10.11"
  }
 },
 "nbformat": 4,
 "nbformat_minor": 0
}
