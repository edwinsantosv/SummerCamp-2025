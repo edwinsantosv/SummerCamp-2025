{
 "cells": [
  {
   "cell_type": "markdown",
   "metadata": {
    "id": "Uf_ZpLggQn9n"
   },
   "source": [
    "# Diplomatura de Especialización en Desarrollo de Aplicaciones con Inteligencia Artificial - Inteligencia Artificial para Juegos (Game IA)\n",
    "\n",
    "<img src='data:image/png;base64,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' width=100px>\n",
    "\n",
    "Dr. Edwin Villanueva (ervillanueva@pucp.edu.pe), Eng. Daniel Saromo"
   ]
  },
  {
   "cell_type": "markdown",
   "metadata": {
    "id": "KDJQw2LWl4Az"
   },
   "source": [
    "## Aprendizaje por refuerzo con Deep Q-networks - Entorno `CartPole-v1`\n",
    "\n",
    "Esta es una implementacion de un agente Deep Q-learning que aprenda a balancear un péndulo invertido en el entorno `CartPole-v1` de OpenAI Gym.\n",
    "\n",
    "Adaptado de  https://github.com/keon/deep-q-learning. \n",
    "\n",
    "Es necesario tener instalado: gym, tensorflow y keras. \n",
    "\n",
    "Descripción detallada del entorno: https://github.com/openai/gym/blob/master/gym/envs/classic_control/cartpole.py#L14"
   ]
  },
  {
   "cell_type": "markdown",
   "metadata": {
    "id": "sloquMr6rC9l"
   },
   "source": [
    "## Problema a resolver: Péndulo invertido\n",
    "\n",
    "[Video](https://www.youtube.com/watch?v=XWhGjxdug0o)\n",
    "\n",
    "<img src='https://www.gymlibrary.dev/_images/cart_pole.gif' width=200px>"
   ]
  },
  {
   "cell_type": "markdown",
   "metadata": {
    "id": "Mc7iEtMsuc-8"
   },
   "source": [
    "El entorno `CartPole-v1` tiene un **modelamiento matemático** de las ecuaciones físicas que rigen un péndulo invertido ideal, con posición inicial apuntando hacia arriba. Este problema puede ser resuelto utilizando técnicas de **ingeniería de control**. En esta sesión, vamos a utilizar Deep Reinforcement Learning. El objetivo del agente que entrenaremos, es lograr que se mantenga la posición vertical del péndulo subactuado virtual. Se podría hacer que el agente aprenda a elevarlo, cuando la posición inicial del péndulo es apuntando hacia abajo."
   ]
  },
  {
   "cell_type": "markdown",
   "metadata": {
    "id": "BnvQUj66uWW1"
   },
   "source": [
    "\n",
    "[Swing-up and balancing control of an inverted pendulum mechanism](https://www.youtube.com/watch?v=XWhGjxdug0o) ;)"
   ]
  },
  {
   "cell_type": "markdown",
   "metadata": {
    "id": "txSHXSsfDuLn"
   },
   "source": [
    "## Empecemos"
   ]
  },
  {
   "cell_type": "markdown",
   "metadata": {
    "id": "M07enyn3DuLo"
   },
   "source": [
    "### Clase <b>DQNAgent</b>\n",
    "\n",
    "Esta es la clase que implementa el agente Double Deep Q-lerrning. Es una implementacion general, pudiendo ser usado en diferentes entornos de gym u otros. El constructor recibe las dimensiones del estado y la dimesion del vector de acciones posibles "
   ]
  },
  {
   "cell_type": "code",
   "execution_count": 1,
   "metadata": {},
   "outputs": [
    {
     "name": "stdout",
     "output_type": "stream",
     "text": [
      "Requirement already satisfied: gym in c:\\users\\evill\\anaconda3\\lib\\site-packages (0.17.3)\n",
      "Requirement already satisfied: pyglet<=1.5.0,>=1.4.0 in c:\\users\\evill\\anaconda3\\lib\\site-packages (from gym) (1.5.0)\n",
      "Requirement already satisfied: numpy>=1.10.4 in c:\\users\\evill\\anaconda3\\lib\\site-packages (from gym) (1.18.5)\n",
      "Requirement already satisfied: cloudpickle<1.7.0,>=1.2.0 in c:\\users\\evill\\anaconda3\\lib\\site-packages (from gym) (1.5.0)\n",
      "Requirement already satisfied: scipy in c:\\users\\evill\\anaconda3\\lib\\site-packages (from gym) (1.5.0)\n",
      "Requirement already satisfied: future in c:\\users\\evill\\anaconda3\\lib\\site-packages (from pyglet<=1.5.0,>=1.4.0->gym) (0.18.2)\n"
     ]
    }
   ],
   "source": [
    "!pip install gym"
   ]
  },
  {
   "cell_type": "code",
   "execution_count": 2,
   "metadata": {
    "executionInfo": {
     "elapsed": 251,
     "status": "ok",
     "timestamp": 1655522542041,
     "user": {
      "displayName": "EDWIN RAFAEL VILLANUEVA TALAVERA",
      "userId": "14475481775736332436"
     },
     "user_tz": 300
    },
    "id": "5zZjZ6Q3DuLp"
   },
   "outputs": [],
   "source": [
    "import random\n",
    "import gym\n",
    "import numpy as np\n",
    "\n",
    "from collections import deque\n",
    "from tensorflow.keras.models import Sequential\n",
    "from tensorflow.keras.layers import Dense\n",
    "from tensorflow.keras.optimizers import Adam\n",
    "\n",
    "class DQNAgent:\n",
    "    def __init__(self, state_size, action_size):\n",
    "        self.state_size = state_size      # tamaño de un estado (numero de atributos que representan un estado)\n",
    "        self.action_size = action_size    # tamaño del vector de acciones \n",
    "        self.memory = deque(maxlen=5000)  # define la memoria del agente (5000 registros como maximo)\n",
    "        self.gamma = 0.98                 # discount rate\n",
    "        self.learning_rate = 0.001        # taza de aprendizaje \n",
    "        \n",
    "        self.epsilon = 1.0               # factor de exploration inicial\n",
    "        self.epsilon_min = 0.01          # factor de exploration minimo\n",
    "        self.epsilon_decay = 0.995       # factor de decaimiento del factor de exploracion\n",
    "        self.model = self._build_model() # construye el modelo neuronal a entrenar \n",
    "\n",
    "    def _build_model(self):\n",
    "        # Define y compila un modelo de red neuronal de 3 capas: state_size entradas X 20 neuronas X 20 neuronas x action_size neuronas de salida\n",
    "        model = Sequential()   # Informa que las capas que se van agregar son secuenciales\n",
    "        model.add(Dense(20, input_dim=self.state_size, activation='relu')) # 1ra capa de 20 neuronas, cada neurona recibe state_size entradas (4 para CartPole), activacion relu\n",
    "        model.add(Dense(15, activation='relu')) # 2da capa de 15 neuronas, funcion de activacion relu\n",
    "        model.add(Dense(self.action_size, activation='linear')) # 3ra capa (salida) de action_size neuronas (2 para CartPole)\n",
    "       \n",
    "        model.compile(loss='mse', optimizer = Adam(learning_rate=self.learning_rate)) # la funcion de perdida es el error cuadratico medio (mse)\n",
    "        return model\n",
    "\n",
    "    # metodo para guardar una transicion del agente (experiencia): (estado, accion, reward resultante, nuevo estado, done)\n",
    "    # done es un flag que indica que el entorno cayo en un estado terminal\n",
    "    def remember(self, state, action, reward, next_state, done): \n",
    "        self.memory.append((state, action, reward, next_state, done))\n",
    "\n",
    "    # retorna una accion.  \n",
    "    def get_action(self, state):\n",
    "        if np.random.rand() <= self.epsilon:  # retorna una accion aleatoria con probabilidad self.epsilon\n",
    "            return random.randrange(self.action_size)\n",
    "        action_values = self.model.predict(state, verbose=0) # obtiene los q valores predichos por el modelo para cada accion\n",
    "        return np.argmax(action_values[0])  # retorna la accion con el maximo q-valor predicho\n",
    "    \n",
    "    # retorna una accion.  \n",
    "    def get_action_on_test(self, state):\n",
    "        action_values = self.model.predict(state, verbose=0) # obtiene los q valores predichos por el modelo para cada accion\n",
    "        return np.argmax(action_values[0])  # retorna la accion con el maximo q-valor predicho    \n",
    "\n",
    "    # metodo para actualizar los pesos de model con una muestra (minibatch) de la memoria de experiencias de tamaño batch_size\n",
    "    def replay(self, batch_size): \n",
    "        # obtiene una muestra de su memoria de experiencias\n",
    "        minibatch = random.sample(self.memory, batch_size) \n",
    "        \n",
    "        # Obtiene arrays de  states, accions, rewards, next_estates  del minibatch\n",
    "        states = np.array([i[0] for i in minibatch])    \n",
    "        actions = np.array([i[1] for i in minibatch])   \n",
    "        rewards = np.array([i[2] for i in minibatch])   \n",
    "        next_states = np.array([i[3] for i in minibatch]) \n",
    "        dones = np.array([i[4] for i in minibatch])       \n",
    "        states = np.squeeze(states)\n",
    "        next_states = np.squeeze(next_states)\n",
    "        \n",
    "        # Calcula el target Q-value para la accion ejecutada en cada experiencia del batch \n",
    "        Qvals_next_states = self.model.predict_on_batch(next_states)  # predice Qvals de next_state con el modelo target\n",
    "        Targets_actions = rewards + self.gamma*(np.amax(Qvals_next_states, axis=1))*(1-dones) # si es terminal -> Target = reward\n",
    "        \n",
    "        # Construye el target completo de Q-values para los states de cada experiencia del batch\n",
    "        Targets = self.model.predict_on_batch(states)  # los target Q-values son los que predice el modelo actual, salvo el correspondiente a la accion tomada\n",
    "        ind = np.array([i for i in range(batch_size)])\n",
    "        Targets[[ind], [actions]] = Targets_actions   # actualiza el target Q-value de la accion ejecutada  \n",
    "        \n",
    "        # Ajusta el modelo  con pares  [states, Targets] del minibatch\n",
    "        self.model.fit(states, Targets, epochs=1, verbose=0)\n",
    "\n",
    "        # si no esta en el valor minimo del factor de exploracion -> hace un decaimiento del factor de exploracion\n",
    "        if self.epsilon > self.epsilon_min: \n",
    "            self.epsilon *= self.epsilon_decay\n",
    "\n",
    "    def load(self, name):\n",
    "        self.model.load_weights(name)\n",
    "\n",
    "    def save(self, name):\n",
    "        self.model.save_weights(name)\n"
   ]
  },
  {
   "cell_type": "markdown",
   "metadata": {
    "id": "UapRJwejf5Bz"
   },
   "source": [
    "### Familiarización con el entorno"
   ]
  },
  {
   "cell_type": "markdown",
   "metadata": {
    "id": "XEDPdKAshyRv"
   },
   "source": [
    "[`CartPole-v1`](https://github.com/openai/gym/blob/master/gym/envs/classic_control/cartpole.py#L14)"
   ]
  },
  {
   "cell_type": "code",
   "execution_count": 3,
   "metadata": {
    "colab": {
     "base_uri": "https://localhost:8080/"
    },
    "executionInfo": {
     "elapsed": 9,
     "status": "ok",
     "timestamp": 1655522551635,
     "user": {
      "displayName": "EDWIN RAFAEL VILLANUEVA TALAVERA",
      "userId": "14475481775736332436"
     },
     "user_tz": 300
    },
    "id": "B91n3iHMf7D7",
    "outputId": "07d3502b-fc40-4603-92f3-a869ef4d3c43"
   },
   "outputs": [],
   "source": [
    "env = gym.make('CartPole-v1')   # carga el modelo CartPole de gym\n",
    "state_size = env.observation_space.shape[0]\n",
    "action_size = env.action_space.n\n",
    "agent = DQNAgent(state_size, action_size)  # instancia el agente deep q-learning"
   ]
  },
  {
   "cell_type": "code",
   "execution_count": 4,
   "metadata": {},
   "outputs": [
    {
     "data": {
      "text/plain": [
       "4"
      ]
     },
     "execution_count": 4,
     "metadata": {},
     "output_type": "execute_result"
    }
   ],
   "source": [
    "state_size"
   ]
  },
  {
   "cell_type": "code",
   "execution_count": 5,
   "metadata": {},
   "outputs": [
    {
     "data": {
      "text/plain": [
       "2"
      ]
     },
     "execution_count": 5,
     "metadata": {},
     "output_type": "execute_result"
    }
   ],
   "source": [
    "action_size"
   ]
  },
  {
   "cell_type": "code",
   "execution_count": 6,
   "metadata": {
    "colab": {
     "base_uri": "https://localhost:8080/"
    },
    "executionInfo": {
     "elapsed": 456,
     "status": "ok",
     "timestamp": 1655522556734,
     "user": {
      "displayName": "EDWIN RAFAEL VILLANUEVA TALAVERA",
      "userId": "14475481775736332436"
     },
     "user_tz": 300
    },
    "id": "64A8YVhTkfbU",
    "outputId": "3464bd5e-fbcb-4e9e-f4e8-45025cc280ad"
   },
   "outputs": [
    {
     "name": "stdout",
     "output_type": "stream",
     "text": [
      "Initial State:  [0.01550311 0.03427658 0.03243146 0.01243252]\n"
     ]
    }
   ],
   "source": [
    "state = env.reset()     # resetea el entorno\n",
    "print(\"Initial State: \", state)"
   ]
  },
  {
   "cell_type": "code",
   "execution_count": 7,
   "metadata": {
    "colab": {
     "base_uri": "https://localhost:8080/"
    },
    "executionInfo": {
     "elapsed": 2,
     "status": "ok",
     "timestamp": 1655522563250,
     "user": {
      "displayName": "EDWIN RAFAEL VILLANUEVA TALAVERA",
      "userId": "14475481775736332436"
     },
     "user_tz": 300
    },
    "id": "o7PHqX53gF5n",
    "outputId": "9d1dc380-beab-4840-8edb-2f3c8c688f62",
    "scrolled": true
   },
   "outputs": [
    {
     "data": {
      "text/plain": [
       "1"
      ]
     },
     "execution_count": 7,
     "metadata": {},
     "output_type": "execute_result"
    }
   ],
   "source": [
    "action = agent.get_action(state)   # obtiene una accion del agente\n",
    "action"
   ]
  },
  {
   "cell_type": "code",
   "execution_count": 8,
   "metadata": {
    "colab": {
     "base_uri": "https://localhost:8080/"
    },
    "executionInfo": {
     "elapsed": 543,
     "status": "ok",
     "timestamp": 1655522568105,
     "user": {
      "displayName": "EDWIN RAFAEL VILLANUEVA TALAVERA",
      "userId": "14475481775736332436"
     },
     "user_tz": 300
    },
    "id": "BcdSUtdBgISx",
    "outputId": "9f102384-b0b1-44a1-c9a1-448a141877a8"
   },
   "outputs": [
    {
     "name": "stdout",
     "output_type": "stream",
     "text": [
      "New State:  [ 0.01618864  0.22891877  0.03268011 -0.26984407]\n"
     ]
    },
    {
     "data": {
      "text/plain": [
       "(array([ 0.01618864,  0.22891877,  0.03268011, -0.26984407]), 1.0, False, {})"
      ]
     },
     "execution_count": 8,
     "metadata": {},
     "output_type": "execute_result"
    }
   ],
   "source": [
    "#next_state, reward, done, truncated, extraInfo = env.step(action)  # ejecuta action en el entorno y obtiene: nuevo estado, reward y flag done (si es estado terminal)\n",
    "next_state, reward, done, extraInfo  = env.step(action)  # ejecuta action en el entorno y obtiene: nuevo estado, reward y flag done (si es estado terminal)\n",
    "print(\"New State: \", next_state)\n",
    "next_state, reward, done, extraInfo"
   ]
  },
  {
   "cell_type": "code",
   "execution_count": 9,
   "metadata": {},
   "outputs": [],
   "source": [
    "env.close()"
   ]
  },
  {
   "cell_type": "markdown",
   "metadata": {
    "id": "Mc0oWcXoDuLt"
   },
   "source": [
    "### Ejecutando el agente en el entorno CartPole\n",
    "\n",
    " "
   ]
  },
  {
   "cell_type": "markdown",
   "metadata": {},
   "source": [
    "Definiremos el valor de `score` como la suma de `reward`s acumulados a través de los episodios."
   ]
  },
  {
   "cell_type": "code",
   "execution_count": 10,
   "metadata": {
    "colab": {
     "base_uri": "https://localhost:8080/"
    },
    "executionInfo": {
     "elapsed": 1255233,
     "status": "ok",
     "timestamp": 1655524300289,
     "user": {
      "displayName": "EDWIN RAFAEL VILLANUEVA TALAVERA",
      "userId": "14475481775736332436"
     },
     "user_tz": 300
    },
    "id": "V3n-Gbq9DuLu",
    "outputId": "452c58db-b0d2-47d9-e8c2-cd26fe35fd8d"
   },
   "outputs": [
    {
     "name": "stdout",
     "output_type": "stream",
     "text": [
      "episode: 0/150, score: 11, e: 1.0\n",
      "episode: 1/150, score: 24, e: 1.0\n",
      "episode: 2/150, score: 12, e: 1.0\n",
      "episode: 3/150, score: 22, e: 0.99\n",
      "episode: 4/150, score: 11, e: 0.98\n",
      "episode: 5/150, score: 15, e: 0.96\n",
      "episode: 6/150, score: 21, e: 0.93\n",
      "episode: 7/150, score: 43, e: 0.89\n",
      "episode: 8/150, score: 32, e: 0.86\n",
      "episode: 9/150, score: 10, e: 0.85\n",
      "episode: 10/150, score: 46, e: 0.81\n",
      "episode: 11/150, score: 19, e: 0.79\n",
      "episode: 12/150, score: 24, e: 0.77\n",
      "episode: 13/150, score: 31, e: 0.74\n",
      "episode: 14/150, score: 24, e: 0.73\n",
      "episode: 15/150, score: 10, e: 0.71\n",
      "episode: 16/150, score: 21, e: 0.7\n",
      "episode: 17/150, score: 8, e: 0.69\n",
      "episode: 18/150, score: 11, e: 0.68\n",
      "episode: 19/150, score: 13, e: 0.67\n",
      "episode: 20/150, score: 12, e: 0.66\n",
      "episode: 21/150, score: 50, e: 0.62\n",
      "episode: 22/150, score: 9, e: 0.62\n",
      "episode: 23/150, score: 24, e: 0.6\n",
      "episode: 24/150, score: 15, e: 0.59\n",
      "episode: 25/150, score: 11, e: 0.58\n",
      "episode: 26/150, score: 11, e: 0.57\n",
      "episode: 27/150, score: 14, e: 0.56\n",
      "episode: 28/150, score: 7, e: 0.56\n",
      "episode: 29/150, score: 9, e: 0.55\n",
      "episode: 30/150, score: 12, e: 0.55\n",
      "episode: 31/150, score: 12, e: 0.54\n",
      "episode: 32/150, score: 16, e: 0.53\n",
      "episode: 33/150, score: 13, e: 0.52\n",
      "episode: 34/150, score: 12, e: 0.51\n",
      "episode: 35/150, score: 14, e: 0.5\n",
      "episode: 36/150, score: 11, e: 0.5\n",
      "episode: 37/150, score: 11, e: 0.49\n",
      "episode: 38/150, score: 8, e: 0.48\n",
      "episode: 39/150, score: 30, e: 0.47\n",
      "episode: 40/150, score: 7, e: 0.46\n",
      "episode: 41/150, score: 17, e: 0.45\n",
      "episode: 42/150, score: 10, e: 0.45\n",
      "episode: 43/150, score: 19, e: 0.44\n",
      "episode: 44/150, score: 17, e: 0.43\n",
      "episode: 45/150, score: 28, e: 0.42\n",
      "episode: 46/150, score: 13, e: 0.41\n",
      "episode: 47/150, score: 32, e: 0.4\n",
      "episode: 48/150, score: 62, e: 0.37\n",
      "episode: 49/150, score: 95, e: 0.34\n",
      "episode: 50/150, score: 15, e: 0.33\n",
      "episode: 51/150, score: 15, e: 0.32\n",
      "episode: 52/150, score: 13, e: 0.32\n",
      "episode: 53/150, score: 9, e: 0.31\n",
      "episode: 54/150, score: 9, e: 0.31\n",
      "episode: 55/150, score: 12, e: 0.31\n",
      "episode: 56/150, score: 12, e: 0.3\n",
      "episode: 57/150, score: 37, e: 0.29\n",
      "episode: 58/150, score: 19, e: 0.28\n",
      "episode: 59/150, score: 12, e: 0.28\n",
      "episode: 60/150, score: 9, e: 0.28\n",
      "episode: 61/150, score: 13, e: 0.27\n",
      "episode: 62/150, score: 12, e: 0.27\n",
      "episode: 63/150, score: 10, e: 0.26\n",
      "episode: 64/150, score: 8, e: 0.26\n",
      "episode: 65/150, score: 7, e: 0.26\n",
      "episode: 66/150, score: 12, e: 0.26\n",
      "episode: 67/150, score: 12, e: 0.25\n",
      "episode: 68/150, score: 10, e: 0.25\n",
      "episode: 69/150, score: 15, e: 0.24\n",
      "episode: 70/150, score: 8, e: 0.24\n",
      "episode: 71/150, score: 10, e: 0.24\n",
      "episode: 72/150, score: 20, e: 0.23\n",
      "episode: 73/150, score: 38, e: 0.22\n",
      "episode: 74/150, score: 138, e: 0.19\n",
      "episode: 75/150, score: 68, e: 0.18\n",
      "episode: 76/150, score: 36, e: 0.17\n",
      "episode: 77/150, score: 28, e: 0.17\n",
      "episode: 78/150, score: 17, e: 0.16\n",
      "episode: 79/150, score: 44, e: 0.16\n",
      "episode: 80/150, score: 27, e: 0.15\n",
      "episode: 81/150, score: 33, e: 0.15\n",
      "episode: 82/150, score: 67, e: 0.14\n",
      "episode: 83/150, score: 63, e: 0.13\n",
      "episode: 84/150, score: 94, e: 0.12\n",
      "episode: 85/150, score: 56, e: 0.11\n",
      "episode: 86/150, score: 62, e: 0.1\n",
      "episode: 87/150, score: 63, e: 0.097\n",
      "episode: 88/150, score: 52, e: 0.092\n",
      "episode: 89/150, score: 55, e: 0.086\n",
      "episode: 90/150, score: 114, e: 0.077\n",
      "episode: 91/150, score: 45, e: 0.073\n",
      "episode: 92/150, score: 47, e: 0.069\n",
      "episode: 93/150, score: 93, e: 0.063\n",
      "episode: 94/150, score: 167, e: 0.053\n",
      "episode: 95/150, score: 82, e: 0.049\n",
      "episode: 96/150, score: 68, e: 0.046\n",
      "episode: 97/150, score: 74, e: 0.042\n",
      "episode: 98/150, score: 45, e: 0.04\n",
      "episode: 99/150, score: 41, e: 0.038\n",
      "episode: 100/150, score: 52, e: 0.036\n",
      "episode: 101/150, score: 79, e: 0.034\n",
      "episode: 102/150, score: 115, e: 0.03\n",
      "episode: 103/150, score: 64, e: 0.028\n",
      "episode: 104/150, score: 114, e: 0.025\n",
      "episode: 105/150, score: 163, e: 0.021\n",
      "episode: 106/150, score: 65, e: 0.02\n",
      "episode: 107/150, score: 91, e: 0.018\n",
      "episode: 108/150, score: 82, e: 0.016\n",
      "episode: 109/150, score: 86, e: 0.015\n",
      "episode: 110/150, score: 202, e: 0.012\n",
      "episode: 111/150, score: 164, e: 0.01\n",
      "episode: 112/150, score: 121, e: 0.01\n",
      "episode: 113/150, score: 97, e: 0.01\n",
      "episode: 114/150, score: 137, e: 0.01\n",
      "episode: 115/150, score: 229, e: 0.01\n",
      "episode: 116/150, score: 220, e: 0.01\n",
      "episode: 117/150, score: 214, e: 0.01\n",
      "episode: 118/150, score: 156, e: 0.01\n",
      "episode: 119/150, score: 126, e: 0.01\n",
      "episode: 120/150, score: 135, e: 0.01\n",
      "episode: 121/150, score: 196, e: 0.01\n",
      "episode: 122/150, score: 215, e: 0.01\n",
      "episode: 123/150, score: 169, e: 0.01\n",
      "episode: 124/150, score: 158, e: 0.01\n",
      "episode: 125/150, score: 152, e: 0.01\n",
      "episode: 126/150, score: 151, e: 0.01\n",
      "episode: 127/150, score: 177, e: 0.01\n",
      "episode: 128/150, score: 194, e: 0.01\n",
      "episode: 129/150, score: 226, e: 0.01\n",
      "episode: 130/150, score: 165, e: 0.01\n",
      "episode: 131/150, score: 142, e: 0.01\n",
      "episode: 132/150, score: 158, e: 0.01\n",
      "episode: 133/150, score: 208, e: 0.01\n",
      "episode: 134/150, score: 215, e: 0.01\n",
      "episode: 135/150, score: 200, e: 0.01\n",
      "episode: 136/150, score: 219, e: 0.01\n",
      "episode: 137/150, score: 220, e: 0.01\n",
      "episode: 138/150, score: 249, e: 0.01\n",
      "episode: 139/150, score: 245, e: 0.01\n",
      "episode: 140/150, score: 232, e: 0.01\n",
      "episode: 141/150, score: 249, e: 0.01\n",
      "episode: 142/150, score: 235, e: 0.01\n",
      "episode: 143/150, score: 249, e: 0.01\n",
      "episode: 144/150, score: 249, e: 0.01\n",
      "episode: 145/150, score: 245, e: 0.01\n",
      "episode: 146/150, score: 249, e: 0.01\n",
      "episode: 147/150, score: 249, e: 0.01\n",
      "episode: 148/150, score: 224, e: 0.01\n",
      "episode: 149/150, score: 227, e: 0.01\n"
     ]
    }
   ],
   "source": [
    "done = False\n",
    "batch_size = 64    # tamaño del batch con el que se re-entrena el modelo neuronal\n",
    "EPISODES = 150      # numero de episodios\n",
    "\n",
    "env = gym.make('CartPole-v1')   # carga el modelo Cartpole de gym\n",
    "state_size = env.observation_space.shape[0]\n",
    "action_size = env.action_space.n\n",
    "agent = DQNAgent(state_size, action_size)  # instancia el agente deep q-learning\n",
    "\n",
    "score_list = []     # lista para guardar la evolucion del score\n",
    "epsilon_list = []\n",
    "\n",
    "for e in range(EPISODES):   # por cada episodio\n",
    "    state = env.reset()     # resetea el entorno. Devuelve Tuple[ObsType, dict]\n",
    "    state = np.reshape(state, [1, state_size]) #se hace reshape del state para ser un vector de entrada para la red neuronal\n",
    "    score = 0\n",
    "    for step in range(250):   # se prueba el agente hasta 300 pasos, sale de este loop cuando se cae en estado terminal (se cayo el pendulo)  \n",
    "        #env.render()  # renderiza el entorno (por ahora no activarlo, porque de forma nativa, el renderizado no funciona en colab)\n",
    "        action = agent.get_action(state)   # obtiene una accion del agente\n",
    "        #next_state, reward, done, truncated, _ = env.step(action)  # ejecuta action en el entorno y obtiene: nuevo estado, reward y flag done (si es estado terminal)\n",
    "        next_state, reward, done, _ = env.step(action)  # ejecuta action en el entorno y obtiene: nuevo estado, reward y flag done (si es estado terminal)\n",
    "        reward = reward if not done else -10  # si es estado terminal el reward es -10\n",
    "        next_state = np.reshape(next_state, [1, state_size]) # se hace reshape del state para ser un vector de entrada para la red neuronal\n",
    "        \n",
    "        agent.remember(state, action, reward, next_state, done) # almacena esta experiencia en la memoria del agente\n",
    "        state = next_state   # actualiza el estado actual al nuevo estado\n",
    "        score += reward\n",
    "        \n",
    "        if len(agent.memory) > batch_size:  # si hay suficiente experiencias en memoria del agente\n",
    "             if step % 5 == 0:   # hace replay cada 5 steps\n",
    "                agent.replay(batch_size)\n",
    "        \n",
    "        if done:  # si es estado terminal, imprime resultados del trial. El escore del trial es el numero de pasos que logro ejecutar el agente\n",
    "            #print(\"episode: {}/{}, score: {}, e: {:.2}\".format(e, EPISODES, step, agent.epsilon))\n",
    "            break\n",
    "    \n",
    "    print(\"episode: {}/{}, score: {}, e: {:.2}\".format(e, EPISODES, step, agent.epsilon))\n",
    "          \n",
    "    score_list.append(score)   \n",
    "    epsilon_list.append(agent.epsilon)\n",
    "        \n",
    "env.close()"
   ]
  },
  {
   "cell_type": "code",
   "execution_count": 11,
   "metadata": {
    "colab": {
     "base_uri": "https://localhost:8080/",
     "height": 392
    },
    "executionInfo": {
     "elapsed": 1336,
     "status": "ok",
     "timestamp": 1655524323710,
     "user": {
      "displayName": "EDWIN RAFAEL VILLANUEVA TALAVERA",
      "userId": "14475481775736332436"
     },
     "user_tz": 300
    },
    "id": "KESzDbm2eTuk",
    "outputId": "b32fc4ea-f95c-4298-86c3-2e282b7c3e54"
   },
   "outputs": [
    {
     "data": {
      "text/plain": [
       "<matplotlib.legend.Legend at 0x12f7b2b0130>"
      ]
     },
     "execution_count": 11,
     "metadata": {},
     "output_type": "execute_result"
    },
    {
     "data": {
      "image/png": "[encoded data removed]",
      "text/plain": [
       "<Figure size 640x360 with 1 Axes>"
      ]
     },
     "metadata": {},
     "output_type": "display_data"
    }
   ],
   "source": [
    "import matplotlib.pyplot as plt\n",
    "import matplotlib as mpl\n",
    "#x = range(train_episodes)\n",
    "\n",
    "mpl.style.use('classic')\n",
    "\n",
    "fig, ax = plt.subplots(figsize=(8, 4.5))\n",
    "\n",
    "ax.set_title('DQN-Learning Agent: Score')\n",
    "ax.set_xlabel('Episode')\n",
    "#ax.set_xlim(-1000,20000)\n",
    "ax.set_ylabel('Training accumulated reward')\n",
    "ax.plot(score_list,'-', label='score')\n",
    "ax.legend(loc='best')"
   ]
  },
  {
   "cell_type": "code",
   "execution_count": 12,
   "metadata": {},
   "outputs": [
    {
     "data": {
      "text/plain": [
       "<matplotlib.legend.Legend at 0x12f7b336730>"
      ]
     },
     "execution_count": 12,
     "metadata": {},
     "output_type": "execute_result"
    },
    {
     "data": {
      "image/png": "[encoded data removed]",
      "text/plain": [
       "<Figure size 640x360 with 1 Axes>"
      ]
     },
     "metadata": {},
     "output_type": "display_data"
    }
   ],
   "source": [
    "fig, ax = plt.subplots(figsize=(8, 4.5))\n",
    "\n",
    "ax.set_title('Epsilon value per episode')\n",
    "ax.set_xlabel('Episode')\n",
    "#ax.set_xlim(-1000,20000)\n",
    "ax.set_ylabel(r'Epsilon')\n",
    "ax.plot(epsilon_list,'-', color='r', label=r'$\\epsilon$')\n",
    "ax.legend(loc='best')"
   ]
  },
  {
   "cell_type": "markdown",
   "metadata": {
    "id": "6t76pXOU_85F"
   },
   "source": [
    "### Funcion para probar el agente entrenado  en el entorno CartPole\n",
    "\n",
    "play_CartPole()  no realiza entrenamiento, solo actua en el ambiente de acuerdo a su modelo aprendido previamente\n",
    " "
   ]
  },
  {
   "cell_type": "code",
   "execution_count": 13,
   "metadata": {
    "id": "kWpUawxj_85F"
   },
   "outputs": [],
   "source": [
    "def play_CartPole(agent, trials = 1):\n",
    "    env = gym.make('CartPole-v1')\n",
    "    #env = wrap_env(env)\n",
    "    scores = []\n",
    "    for trial in range(trials):\n",
    "        score = 0\n",
    "        game_memory = []\n",
    "        #state = []\n",
    "        \n",
    "        state = env.reset()     # resetea el entorno\n",
    "        #state = np.reshape(state[0], [1, state_size]) # se hace un res\n",
    "        state = np.reshape(state, [1, state_size]) # se hace un res\n",
    "        \n",
    "        for step in range(500): # en cada trial ejecuta 500 steps\n",
    "            env.render()\n",
    "\n",
    "            #action = env.action_space.sample()\n",
    "            #action = agent.get_action(state)   # obtiene una accion del agente\n",
    "            action = agent.get_action_on_test(state)   # obtiene una accion del agente\n",
    "\n",
    "            #next_state, reward, done, truncated, _ = env.step(action) # corre el entorno un step ejecutando la accion inferida\n",
    "            next_state, reward, done, _ = env.step(action) # corre el entorno un step ejecutando la accion inferida\n",
    "            next_state = np.reshape(next_state, [1, state_size])\n",
    "\n",
    "            score += reward   # acumula el reward (reward=1 en cualquier estado no terminal)\n",
    "            state = next_state\n",
    "            game_memory.append([next_state, action])\n",
    "            if done: \n",
    "                print(\"Play {}/{}, score: {}\".format(trial, trials, score))\n",
    "                break\n",
    "        scores.append(score)\n",
    "    env.close()\n",
    " \n",
    "    print(\"Score medio = {}\".format(sum(scores) /float(trials)) )\n",
    "    "
   ]
  },
  {
   "cell_type": "code",
   "execution_count": 14,
   "metadata": {
    "id": "8AJWl6iW_85I"
   },
   "outputs": [],
   "source": [
    "def play_CartPole_random(trials = 1):\n",
    "    env = gym.make('CartPole-v1')\n",
    "    #env = wrap_env(env)\n",
    "    scores = []\n",
    "    for trial in range(trials):\n",
    "        score = 0\n",
    "        game_memory = []\n",
    "        state = []\n",
    "        env.reset()\n",
    "        for step in range(500): # en cada trial ejecuta 500 steps\n",
    "            env.render()\n",
    "\n",
    "            action = env.action_space.sample()  # pick a random action\n",
    "\n",
    "            #next_state, reward, done, truncated, _ = env.step(action) # corre el entorno un step ejecutando la accion inferida\n",
    "            next_state, reward, done, _ = env.step(action) # corre el entorno un step ejecutando la accion inferida\n",
    "            \n",
    "            score += reward   # acumula el reward (reward=1 en cualquier estado no terminal)\n",
    "            state = next_state\n",
    "            game_memory.append([next_state, action])\n",
    "            if done: \n",
    "                print(\"Play {}/{}, score: {}\".format(trial, trials, score))\n",
    "                break\n",
    "        scores.append(score)\n",
    "    env.close()\n",
    " \n",
    "    print(\"Score medio = {}\".format(sum(scores) /float(trials)) )\n",
    "    "
   ]
  },
  {
   "cell_type": "code",
   "execution_count": 20,
   "metadata": {
    "colab": {
     "base_uri": "https://localhost:8080/",
     "height": 525
    },
    "id": "KrDZMraP_85N",
    "outputId": "7fe0e490-b699-40af-d593-3ef4fcdadb7d"
   },
   "outputs": [
    {
     "name": "stdout",
     "output_type": "stream",
     "text": [
      "Play 0/5, score: 10.0\n",
      "Play 1/5, score: 81.0\n",
      "Play 2/5, score: 16.0\n",
      "Play 3/5, score: 47.0\n",
      "Play 4/5, score: 18.0\n",
      "Score medio = 34.4\n"
     ]
    }
   ],
   "source": [
    "# prueba el agente 5 trials del entorno\n",
    "play_CartPole_random(5) #el video solo muestra la ejecución del último trial"
   ]
  },
  {
   "cell_type": "code",
   "execution_count": 21,
   "metadata": {
    "colab": {
     "base_uri": "https://localhost:8080/",
     "height": 525
    },
    "id": "rHrHMTun_85R",
    "outputId": "30fc9a3a-4a94-4b61-e2ee-d57c9511e28f"
   },
   "outputs": [
    {
     "name": "stdout",
     "output_type": "stream",
     "text": [
      "Play 0/5, score: 249.0\n",
      "Play 1/5, score: 229.0\n",
      "Play 2/5, score: 259.0\n",
      "Play 3/5, score: 216.0\n",
      "Play 4/5, score: 245.0\n",
      "Score medio = 239.6\n"
     ]
    }
   ],
   "source": [
    "# prueba el agente 5 trials del entorno\n",
    "play_CartPole(agent,5)  #el video solo muestra la ejecución del último trial"
   ]
  },
  {
   "cell_type": "code",
   "execution_count": null,
   "metadata": {
    "id": "XUseEQF9kSPa"
   },
   "outputs": [],
   "source": []
  }
 ],
 "metadata": {
  "accelerator": "GPU",
  "colab": {
   "collapsed_sections": [
    "oqXGU1hpuSFp"
   ],
   "name": "Sesion8_GameIA_DQN_CartPole_Ejemplo.ipynb",
   "provenance": []
  },
  "kernelspec": {
   "display_name": "Python 3",
   "language": "python",
   "name": "python3"
  },
  "language_info": {
   "codemirror_mode": {
    "name": "ipython",
    "version": 3
   },
   "file_extension": ".py",
   "mimetype": "text/x-python",
   "name": "python",
   "nbconvert_exporter": "python",
   "pygments_lexer": "ipython3",
   "version": "3.8.3"
  }
 },
 "nbformat": 4,
 "nbformat_minor": 4
}
